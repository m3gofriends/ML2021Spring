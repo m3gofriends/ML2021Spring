{
  "cells": [
    {
      "cell_type": "markdown",
      "id": "dae18158",
      "metadata": {
        "id": "dae18158",
        "papermill": {
          "duration": 0.005078,
          "end_time": "2022-11-20T02:17:46.077338",
          "exception": false,
          "start_time": "2022-11-20T02:17:46.072260",
          "status": "completed"
        },
        "tags": []
      },
      "source": [
        "### ---Public : 0.81600---\n",
        "### Strong baseline : 0.81410\n",
        "### ---Private : 0.80573---\n",
        "### Medium baseline : 0.52807\n",
        "### Simple baseline : 0.44862\n",
        "<br>\n",
        "解題思路:<br>\n",
        "代補充<br>\n",
        "<br>"
      ]
    },
    {
      "cell_type": "markdown",
      "id": "cdc04b13",
      "metadata": {
        "id": "cdc04b13",
        "papermill": {
          "duration": 0.003647,
          "end_time": "2022-11-20T02:17:46.092393",
          "exception": false,
          "start_time": "2022-11-20T02:17:46.088746",
          "status": "completed"
        },
        "tags": []
      },
      "source": [
        "![valid.png](data:image/png;base64,iVBORw0KGgoAAAANSUhEUgAAAYIAAAEGCAYAAABo25JHAAAABHNCSVQICAgIfAhkiAAAAAlwSFlzAAALEgAACxIB0t1+/AAAADh0RVh0U29mdHdhcmUAbWF0cGxvdGxpYiB2ZXJzaW9uMy4yLjIsIGh0dHA6Ly9tYXRwbG90bGliLm9yZy+WH4yJAAAgAElEQVR4nO2deZhU1bW330U3czMJCIigCDggzsRoMGo0GvRGiYlGjHGKkagxmhg1Gr+LQ3JznZOrohFNoiYKDjERIwaN0WgcwYgDINAyyEwzNtDMrO+PdbbnVHVVdXVD9VTrfZ5+9jn7DLVPV/f+nbXW3muLquI4juMULy0augGO4zhOw+JC4DiOU+S4EDiO4xQ5LgSO4zhFjguB4zhOkVPa0A2oLd26ddM999yzoZvhOI7TpHjvvfeWq2r3TMeanBDsueeeTJ48uaGb4TiO06QQkXnZjrlryHEcp8hxIXAcxylyXAgcx3GKHBcCx3GcIseFwHEcp8hxIXAcxylyXAgcx3GKHBcCx3GcncC8eTB2rG1v2QKq8Oab8NBDtp2NLVvi7U2bCtvGbLgQOI7j7ARuuAG+8x0YNgx22QVOPhmGDoWLLoJHH43PmzIFLr8cVq6E11+HDh1g8mR4+20oK4Mjj4QRI+BPf4KtW+Prxo8vnFAUdGaxiAwD/g8oAR5S1VvSjvcFHgE6R+dcq6oTCtkmx3GKj/POg9NOg298o+73+O1vYdYsuPPOuO6JJ2DMGBg5Ev72N6ubOBG6dbPyxhut/OlP4ZBDYMUK+PrXoaoKpk+HNm2sc7/7bli2zERh2zb497/t3o88AsOH231/9CO45Rb42c/q/gxZUdWC/GAd+6fAXkAr4ANgUNo5Y4BLou1BwNya7nvYYYep4zhNi+nTVe+/v2E+e+lSVVA95ZS632P7dtU991Rt3Vp106a4/sADVVu0sPuD6vXXq950k2pVleqnn9o506ap7rabXduhg+qgQaq33x5fU1amWlJi27featds26Y6ZoxdE8770pdUN26s+zMAkzVbf53twI7+AEcCExP71wHXpZ3zAPCzxPlv1nRfFwLHaXjmzFEtL89+fNky1Q8/jPdDZ9YQTJxon92tm3XoSdavV73yStWxY1Pr77tP9d574/0PP4yf4T//UV28WPXhh23/jjusk27XTnXNmsxtWLRI9Qc/UD30UNVZs6xu3Di77uWXVQ8+WPWaa1Q3bEi9rqrKfte//a1qRcUO/RoaTAhOx9xBYf8c4N60c3oBHwELgFXAYVnuNRKYDEzu27fvjv02HMfJSVWV6rx5qlu3Zj/n4INVDzgg+/FzzlHt1El1yxZ7gw6daK577ijbt6vec4/qz39u7Ve1N+hbb40/f+bM1GtOOMHq9947rtu2TbVHD9UBA+K6m2+O73H//apf+IJtl5SoLllighIsgMZKLiFo6OyjZwEPq+qdInIk8EcRGayq25MnqeoYzI3EkCFDcsTfHcfZUYYOhffftyDnmDHVj0+dagFPgIULoXfv1OPbt5tffM0a+PBD84sHtm6FkpLCtHvGDPOjAyxfbsHbQw4x33urVrB5M7z1FgwcaL7+efPgpZfs/LVr4/t89BEsXQoVFRbkffdd89Uffzz85z9wySV23k9+AocfDj162P5eexXmueqDQo4aWgj0SezvHtUluRB4EkBV3wLaAN0K2CbHcWpg5kwrx46FDRuqH//Tn+Lt0JHOmgWvvmrbH35onS9Y0DOcA6lDJXeUlSvhmGPgjTfguOPgV7+y+i98AZ56Ci67LG5H377QuTP885/whz/A/vvDCSdAu3ZwzTWweDGsW2fnvviildu3w/e+B6NHWxD3kUcgLIXyrW9Z0HjEiJ33PA1KNlNhR3+wEUmzgX7EweL90855ATg/2t4PWARIrvt6jMBxCkNFhbk4QmASVJ96KvWc3/1OVUT11FPNfTJihNUHV8nFF6tecIFt77KL6hlnqH7967FbZeXKurVt6lRzNT37rGqXLqpvvhkHXA86KL5/z56qf/tbvH/VVapdu6qOHm3tKitTbdlS9ZhjVPfd144/+aSdu88+ds5XvmJB3XCPa69VXb7c2vHGG+Z+KqSLq1DQEDEC+1xOBmZio4euj+puBk6NtgcBb0QiMQU4saZ7uhA4jZFf/9pGeTQkCxdaBz13rgVIwwiTmTNtxMzkydmv3bZNtXdv1R/9SD8fvZLs6AMHHWQBz3XrrNPs2FG1stI61+AzB7vu7LNVe/UyX3voVJctq9uz/fd/2/UDB1p5xRWq/fvH9w0/Z56punmz/R7uusviBiFA/NJLdk7LlqqffWZ127ervv9+fH2rVjYK6Jpr4md5++26tbmx0WBCUIgfFwKnMXLQQapHH1336+fMUX300dS6f/zDOtLly1Vff906wTByZP58G4mS5JBD7D/6yiutPPFE66TbtbP9//mf+Nx166zzX7/e3m6nTbNzjjrKygcfVP32t1X79FF97jmzBNavt7fxSy+1e7z4YvzWDapPP21iNG2aHb/vvriD7d7dyoUL6/b7Sb71g2rbtlYOGmTlgAH2Fv+nP2W/x9atqnvtpXr55an1a9dWF5Rp0yyA3L69CUtzIJcQNHSw2HGaBWvXmk+5roweDXfcAd/8JrRvb3V33mm+6yeftJmnwQ+/667mGwf44AM48EALcL7/vtVNn27liy/atVVVtr9ypZWbNpmv+4YbzK9+1VXQqZMdmzPHyk6d4EtfsuvPOAM2boQXXoBVq8zfDvCVr1hb7rjD9o8+Grp3h912s/2jjoqfb/BgeOWV1JmyNaEK77xjwdgPPrDJVxs3gojFLvr3t88++WT7vd10E7Runf1+JSUwbRq0bJlaX1YGvXpBaal9RocOsN9+9tyVldXPb454ignH2QmsXWudZL6Ul1vKALDOcfZs216YGE4ROudx4+C552z7rbes0w+88oqVQQTAgrWBu++Ot5cvt/KTT2z7scdMaN55x+4LsGhR/NlHHmnbGzdah//ss7YfhKC0FH75S9seMsREIMn++8fPMHiwlbUJFv/pT9aGk06yTvzKK63+O9+BFi1g1CgTo7PPhvPPt05cJPc9W7e2a9P56U/hF78wsXvmGav75S9Tf3/NGRcCx9kJrFuXXQgqK+PRK4Gf/9zSHRx1FAwYkFkIPv3Uytdes6GMpaXWYc+bZx3a7rtbUjOI33R79ozv0b69iUKLFtYRV1TYW/Of/2zH337bylmzYiHQaHB2p05w8MHWufboYSkUQicehABsiOnatTYaJ50WLWwoKpgoQO0sgvvus3LGDDj3XPusXr3Mglm82OratDHB2G+//O+biZ/+1NJQ9O8Pe+yxY/dqirhryHHqwFVXWQd+8cXWuYVhllu2VHclXHihuWs+/tj2t22Df/zDOt033rC6+fOtXLjQhlzeeae9uZ97buwa6dfPhj52726d1SGHWD6ajRvtTX6ffUwgliyx8qijbDz/HnvYWP8pU2BChkxe06fbPVq0iN1bnTrZ2PvLL7fruyUGdSeFAMy1ko2RI02cdtkl/v3kw8cfm1Bdeqn9bkaNMndWsFicnYsLgePUks2b48Rjw4ZB27bxsVWrzI0C9pa8YIElI9u40ayC+fPh/vvtvMsvt7f7Z5+NO+AFC8wN9Ne/2v4BB5jogLksHnjAxuUfdRR88YsmBMHF9O1vxxOjevSwaydOtAlU3btn70Q3brTyiCNiCyO4dG691cogYiUl9laeL8OH2094nnwtgk8+sfLii+05nMLiQuA4teCmm+yNPtCvn4lBICkEV1wRd6Bgb7g33hj78//f/7PAZFlZfM85c8xPHejfP94OPvsNG+zt+JRT4OGHLfg7YwYMGgRz59o5QQjAhKBVq9Tn2Gsvc0e1bm3Xt2hhz5EuBIGBA00Eevc2F1VtCdfkaxFUVlrZsWPtP8upPR4jcIqabdtyLxqSZPt268h/8Qvbv/BCK995Jz4nxAk++ywWgY4drSP8zW9MBE47zQSle3fzcQf/dmkpPP54arqDZNqCXr1i//Uee5hr6oMPYothv/1iEUoXgmQgt2VLc9kAfPWrVg4eHN+7tDTVygETjAEDqruF8iW4y/K1CMLvoEOHun2eUztcCJyiYtMm+PGPzU2yapX5rv/+9+znz50L69fbdvDjA3TtCg8+aAHfZJA4bIe3+vvus9QEBxxgI3zKymx/1Kj4moMPtvLQQy3o3KGDxQJ694a9905tT7AKQqoDsFEzt95qFkIQgp497b6/+Q1897uxEHTvbiOGrr7aPuOuu6zTHzo09uN36pR59M0998RpHGpLbS0CF4L6xV1DTlHx1lvwf/9nY92PPdZcEB99ZEMU05k1y8bo9+0Lzz8fu13AhkuKxJ1nIAjBhAnWWV98sZ1XWQl/+YsNgUzv3M47z964Kyps/5xzbDjk+edXb9ORR9pw0uTIlrZtLV8OxAnQevSwz73iCtsPQrDHHrG7Jdz/lVfM8pg1y/bT3UKBE07IXJ8PNVkEU6daYPi556x9lZVmLRXDGP7GgFsETpNm2TL43//NfzJXGIP/739bYBbi8fXpXH65dUTLl1tysRDAvOEGuO462+7aNfWas8+2yU0vv2wTncKb9bnnmhB8+cvVP+erX7V1bdu0sf2LL87e/rPPts8+/PDMx5OuoSRJIUjni1+040mLYGdTk0UwapQNk33+edtfu9atgfrEhcBp0vzxjzYmf9Ys8/e/9lrqcVUbvROEIgjBG2+YHx/iN/Ekmzeby+iHP4R774X33rO37rZtrdMKM3vTLQKwDn/9ehOC2nD33TaCKNcoma5dzT2THvwNBJdRv36p9UEIki6ldAopBDVZBCH2EL6TykoPFNcnLgROk2baNCsrKmwY5THHWM74wEsvWR75//1f2w9CsHKljeWHVIugqsrEI9TtsYdZA1/+so3W6dMndWZqukUQaN3aZr3Whh494NRTa3dNOnvvbQHk//qv1PrddrM0zIcdlv3aLl2sbAiLIHxmEAK3COoXFwKnSROEYPnyuBNJpltYvdrKBx4wq+Djj+FrX7O6iRPja8FSLnTtaiN6gpXQrZu5d264wfaXLk39/EwWwUknmf+9XbsderQ6c+CB1YO97dvbbNxc+fNbtrTOt5AWQTYhCAH5GTOsdCGoXzxY7DR6liwx10z6W65qqhAsXmzbyVw8oZOfP9/G8a9bZz7899+P0z5UVFgg+NxzrcP81a/imbTBpXLccRYzOO641DZkEoLnn685501DEGIQubjiCosZ7GyCRZDuGnr9dRv+OmiQ7Yfvs7KydhPXnB3DhcBp9Nx0k73Rr1mT+pa4aFE88aiiwgQDUoUg6f8fPtw6pGHDzBoIycWWL7eRONu3m7voS1+ykUUQC4FIXJckuIbatzf30aZNjVME8iXMkdjZZLMIzj3XRDgIxOLFNvJq7drqQ2edwuGuIafR8+KL9vYfRu0EwtsjWGeeFILFi83f/skn5hsfOdLOOf98C0yGZGilpSYwjz5qAnD44ZbMrbzcjqdn1EwnWAQdOtjcgUzJ15zsFkEQ6qRgv/22Cby7huoPFwKnUfPpp3FmzmTHD+YuAhtdkhSCigobTfTccxZA7t4dbrnFJlHdfLOdE3LlB5fE9OmWqwfiIZaZ5gmkEywC77Ryk80iCLGBxYttAlzr1ib8a9f6qKH6xIXAaXCWLoWnn67e0UO8kLhIvOBK4KWXLDA6cGAsBCE3z+OPW1lVZULQpQvcdlvsd/7CF+D3vze/fyCkWwhDLLt2tfw6uWjb1nzvuTJwOpmHjyZTe2zdat/T0UebZVVV5eJanxRUCERkmIjMEJFyEbk2w/Ffi8iU6GemiKwuZHucxsnVV9tqUJnG3ZeXW2e7//6pQrF+vU0KO+EEC+wuWWLB33CPDz6Iz83k3hGBCy5ITeoWrINgEdTkFgp07eqdVk1kGj6aPpGvrAxOPDEeOeS/0/qjYEIgIiXAaOAkbJH6s0RkUPIcVf2Jqh6sqgcD9wDPFKo9TuMlDPucNy814RrYfqdO1kknheC112zS14knmhBMm2ZvmPvuWz3ImKtDT+bZD0HeYBHkKwQ9e2afT+AYmSyCkNIiUFYWT9QDdw3VJ4W0CA4HylV1tqpuBsYBw3OcfxYwtoDtcRoJqjZCJ7gGli6NXTAzZ6aeG4KG++1nsYKQO//5581S+PKXrcMO9b16WR6gJLk69J49rUy6iGprETzySLxur5OZTBZBuhB06AAHHZS679QPhRSC3kAiXyMLorpqiMgeQD8g45gLERkpIpNFZHJFpnwATqPiySdTUzMnefFFe2svKYmDs0uXmm8YbNnBRx6Jzw8Ti/r1M+GYP9/K8ePNGmjbNvWtvmdP8/+Djf6Bmi2C2bPh17+O64JFkLxvLvbfPzVdtFOdTBbB3LlmhYX5DWVlljojnOtCUH80lmDxCOBpVd2W6aCqjlHVIao6pHu+r2lOg7BlC3zve3FKh3Suv95SNQwdakHBDRts3PjQoZa64Te/ge9/P3YRhdEjoXP++GPL/TN/vs0LgFS3zH77wde/bmJw7rlWV9OfTL9+qWkj+vQxgSnGtWsLRfj9Ji2Czz4z4Q4J8kLAPaxvnC2fkrPzKaQQLAT6JPZ3j+oyMQJ3CzVpzjzTRuG8954FcufNq36OqrkDTjnFxGL9+njR9L59Y/fQ1q2WGnnTptg1FDrlq682N06bNvFM4xNOsNTNs2fbnIEBA+Ddd+Pc/SEjZ760amX5ipLuImfHELE3/aRF8Nln9r2HlBZBCK680so+fXDqiULOLJ4EDBSRfpgAjAC+k36SiOwLdAHeKmBbnALzt79ZBxpGgiRz9wdWrrTJWwMGxIuxhEVhevSI3xZbtrS3/T59bLtjR3PzlJTYvIJ+/cz1FN70+/e3CWHpnHiiLbxy7LG1f5599639NU5uSkurWwQHHRTnbwpCcM45toqbD8mtPwpmEajqVuAyYCIwHXhSVaeKyM0iksyxOAIYp5rvgoFOY2PLFhv3vXIl/OtfVrd6tXX6ST791MoBA8z8Ly2NhaBnT4st/OQnsM8+Vjd/vt2zQwc7t3cUYRoyJL9AbqtWdj93MTQOkhaBamwRdO5sdcmO30WgfiloriFVnQBMSKsblbZ/YyHb4BSekO9n5UpzCXXqZCIwb55N+AqEtA0DBtgM0kGD4MMPra5HD0vvcMYZ5i46+2xbyH316jhouOee1nkEa8JpWgSL4PHH7fsFE4Iw/sM7/4ajsQSLnSZMEILly+2fOozaSY8TlJebrzgsmpJcrSu5otaRR1pKiEAYTx7iBC4ETZNgESRHhWWKETj1jwuBs8MEF9C8efaPHoQgPU5QXm6+/jBc8KKL4mPpKZKTrp9gEQQBOeSQndJsp54JFsHgwXFd0jXkw0UbDk9D7dSZTz4xv32wCEIgcP/9rWPPZBEMGBDvJycPpZMcwx8sgh/8wGYNe576pknLlvY3EhLNgbn7MsUInPrFLQKnTqxaZW/mP/tZ9aBwjx424icsDh9IFwKwc9KTyUGqEIQ3xd12i33LTtOjtNQsxnXrTMzffNOyu/bvby8OtR3m6+w83CJw8kbVJop94xsW0N24EZ54InYFBbp3t7f4ZN6gNWssfpAuBL0zzjXPLARO0yZYBFu22N9ImOdx6qk2QqymlN9O4XAhcPJmzhybGbx4sSV5a9XKRgo99VTqebvuap33unVxXXLoaD60bBmPPvLkY82DpEWQdAOJ5J/OwykM7hpy8ibMAn7pJXj1VRujX1ZmqSKSdOtm9UkhSA4dzZfQObhF0DwIFkG6EDgNjwuBkzdBCGbMsOyhw4dXT7bWpYv9wwchULWhoNdGq1Ek8//XRBACtwiaB2H4qAtB48OFwMmbN9+M0wl36mSxgZAMLuTyDwG/sjKLETzwAFx3nbmVwBZ5z5cwhNQtguZBGD7qQtD4cCFw8mLDBpsF/K1v2f7xx9s/dpjktdtuViaFYN06uO8+OPRQq+vSpXaf6a6h5kXSIvDvtHHhwWIHMBdOeKvPxKefwrZtNsKjtBTOP9/qgxC0agXt2sVv8UEIVqyAYcPg4Ydrn/Onf3/LQVTqf6XNgtJSm0PgFkHjwy0Ch3vvNVfP++9nPyesJrX33rZ4TPpC76tW2Zv/YYfZflmZicvSpWYJHHBAnEwuX666CqZMqd01TuOlZUuzLDdtciFobPi7VpEzfTr86Efxdrb0DUEIBg5MrQ8WwerV8PrrcX34R9+2LZ45WlvatKmeesJpupSW2t8JuBA0NtwiKHLmJxYTDf+kmZg1y9w+IUFYIFgE6ST/0WsbG3CaJy1bmuUILgSNDReCIifkCYJUIVi0yHL7fPCBBYmnTatuDUC8TOR++6XWJ//R62oROM2L0tI4HYkLQePCXUNFTlIIVq2y+QF33AF33gnLlsHYsXGqiLAGcBIR8+Onp4pwi8BJJyxKDy4EjQ23CIqcIARt2pgQlJdbIrm99rIFRNq0sYXlIXteoIMOqp4iwC0CJ53k6C8XgsaFWwRFThCCvn3NNVRVZftXXw3f/CaMGGH7zzxTu7V/k+PE3SJwwC2CxoxbBEXEunW2mHtYNxZMCNq1szf6VatsaB/YUpJgrh8Rm0gW4gH54BaBk07SIvAJZY2LggqBiAwTkRkiUi4i12Y559siMk1EporI44VsT7Hz9NPw059awrhAZaXl8unSxSyCIAQ7OmzTYwROOm4RNF4KJgQiUgKMBk4CBgFnicigtHMGAtcBQ1V1f+DHhWqPEy8Un5ykFYSgc2ezCDZutPpgEdSV8I/eurXPBXAMjxE0XgppERwOlKvqbFXdDIwDhqedcxEwWlVXAajqsgK2p+j56CMrMwlBukWwo0LQtq25lNwacALBIujY0YWgsVFIIegNJKYrsSCqS7I3sLeIvCEib4vIsEw3EpGRIjJZRCZXVFQUqLnNn1xC0LmzCcHOsghE7J/d4wNOIMwhOOccKClp2LY4qTR0sLgUGAgcC5wFPCgi1boOVR2jqkNUdUj3kNXMqRUVFXHen08+sZwvkGoRqNp5sHPcOWVlbhE4MStXWnnxxQ3bDqc6hRSChUCfxP7uUV2SBcB4Vd2iqnOAmZgwODuZYA2ccYbl/5kxw/aTFgHAkiVW7qhFAG4ROKn8+tc2YGHw4IZuiZNOIYVgEjBQRPqJSCtgBDA+7Zy/YtYAItINcxXNLmCbipYnnjC//ckn237I+ZK0CGDnCsGPfwzf//6O38dpHvTuHa9n4TQuCiYEqroVuAyYCEwHnlTVqSJys4icGp02EVghItOAV4CrVXVFodrU3JkxA0aNMhdPkspKeOwxOOuseHbw4sVw+eUmCIWyCC691CalOY7TuCnozGJVnQBMSKsbldhW4Mrox9lBzjzTksRdcAH06xfX//GPtiDIJZfEozUeegheecW2k0KwdKmVO0MIHMdpGtRoEYjIeyLyQxHxsF8jp0X0bYa3ejDr4P77bcGYIUPiGZ3J1ciSw/lCQM+FwHGKh3xcQ2cCuwGTRGSciHxNJNeihk5DERK/zZplC80DvPUWTJ1q1gDEHf7ixfF1HTtamgkwISgt9eF9jlNM1CgEqlquqtdjgdzHgd8D80TkJhHZpdANdPIn5AI67zzLGLp8eTw66LjjrGzf3spFi+Lr1qyJ61evdmvAcYqNvILFInIgcCdwO/Bn4AygEvhn4Zrm1Jb0Rd43bIDNm207dO6lpTZ6KEzu6dgRvva12CLYvt2FwHGKjRqDxSLyHrAa+B1wrapGSQh4R0SGFrJxTu0IKaQDmzbBli223apVXF9WZiLRoUMsCGAisXWr5wZynGIjn1FDZ6hqxrH9quqDAxsR6UKweXNsEaQLQUWFWQNJ2rWzoaZuEThOcZGPa+j7ybQPItJFRH5ZwDY5dSSTRZBJCMLIoXQhCHECFwLHKS7yEYKTVPXzZc2jTKEnF65JTl1Zvz51PykEmXLBZ7IIwIXAcYqNfISgREQ+7xpEpC3gXUUDsWoVzJyZ+VhVFRxzDFx4oe2HGEGLFqnDQYMQpK8S5RaB4xQn+QjBY8DLInKhiFwIvAQ8UthmOdk4+WTYZx8b3ZNOVRXsuafNLIbYIki6hSC7ayhYBB4sdpziosZgsareKiIfAsdHVb9Q1YmFbZaTjbfftnLmTNh339Rj69dbZx7e6LMJQTbXkFsEjlOc5JVrSFVfAF4ocFucPNh7bxOBSZOqC0FVlQlB6PiDECTjA+AxAsdxUskn19ARIjJJRNaJyGYR2SYilfXROKc6faIVHiZPTq1XNSFo3z7uyDdvthhBvq4htwgcpzjJJ0ZwL7Z62CygLfB9bFF6pwEIS0lOmpS5fkdcQx4jcJziJK8UE6paDpSo6jZV/QOQcW1hp/CEIaJTp2au9xiB4zi1JZ8YQVW0wtgUEbkNWEzDr3XcrFmxwlI99OhR/di6dXGpGqeTDpPJkq6hbDGCmkYNuRA4TnGRT4d+TnTeZcB6bB1iX3CugOy2G/TsmflYePPfvt06eoDx4+GrX7XtdIsgU4zALQLHcZLktAhEpAT4laqeDWwEbqqXVhU5YTZwJpKzh6uqbKLY8OFxXaZRQ+lCENYn3iUtibjHCBynOMlpEajqNmCPyDVUa0RkmIjMEJFyEbk2w/HzRaRCRKZEP77UeYKQOTSgai6hXXe1/fXrYezY1HPat7csoiLZheC442DcODjiiOrXglsEjlNs5BMjmA28ISLjMdcQAKp6V66LImtiNHACsABb4Wy8qk5LO/UJVb2sds0uDpYuhd13j/c3bTKX0K67wrJlJgT33GMdfbAi2rUzEWjdOs4+mh4jKCmx9Y3T8RiB4xQn+cQIPgX+Fp3bIfFTE4cD5ao6W1U3A+OA4TVc4yRIriIGcaA4WASvvWbzCW65JT4n2ZlnixFkwy0CxylO8kkxUde4QG9gfmJ/AfDFDOd9S0SOBmYCP1HV+ekniMhIYCRA375969icpke6EIT4QBhN9Nhj9nb/ve/BlVdaXbIzz+YayoZbBI5TnOSzQtkrgKbXq+pxO+HznwPGquomEfkBlsyu2n1VdQwwBmDIkCHV2tLUOfdc68Dvv9/227e3TjEQE1YAABjUSURBVH/RIrMCNm2y9YiDEASLYP58C/x26hTfK90iqI0QBBHxYLHjFBf5xAiuSmy3wYaObs3juoXYUNPA7lHd56jqisTuQ8Btedy32fHxx6mddceO1ukvXAjXXAPvvQfvvFPdNbRoUWoMATILQXqMIBtuEThOcVJjjEBV30v8vKGqVwLH5nHvScBAEekXjToaAYxPniAivRK7pwLT829682HjRltnILA1ktlFi+xn8WLbT7cINm2KrYH//m8rwxyBVq1qHyPo29esggED6v4sjuM0PfJxDSVHm7cADgM6ZTn9c1R1q4hcBkwESoDfq+pUEbkZmKyq44HLReRUzMJYCZxf+0do+mzYkDo/IEwUCzGCDRusTLcIIBaCm26ynzDTuC6uoV13jT/DcZziIR/X0HtYjECwDnsOcGE+N1fVCcCEtLpRie3rgOvybWxzZcMGswhCyogwFHTJEuvoQ0K5dIsAYiEIAhBIDh/NVwgcxylO8hk11K8+GlLMbNxo7qD16801EyyCqirz7+djEaRTlxiB4zjFST7rEfxQRDon9ruIyKWFbVZxETr6VatMEDQaF1VVZce2bYuFAqBz57hzr0kIahMjcBynOMlnQtlFqro67KjqKuCiwjWpeBg8GL773dgVtGpVap6h9etjkdi4MRaCsrJ4hE8+FoELgeM4ucgnRlAiIqJq76lR6gjvWnaQ7dttTYHkugKrVsVuobZtzSJo29b2N2ww11BpqXXs7dvDmjXZhaBVq9iacCFwHCcX+VgEfweeEJHjReR4YGxU59SRjRuhvLx6fVIIunQxt87atfE169fHw0PD5K9cFkGIKXiMwHGcXOQjBD8D/glcEv28DFxTyEY1Z37xC0v/fOKJ1Y8lXUMhVXRwB61cCc89B/37234+rqEgIm4ROI6Ti3xcQ22BB1X1t/C5a6g1UFXIhjVXHnjAXDbz5lU/lm4RJLnlFpgzB/7wB9uvjUXgQuA4Ti7ysQhexsQg0Bb4R2Ga0/yprIQhQzIfy2QRBN5916yBY46x/Xwsgu3bbduFwHGcXOQjBG1U9fP5ptF2u8I1qfmyfbu9pQ8bBnvtVf140iLo3Dn1WEVF6tKS+VgEAY8ROI6Ti3yEYL2IHBp2ROQwYEPhmtR8Wb/e5gh06mRrCfzgB6nHc7mG1q6NF52H2gmBWwSO4+QinxjBj4GnRGQRlmaiJ5BhfSunJkLwtkMH6N0b+vRJPb54cewaSrcIwnWBmlxDyc7fhcBxnFzkk2JikojsC+wTVc0AdslxiZOFpBBA/FYPcMIJ8NJLsTikWwTJ68CGkbZsGc8zSMctAsdx8iUf1xCquoV4hbG/A+8XslHNlcpKK4OvPykEt99uM40ffdT2MwlBmEMAMHIkPPRQ9WRzAY8ROI6TLzktAhFpi60z/B3gEGyt4m8ArxW+ac2PXBZBhw6w7762SA3UbBHst5/9ZKNdIpzvFoHjOLnIahGIyOPYOsInAPcAewKrVPVVVd1eP81rXgSLIJMQtG2bGheoSQhqIjkqyYXAcZxc5HINDQJWYauGTVfVbWRYu9jJn2ARZHINtWmzc4Vgn33ibRcCx3FykVUIVPVg4NuYO+gfIvJvoIOI9KivxjU3crmG0i2CmkYN1cRuu8XbHiNwHCcXOYPFqvqJqt6gqvsCVwCPAJNE5M16aV0zI5drqHXr1KGg7dpVf5NPBotrIhlEdovAcZxc5DVqCD5fxP4qYA/g2nyuEZFhIjJDRMpFJOs1IvItEVERyZJ8oXmwdi2UlMRDPoMQtGljHXfSCmjdOg74lpRYWRuLAKBF9O26EDiOk4u8hSCgRo2jhqLkdKOBk7B4w1kiMijDeR0wa+Od2ralqVFZaZ15eFtPCgGkCkGrVrEQhHhBbYUgBIy3bq1bex3HKQ5qLQS14HCgXFVnq+pmYBw2FDWdXwC3AhsL2JaC8s47tohMTaxdmzlfULAQkq6h0lITApG4vrZC8PDDcNhhcepqx3GcTBRSCHoD8xP7C6K6z4lyGPVR1edz3UhERorIZBGZXFFRsfNbugNUVsLQoXF66Gz85S/w5puZ00RksghETCjatImForZCMHQoTJ6cffax4zgO5JhQJiJX5rpQVe/akQ8WkRbAXcD5NZ2rqmOAMQBDhgxpVENYKyttOcjFi7Ofs3kzfOc7tsrYEUfE9SUl1tFnEgIwoWjbtu5C4DiOkw+5ZhaHbmcf4AvA+Gj/FODdPO69EEimVds9qkvefzDwqpjTvCcwXkROVdXJedy/URBcQitXZj9nyhQTAbDso0nat487+mxCEISiNqOGHMdx8iWrEKjqTQAi8hpwqKqujfZvBHK6ciImAQNFpB8mACOwVBXh/muAbmFfRF4FrmpKIgCxEKxaVf3YoYfCRRfFqaXB4glJgvsHqnf0LgSO49QH+cQIegCbE/ubo7qcqOpW4DJgIjY7+UlVnSoiN4vIqXVpbGNkQ7QyQxCC7dvhvPPgn/80S+D99+GttyztNMDRR6den7QI0hPInXoqnHmmHW/fPh4O6jiOszPJZz2CR4F3ReQv0f43gIfzubmqTgAmpNWNynLusfncs7GR7hp64w3LIPr22+YGWrUKJk2ywO1dd1X38++zD/TIIqvf/76VZ57p8QHHcQpHPusR/I+IvAB8Oaq6QFU9DXVEumto7FgrBw6EmTNhxQpYuNCGcPbuXf36Z56p+TOOPTZ12KnjOM7OJNeooY6qWikiuwBzo59wbBdVzREeLR6SFoEqPPWU7a9fb+XcuTahq1u3jJdnXU8gySWX7HAzHcdxspLLIngc+DrwHqlZRyXaz7D8evERhGD1attevtz2ly61ct48K7MJQTr/+ldqcNlxHKfQ5Bo19PWo7Fd/zWl6hGDx9u2wZElcv2xZXA/QvXt+90sPJjuO4xSaXK6hQ3NdqKr/2fnNaXokU0ssTMySWLEi9bx8LQLHcZz6Jpdr6M4cxxQ4bie3pUmwYYO5b4491sb3ZxOCdFwIHMdprORyDX2lPhvSFFi50tYJXrYMTj8dnngiVQgWLLCyXbvqSehcCBzHaazkM48AERmMpZJuE+pU9dFCNaqxMmeOicBXvgJPPw3jx2e2CLp3j4PEYGsL+Kxgx3EaKzXOVRWRG7DF6+8BvgLcBjSbmcG1Yc0aKy++2MpFi8xVFGb8Botg111Tr+vWLb9hoo7jOA1BPkkLTgeOB5ao6gXAQUCn3Jc0T4IQ9OplZVWV/fTsafvBIsgkBI7jOI2VfIRgg6puB7aKSEdgGalZRYuGbELQtastJBOGj6YPFXUhcBynMZNPjGCyiHQGHsQml60D3ipoqxopQQi6dDG/fxCCdu0sBUQQgmARtG5tk8PynUPgOI7TEOSaRzAaeFxVL42qfisifwc6quqH9dK6RsCUKXDQQebjD0LQsWM8MigpBCHxXOj4O3WytBOZcgw5juM0FnK5hmYCd4jIXBG5TUQOUdW5xSQCEyfCIYfA735n+2vWWKffsmUsBBs2xEIQCBZBWZmlo/75z+u/7Y7jOPmSVQhU9f9U9UjgGGAF8HsR+UREbhCRveuthQ1IGAX0739buWZNvJB8JosgEGIC7dvD4MGwyy7112bHcZzaUmOwWFXnqeqtqnoIcBa2HsH0gresEdCli5UhxXRlZc1C0K5dPGegffv6ba/jOE5dyGceQamInCIijwEvADOAbxa8ZQ1AVRXcfrstRg/x2P/Vq63MxyJwIXAcp6mRVQhE5AQR+T2wALgIW6e4v6qOUNVn66uB9cnf/w7XXAOTo1WTQzroYBFkE4K2bV0IHMdpuuQaPnodtibBT1U1w9LszY+QMXTdOiszCUHfvrbdrp2dH4LFYXZxu3axALgQOI7TFMgVLD5OVR/aEREQkWEiMkNEykXk2gzHLxaRj0Rkioj8W0QG1fWzdgZBCMLqYhs3WpnNIli92tYbcNeQ4zhNmXxmFtcJESkBRgMnYQnrzsrQ0T+uqgeo6sFYDqO7CtWefAjzANauhb/+NRaCIAzpQhBWI0t3DblF4DhOU6JgQgAcDpSr6mxV3QyMA4YnT1DVysRue1KXxKw3Vq+GX/0qXlXshRfgtNPg1Vfjc9assXhAUgiCC6lLl1QhKC2F/fe3H8dxnMZOXmmo60hvYH5ifwHwxfSTROSHwJVAK7IsdiMiI4GRAH2Dk34n8uyzcP31cQ6hzz6zMggDwMyZViaFINCtW2w9hPqPP97pzXQcxykIhbQI8kJVR6tqf+BnwP/Lcs4YVR2iqkO6FyBxz6JFVi5ebGXIGRRcRQAzZliZTQiSFoHjOE5TopAWwUJSs5TuHtVlYxxwfwHbk5UgAOn7Yf4AwPPPWxmshnQhCLgQOI7T1CikRTAJGCgi/USkFTACGJ88QUQGJnb/C5hVwPZkJV0Igu9/1Sro3NmSyD3xBJSUwJFH2rFkh9+9u1sEjuM0XQomBKq6FbgMmIilpHhSVaeKyM0iElY4u0xEporIFCxOcF6h2pOLdCEIbNpkI4KOPtqyiB56KHToYMdCh9+ypdW5EDiO01QppGsIVZ0ATEirG5XYvqKQn58vIUaQidat4Zhj4M9/tjIQOvywDGUQgrZtC9dOx3GcQtDgweKGRjW7RQDQpg0MG2aCcMopcX0QghC7LiuDG2+E008vWFMdx3EKQkEtgqbAmjU29LN9+3jiWJLWrWHgQDuvdeu4PmkRgFkFN9xQ+PY6juPsbIreIgjWwGGHWdmmTerx0PknRQCqC4HjOE5TxYUgEoLTToPdd7eAcJJ0YQiku4Ycx3GaKi4EkRAMGwbz50O/fqnH0y2BgFsEjuM0F4peCCoqrAzrDKcnistmEYRhpOE6x3GcpkrRB4srKmyiWOfOtp8uBNksgl69YNw4syQcx3GaMi4EFebeCQvL5GsRAJx5ZuHa5TiOU1+4a6giNeCbr0XgOI7TXHAhcCFwHKfIcSHIIgTBJZTLNeQ4jtMccCHIIgQ9eljpFoHjOM2dohaCLVss1XRSCELyuJ49rXSLwHGc5k7RCkF5OYwYYdtJITjuOLj3XivBLQLHcZo/RSsEY8fCM8/YdlIIWreGH/7QsomGfcdxnOZM0QrB++/H25nyBYUUEu4achynuVO0QjBlSrzdpUv142GBGbcIHMdp7hTlzOLVq2HOHLj4Yuvw99+/+jluETiOUywU1CIQkWEiMkNEykXk2gzHrxSRaSLyoYi8LCJ7FLI9gQ8+sHL4cLjrLijNIIduETiOUywUTAhEpAQYDZwEDALOEpFBaae9DwxR1QOBp4HbCtWeJNOmWTl4cPZzgkXgQuA4TnOnkBbB4UC5qs5W1c3AOGB48gRVfUVVq6Ldt4HdC9iezwmpp8OksUyEbKSdOhW+PY7jOA1JIYWgNzA/sb8gqsvGhcALmQ6IyEgRmSwikytCL74DrFhhE8datsx+zpFHwvPPw9ChO/xxjuM4jZpGMWpIRL4LDAFuz3RcVceo6hBVHdJ9J6wNuWIFdO1aU5vg5JOtdBzHac4UctTQQqBPYn/3qC4FEfkqcD1wjKpuKmB7PicfIXAcxykWCmkRTAIGikg/EWkFjADGJ08QkUOAB4BTVXVZAduSgguB4zhOTMGEQFW3ApcBE4HpwJOqOlVEbhaRU6PTbgfKgKdEZIqIjM9yu52KC4HjOE5MQSeUqeoEYEJa3ajE9lcL+fnZcCFwHMeJaRTB4vpk61ZYs8aFwHEcJ1B0QrBypZUuBI7jOEbRCcGKFVa6EDiO4xguBI7jOEWOC4HjOE6R40LgOI5T5BSdECxZYuWuuzZsOxzHcRoLRScE8+ebNRDSTDuO4xQ7RSkEffrUfJ7jOE6xUJRC0LdvQ7fCcRyn8VB0QvDZZ24ROI7jJCkqIVi3zhaudyFwHMeJKSohmB+tl+ZC4DiOE+NC4DiOU+QUpRB4sNhxHCemqITgs89sDeLddmvoljiO4zQeikoI5s+HXr2gZcuGbonjOE7joeiEwOMDjuM4qRRUCERkmIjMEJFyEbk2w/GjReQ/IrJVRE4vZFvAJ5M5juNkomBCICIlwGjgJGAQcJaIDEo77TPgfODxQrUjoOqTyRzHcTJRyMXrDwfKVXU2gIiMA4YD08IJqjo3Ora9gO0AbInKDRtcCBzHcdIppGuoNzA/sb8gqqs1IjJSRCaLyOSKioo6NcbnEDiO42SmSQSLVXWMqg5R1SHdu3ev0z1cCBzHcTJTSCFYCCS73d2jugbBJ5M5juNkppBCMAkYKCL9RKQVMAIYX8DPy0nv3jB8uK9M5jiOk07BhEBVtwKXAROB6cCTqjpVRG4WkVMBROQLIrIAOAN4QESmFqo9w4fDX/8KLZqEM8xxHKf+KOSoIVR1AjAhrW5UYnsS5jJyHMdxGgh/P3YcxylyXAgcx3GKHBcCx3GcIseFwHEcp8hxIXAcxylyXAgcx3GKHBcCx3GcIkdUtaHbUCtEpAKYV8fLuwHLd2JzGhJ/lsaJP0vjxJ8F9lDVjMnampwQ7AgiMllVhzR0O3YG/iyNE3+Wxok/S27cNeQ4jlPkuBA4juMUOcUmBGMaugE7EX+Wxok/S+PEnyUHRRUjcBzHcapTbBaB4ziOk4YLgeM4TpFTNEIgIsNEZIaIlIvItQ3dntoiInNF5CMRmSIik6O6XUTkJRGZFZVdGrqdmRCR34vIMhH5OFGXse1i3B19Tx+KyKEN1/LqZHmWG0VkYfTdTBGRkxPHroueZYaIfK1hWl0dEekjIq+IyDQRmSoiV0T1Te57yfEsTfF7aSMi74rIB9Gz3BTV9xORd6I2PxGt+oiItI72y6Pje9bpg1W12f8AJcCnwF5AK+ADYFBDt6uWzzAX6JZWdxtwbbR9LXBrQ7czS9uPBg4FPq6p7cDJwAuAAEcA7zR0+/N4lhuBqzKcOyj6W2sN9Iv+Bksa+hmitvUCDo22OwAzo/Y2ue8lx7M0xe9FgLJouyXwTvT7fhIYEdX/Frgk2r4U+G20PQJ4oi6fWywWweFAuarOVtXNwDhgeAO3aWcwHHgk2n4E+EYDtiUrqvoasDKtOlvbhwOPqvE20FlEetVPS2smy7NkYzgwTlU3qeocoBz7W2xwVHWxqv4n2l6LLSfbmyb4veR4lmw05u9FVXVdtNsy+lHgOODpqD79ewnf19PA8SIitf3cYhGC3sD8xP4Ccv+hNEYUeFFE3hORkVFdD1VdHG0vAXo0TNPqRLa2N9Xv6rLIZfL7hIuuSTxL5E44BHv7bNLfS9qzQBP8XkSkRESmAMuAlzCLZbXaOvCQ2t7PnyU6vgboWtvPLBYhaA4cpaqHAicBPxSRo5MH1WzDJjkWuCm3PeJ+oD9wMLAYuLNhm5M/IlIG/Bn4sapWJo81te8lw7M0ye9FVbep6sHYeu6HA/sW+jOLRQgWAn0S+7tHdU0GVV0YlcuAv2B/IEuDeR6VyxquhbUmW9ub3Helqkujf97twIPEboZG/Swi0hLrOB9T1Wei6ib5vWR6lqb6vQRUdTXwCnAk5oorjQ4l2/v5s0THOwEravtZxSIEk4CBUeS9FRZUGd/AbcobEWkvIh3CNnAi8DH2DOdFp50HPNswLawT2do+Hjg3GqVyBLAm4apolKT5yk/DvhuwZxkRjezoBwwE3q3v9mUi8iP/DpiuqnclDjW57yXbszTR76W7iHSOttsCJ2Axj1eA06PT0r+X8H2dDvwzsuRqR0NHyevrBxv1MBPzt13f0O2pZdv3wkY5fABMDe3HfIEvA7OAfwC7NHRbs7R/LGaab8H8mxdmazs2amJ09D19BAxp6Pbn8Sx/jNr6YfSP2Stx/vXRs8wATmro9ifadRTm9vkQmBL9nNwUv5ccz9IUv5cDgfejNn8MjIrq98LEqhx4Cmgd1beJ9suj43vV5XM9xYTjOE6RUyyuIcdxHCcLLgSO4zhFjguB4zhOkeNC4DiOU+S4EDiO4xQ5LgSOk4aIbEtkrJwiOzFbrYjsmcxc6jiNgdKaT3GcomOD2hR/xykK3CJwnDwRWxPiNrF1Id4VkQFR/Z4i8s8oudnLItI3qu8hIn+Jcst/ICJfim5VIiIPRvnmX4xmkDpOg+FC4DjVaZvmGjozcWyNqh4A3Av8Jqq7B3hEVQ8EHgPujurvBv6lqgdhaxhMjeoHAqNVdX9gNfCtAj+P4+TEZxY7Thoisk5VyzLUzwWOU9XZUZKzJaraVUSWY+kLtkT1i1W1m4hUALur6qbEPfYEXlLVgdH+z4CWqvrLwj+Z42TGLQLHqR2aZbs2bEpsb8NjdU4D40LgOLXjzET5VrT9JpbRFuBs4PVo+2XgEvh8sZFO9dVIx6kN/ibiONVpG60QFfi7qoYhpF1E5EPsrf6sqO5HwB9E5GqgArggqr8CGCMiF2Jv/pdgmUsdp1HhMQLHyZMoRjBEVZc3dFscZ2firiHHcZwixy0Cx3GcIsctAsdxnCLHhcBxHKfIcSFwHMcpclwIHMdxihwXAsdxnCLn/wNukB5/X56LeAAAAABJRU5ErkJggg==)"
      ]
    },
    {
      "cell_type": "code",
      "execution_count": null,
      "id": "a6d97a7b",
      "metadata": {
        "execution": {
          "iopub.execute_input": "2022-11-20T02:17:46.101966Z",
          "iopub.status.busy": "2022-11-20T02:17:46.101477Z",
          "iopub.status.idle": "2022-11-20T02:18:02.273274Z",
          "shell.execute_reply": "2022-11-20T02:18:02.272108Z"
        },
        "papermill": {
          "duration": 16.180146,
          "end_time": "2022-11-20T02:18:02.276237",
          "exception": false,
          "start_time": "2022-11-20T02:17:46.096091",
          "status": "completed"
        },
        "tags": [],
        "id": "a6d97a7b"
      },
      "outputs": [],
      "source": [
        "!pip install transformers==4.5.0"
      ]
    },
    {
      "cell_type": "code",
      "execution_count": null,
      "id": "1207d17a",
      "metadata": {
        "_cell_guid": "b1076dfc-b9ad-4769-8c92-a6c4dae69d19",
        "_uuid": "8f2839f25d086af736a60e9eeb907d3b93b6e0e5",
        "execution": {
          "iopub.execute_input": "2022-11-20T02:18:02.288878Z",
          "iopub.status.busy": "2022-11-20T02:18:02.288562Z",
          "iopub.status.idle": "2022-11-20T02:18:08.715857Z",
          "shell.execute_reply": "2022-11-20T02:18:08.714885Z"
        },
        "id": "1207d17a",
        "papermill": {
          "duration": 6.436415,
          "end_time": "2022-11-20T02:18:08.718352",
          "exception": false,
          "start_time": "2022-11-20T02:18:02.281937",
          "status": "completed"
        },
        "tags": []
      },
      "outputs": [],
      "source": [
        "# Import necessary packages.\n",
        "import numpy as np\n",
        "import torch\n",
        "import torch.nn as nn\n",
        "import torch.nn.functional as F\n",
        "import torchvision\n",
        "import torchvision.transforms as transforms\n",
        "from PIL import Image\n",
        "from collections import Counter\n",
        "# \"ConcatDataset\" and \"Subset\" are possibly useful when doing semi-supervised learning.\n",
        "from torch.utils.data import ConcatDataset, DataLoader, Subset\n",
        "from torchvision.datasets import DatasetFolder, ImageFolder\n",
        "\n",
        "# This is for the progress bar.\n",
        "from tqdm import tqdm\n",
        "\n",
        "from transformers import get_linear_schedule_with_warmup\n",
        "\n",
        "import sys\n",
        "sys.setrecursionlimit(1000000)\n",
        "\n",
        "# the path where checkpoint saved\n",
        "model_path = './model.ckpt'\n",
        "\n",
        "myseed = 123  # set a random seed for reproducibility\n",
        "torch.backends.cudnn.deterministic = True\n",
        "torch.backends.cudnn.benchmark = False\n",
        "np.random.seed(myseed)\n",
        "torch.manual_seed(myseed)\n",
        "if torch.cuda.is_available():\n",
        "    torch.cuda.manual_seed_all(myseed)"
      ]
    },
    {
      "cell_type": "code",
      "execution_count": null,
      "id": "b3b25cae",
      "metadata": {
        "execution": {
          "iopub.execute_input": "2022-11-20T02:18:08.731138Z",
          "iopub.status.busy": "2022-11-20T02:18:08.730091Z",
          "iopub.status.idle": "2022-11-20T02:18:08.741388Z",
          "shell.execute_reply": "2022-11-20T02:18:08.740573Z"
        },
        "id": "b3b25cae",
        "papermill": {
          "duration": 0.019362,
          "end_time": "2022-11-20T02:18:08.743318",
          "exception": false,
          "start_time": "2022-11-20T02:18:08.723956",
          "status": "completed"
        },
        "tags": []
      },
      "outputs": [],
      "source": [
        "# It is important to do data augmentation in training.\n",
        "# However, not every augmentation is useful.\n",
        "# Please think about what kind of augmentation is helpful for food recognition.\n",
        "train_tfm = transforms.Compose([\n",
        "    transforms.RandomResizedCrop((128, 128)),\n",
        "    transforms.RandomChoice(\n",
        "        [transforms.AutoAugment(),\n",
        "        transforms.AutoAugment(transforms.AutoAugmentPolicy.CIFAR10),\n",
        "        transforms.AutoAugment(transforms.AutoAugmentPolicy.IMAGENET),\n",
        "        transforms.AutoAugment(transforms.AutoAugmentPolicy.SVHN)]\n",
        "    ),\n",
        "    transforms.PILToTensor(),\n",
        "    transforms.RandomHorizontalFlip(p=0.5),\n",
        "    transforms.ColorJitter(brightness=0.5, contrast=0.5),\n",
        "    transforms.RandomErasing(p=0.5),\n",
        "    transforms.RandomAffine(degrees=15, translate=(0.2,0.2), scale=(0.8,1.2), shear=(-10, 10, -10, 10))\n",
        "])\n",
        "\n",
        "train_flip_tfm = transforms.Compose([\n",
        "    transforms.Resize((128, 128)),\n",
        "    transforms.RandomChoice(\n",
        "        [transforms.AutoAugment(),\n",
        "        transforms.AutoAugment(transforms.AutoAugmentPolicy.CIFAR10),\n",
        "        transforms.AutoAugment(transforms.AutoAugmentPolicy.IMAGENET),\n",
        "        transforms.AutoAugment(transforms.AutoAugmentPolicy.SVHN)]\n",
        "    ),\n",
        "    transforms.PILToTensor(),\n",
        "    transforms.RandomHorizontalFlip(p=0.5),\n",
        "    transforms.ColorJitter(brightness=0.5, contrast=0.5),\n",
        "    transforms.RandomErasing(p=0.5),\n",
        "    transforms.RandomAffine(degrees=15, translate=(0.2,0.2), scale=(0.8,1.2), shear=(-10, 10, -10, 10))\n",
        "])\n",
        "\n",
        "# We don't need augmentations in testing and validation.\n",
        "# All we need here is to resize the PIL image and transform it into Tensor.\n",
        "test_tfm = transforms.Compose([\n",
        "    transforms.Resize((128, 128)),\n",
        "    transforms.PILToTensor(),\n",
        "])"
      ]
    },
    {
      "cell_type": "markdown",
      "id": "61b497da",
      "metadata": {
        "id": "61b497da",
        "papermill": {
          "duration": 0.004995,
          "end_time": "2022-11-20T02:18:08.753425",
          "exception": false,
          "start_time": "2022-11-20T02:18:08.748430",
          "status": "completed"
        },
        "tags": []
      },
      "source": [
        "因為我是用強制標記，所以我沒有對unlabeled_set做圖形增強(image augmentation)"
      ]
    },
    {
      "cell_type": "code",
      "execution_count": null,
      "id": "1793a72a",
      "metadata": {
        "execution": {
          "iopub.execute_input": "2022-11-20T02:18:08.765275Z",
          "iopub.status.busy": "2022-11-20T02:18:08.764981Z",
          "iopub.status.idle": "2022-11-20T02:18:24.077551Z",
          "shell.execute_reply": "2022-11-20T02:18:24.076577Z"
        },
        "id": "1793a72a",
        "papermill": {
          "duration": 15.321072,
          "end_time": "2022-11-20T02:18:24.079943",
          "exception": false,
          "start_time": "2022-11-20T02:18:08.758871",
          "status": "completed"
        },
        "tags": []
      },
      "outputs": [],
      "source": [
        "# Batch size for training, validation, and testing.\n",
        "# A greater batch size usually gives a more stable gradient.\n",
        "# But the GPU memory is limited, so please adjust it carefully.\n",
        "batch_size = 32\n",
        "test_batch_size = 1024\n",
        "\n",
        "# Construct datasets.\n",
        "# The argument \"loader\" tells how torchvision reads the data.\n",
        "train_set = DatasetFolder(\"../input/ml2021spring-hw3/food-11/training/labeled\", loader=lambda x: Image.open(x), extensions=\"jpg\", transform=train_tfm)\n",
        "train_flip_set = DatasetFolder(\"../input/ml2021spring-hw3/food-11/training/labeled\", loader=lambda x: Image.open(x), extensions=\"jpg\", transform=train_flip_tfm)\n",
        "valid_set = DatasetFolder(\"../input/ml2021spring-hw3/food-11/validation\", loader=lambda x: Image.open(x), extensions=\"jpg\", transform=test_tfm)\n",
        "unlabeled_test_set = ImageFolder(\"../input/ml2021spring-hw3/food-11/training/unlabeled\", loader=lambda x: Image.open(x), transform=test_tfm)\n",
        "unlabeled_train_set = ImageFolder(\"../input/ml2021spring-hw3/food-11/training/unlabeled\", loader=lambda x: Image.open(x), transform=train_tfm)\n",
        "test_set = DatasetFolder(\"../input/ml2021spring-hw3/food-11/testing\", loader=lambda x: Image.open(x), extensions=\"jpg\", transform=test_tfm)\n",
        "\n",
        "train_set = ConcatDataset([train_set, train_flip_set])\n",
        "\n",
        "# Construct data loaders.\n",
        "train_loader = DataLoader(train_set, batch_size=batch_size, shuffle=True, pin_memory=True, num_workers=2)\n",
        "valid_loader = DataLoader(valid_set, batch_size=test_batch_size, shuffle=True, pin_memory=True)\n",
        "test_loader = DataLoader(test_set, batch_size=test_batch_size, shuffle=False)"
      ]
    },
    {
      "cell_type": "code",
      "execution_count": null,
      "id": "0c0051df",
      "metadata": {
        "execution": {
          "iopub.execute_input": "2022-11-20T02:18:24.092413Z",
          "iopub.status.busy": "2022-11-20T02:18:24.091823Z",
          "iopub.status.idle": "2022-11-20T02:18:24.101117Z",
          "shell.execute_reply": "2022-11-20T02:18:24.100252Z"
        },
        "id": "0c0051df",
        "papermill": {
          "duration": 0.017505,
          "end_time": "2022-11-20T02:18:24.103063",
          "exception": false,
          "start_time": "2022-11-20T02:18:24.085558",
          "status": "completed"
        },
        "tags": []
      },
      "outputs": [],
      "source": [
        "def get_pseudo_labels():\n",
        "    global models, unlabeled_train_set, unlabeled_test_set, train_set\n",
        "    \n",
        "    remove_index, index = [], 0\n",
        "    pre = []\n",
        "\n",
        "    # Iterate over the dataset by batches.\n",
        "    for imgs, labels in tqdm(unlabeled_test_set):\n",
        "        imgs = imgs.float().cuda()\n",
        "        for i, model in enumerate(models):\n",
        "            model.eval()\n",
        "            with torch.no_grad():\n",
        "                logits = model(torch.unsqueeze(imgs, 0))\n",
        "            prediction = torch.argmax(logits, 1)\n",
        "            pre_num = prediction.cpu().numpy()\n",
        "            pre.append(pre_num)\n",
        "        arr = np.array(pre)\n",
        "        pre.clear()\n",
        "        result = [Counter(arr[:,i]).most_common(1)[0] for i in range(arr.shape[1])]\n",
        "        \n",
        "        # ---------- TODO ----------\n",
        "        # Filter the data and construct a new dataset.\n",
        "        if result[0][1] == model_number:\n",
        "            temp = list(unlabeled_train_set[index])\n",
        "            temp[1] = result[0][1]      \n",
        "            train_set = ConcatDataset([train_set, ([tuple(temp)])])\n",
        "            remove_index.append(index)\n",
        "        index += 1\n",
        "            \n",
        "    remove_index.reverse()\n",
        "    for i in remove_index:\n",
        "        unlabeled_train_set.imgs.remove((unlabeled_train_set.imgs[i]))\n",
        "        unlabeled_test_set.imgs.remove((unlabeled_test_set.imgs[i]))\n",
        "\n",
        "    print(f\"[{len(train_set)-3080*2}/6786] images have been labeled.\")"
      ]
    },
    {
      "cell_type": "markdown",
      "id": "8ae136f4",
      "metadata": {
        "id": "8ae136f4",
        "papermill": {
          "duration": 0.005019,
          "end_time": "2022-11-20T02:18:24.113254",
          "exception": false,
          "start_time": "2022-11-20T02:18:24.108235",
          "status": "completed"
        },
        "tags": []
      },
      "source": [
        "我這邊的思路是當驗證集的acc高於0.7才去抓未標記的圖片<br>\n",
        "然後當下一次的acc勝過之前的acc才會再做一次抓未標記的圖片的動作(你想想，如果你標記的圖片是對的，沒道理它的acc不會衝的比上一次更高)"
      ]
    },
    {
      "cell_type": "code",
      "execution_count": null,
      "id": "33cfa37c",
      "metadata": {
        "execution": {
          "iopub.execute_input": "2022-11-20T02:18:24.125092Z",
          "iopub.status.busy": "2022-11-20T02:18:24.124315Z",
          "iopub.status.idle": "2022-11-20T02:18:24.138032Z",
          "shell.execute_reply": "2022-11-20T02:18:24.137240Z"
        },
        "papermill": {
          "duration": 0.021623,
          "end_time": "2022-11-20T02:18:24.139943",
          "exception": false,
          "start_time": "2022-11-20T02:18:24.118320",
          "status": "completed"
        },
        "tags": [],
        "id": "33cfa37c"
      },
      "outputs": [],
      "source": [
        "class Net(nn.Module):\n",
        "    def __init__(self):\n",
        "        super(Net, self).__init__()\n",
        "        self.conv1 = nn.Conv2d(in_channels=3, out_channels=32, kernel_size=4, stride=2, padding=1)\n",
        "        self.bn1 = nn.BatchNorm2d(32)\n",
        "        self.dropout1 = nn.Dropout(0.2)\n",
        "\n",
        "        self.conv2 = nn.Conv2d(in_channels=32, out_channels=64, kernel_size=4, stride=2, padding=1)\n",
        "        self.bn2 = nn.BatchNorm2d(64)\n",
        "        self.dropout2 = nn.Dropout(0.2)\n",
        "\n",
        "        self.conv3 = nn.Conv2d(in_channels=64, out_channels=128, kernel_size=4, stride=2, padding=1)\n",
        "        self.bn3 = nn.BatchNorm2d(128)\n",
        "        self.dropout3 = nn.Dropout(0.2)\n",
        "        \n",
        "        self.conv4 = nn.Conv2d(in_channels=128, out_channels=256, kernel_size=4, stride=2, padding=1)\n",
        "        self.bn4 = nn.BatchNorm2d(256)\n",
        "        self.dropout4 = nn.Dropout(0.2)\n",
        "        \n",
        "        self.conv5 = nn.Conv2d(in_channels=256, out_channels=512, kernel_size=4, stride=2, padding=1)\n",
        "        self.bn5 = nn.BatchNorm2d(512)\n",
        "        self.dropout5 = nn.Dropout(0.2)\n",
        "        \n",
        "        self.conv6 = nn.Conv2d(in_channels=512, out_channels=1024, kernel_size=4, stride=2, padding=1)\n",
        "        self.bn6 = nn.BatchNorm2d(1024)\n",
        "        self.dropout6 = nn.Dropout(0.2)\n",
        "        \n",
        "        self.avgpool = nn.AdaptiveAvgPool2d((1,1))\n",
        "        self.flatten = nn.Flatten()\n",
        "        self.fc = nn.Linear(1024, 11)\n",
        "\n",
        "    def forward(self, x):\n",
        "        x = self.conv1(x)\n",
        "        x = self.bn1(x)\n",
        "        x = self.dropout1(x)\n",
        "        x = F.relu(x)\n",
        "\n",
        "        x = self.conv2(x)\n",
        "        x = self.bn2(x)\n",
        "        x = self.dropout2(x)\n",
        "        x = F.relu(x)\n",
        "\n",
        "        x = self.conv3(x)\n",
        "        x = self.bn3(x)\n",
        "        x = self.dropout3(x)\n",
        "        x = F.relu(x)\n",
        "        \n",
        "        x = self.conv4(x)\n",
        "        x = self.bn4(x)\n",
        "        x = self.dropout4(x)\n",
        "        x = F.relu(x)\n",
        "\n",
        "        x = self.conv5(x)\n",
        "        x = self.bn5(x)\n",
        "        x = self.dropout5(x)\n",
        "        x = F.relu(x)\n",
        "\n",
        "        x = self.conv6(x)\n",
        "        x = self.bn6(x)\n",
        "        x = self.dropout6(x)\n",
        "        x = F.relu(x)\n",
        "\n",
        "        x = self.avgpool(x)\n",
        "        x = self.flatten(x)\n",
        "        x = self.fc(x)\n",
        "        return x"
      ]
    },
    {
      "cell_type": "code",
      "execution_count": null,
      "id": "4eba8b2c",
      "metadata": {
        "execution": {
          "iopub.execute_input": "2022-11-20T02:18:24.151538Z",
          "iopub.status.busy": "2022-11-20T02:18:24.151287Z",
          "iopub.status.idle": "2022-11-20T12:08:31.887576Z",
          "shell.execute_reply": "2022-11-20T12:08:31.886294Z"
        },
        "id": "4eba8b2c",
        "papermill": {
          "duration": 35407.745071,
          "end_time": "2022-11-20T12:08:31.890114",
          "exception": false,
          "start_time": "2022-11-20T02:18:24.145043",
          "status": "completed"
        },
        "tags": [],
        "outputId": "41d77858-f7f5-43eb-df60-4a99129ad34a"
      },
      "outputs": [
        {
          "name": "stderr",
          "output_type": "stream",
          "text": [
            "100%|██████████| 193/193 [01:39<00:00,  1.94it/s]\n",
            "100%|██████████| 1/1 [00:12<00:00, 12.22s/it]\n"
          ]
        },
        {
          "name": "stdout",
          "output_type": "stream",
          "text": [
            "[ Valid | 001/300 ] acc = 0.09091\n",
            "[001/300] saving model with acc 0.091\n"
          ]
        },
        {
          "name": "stderr",
          "output_type": "stream",
          "text": [
            "100%|██████████| 193/193 [01:31<00:00,  2.11it/s]\n",
            "100%|██████████| 1/1 [00:06<00:00,  6.80s/it]\n"
          ]
        },
        {
          "name": "stdout",
          "output_type": "stream",
          "text": [
            "[ Valid | 002/300 ] acc = 0.12424\n",
            "[002/300] saving model with acc 0.124\n"
          ]
        },
        {
          "name": "stderr",
          "output_type": "stream",
          "text": [
            "100%|██████████| 193/193 [01:31<00:00,  2.10it/s]\n",
            "100%|██████████| 1/1 [00:06<00:00,  6.81s/it]\n"
          ]
        },
        {
          "name": "stdout",
          "output_type": "stream",
          "text": [
            "[ Valid | 003/300 ] acc = 0.15606\n",
            "[003/300] saving model with acc 0.156\n"
          ]
        },
        {
          "name": "stderr",
          "output_type": "stream",
          "text": [
            "100%|██████████| 193/193 [01:31<00:00,  2.12it/s]\n",
            "100%|██████████| 1/1 [00:06<00:00,  6.79s/it]\n"
          ]
        },
        {
          "name": "stdout",
          "output_type": "stream",
          "text": [
            "[ Valid | 004/300 ] acc = 0.20606\n",
            "[004/300] saving model with acc 0.206\n"
          ]
        },
        {
          "name": "stderr",
          "output_type": "stream",
          "text": [
            "100%|██████████| 193/193 [01:31<00:00,  2.12it/s]\n",
            "100%|██████████| 1/1 [00:06<00:00,  6.88s/it]\n"
          ]
        },
        {
          "name": "stdout",
          "output_type": "stream",
          "text": [
            "[ Valid | 005/300 ] acc = 0.22576\n",
            "[005/300] saving model with acc 0.226\n"
          ]
        },
        {
          "name": "stderr",
          "output_type": "stream",
          "text": [
            "100%|██████████| 193/193 [01:30<00:00,  2.13it/s]\n",
            "100%|██████████| 1/1 [00:06<00:00,  6.78s/it]\n"
          ]
        },
        {
          "name": "stdout",
          "output_type": "stream",
          "text": [
            "[ Valid | 006/300 ] acc = 0.21515\n"
          ]
        },
        {
          "name": "stderr",
          "output_type": "stream",
          "text": [
            "100%|██████████| 193/193 [01:31<00:00,  2.12it/s]\n",
            "100%|██████████| 1/1 [00:06<00:00,  6.77s/it]\n"
          ]
        },
        {
          "name": "stdout",
          "output_type": "stream",
          "text": [
            "[ Valid | 007/300 ] acc = 0.26061\n",
            "[007/300] saving model with acc 0.261\n"
          ]
        },
        {
          "name": "stderr",
          "output_type": "stream",
          "text": [
            "100%|██████████| 193/193 [01:30<00:00,  2.12it/s]\n",
            "100%|██████████| 1/1 [00:07<00:00,  7.30s/it]\n"
          ]
        },
        {
          "name": "stdout",
          "output_type": "stream",
          "text": [
            "[ Valid | 008/300 ] acc = 0.29848\n",
            "[008/300] saving model with acc 0.298\n"
          ]
        },
        {
          "name": "stderr",
          "output_type": "stream",
          "text": [
            "100%|██████████| 193/193 [01:30<00:00,  2.14it/s]\n",
            "100%|██████████| 1/1 [00:07<00:00,  7.12s/it]\n"
          ]
        },
        {
          "name": "stdout",
          "output_type": "stream",
          "text": [
            "[ Valid | 009/300 ] acc = 0.26515\n"
          ]
        },
        {
          "name": "stderr",
          "output_type": "stream",
          "text": [
            "100%|██████████| 193/193 [01:30<00:00,  2.14it/s]\n",
            "100%|██████████| 1/1 [00:06<00:00,  6.86s/it]\n"
          ]
        },
        {
          "name": "stdout",
          "output_type": "stream",
          "text": [
            "[ Valid | 010/300 ] acc = 0.31667\n",
            "[010/300] saving model with acc 0.317\n"
          ]
        },
        {
          "name": "stderr",
          "output_type": "stream",
          "text": [
            "100%|██████████| 193/193 [01:30<00:00,  2.12it/s]\n",
            "100%|██████████| 1/1 [00:06<00:00,  6.94s/it]\n"
          ]
        },
        {
          "name": "stdout",
          "output_type": "stream",
          "text": [
            "[ Valid | 011/300 ] acc = 0.23030\n"
          ]
        },
        {
          "name": "stderr",
          "output_type": "stream",
          "text": [
            "100%|██████████| 193/193 [01:31<00:00,  2.12it/s]\n",
            "100%|██████████| 1/1 [00:07<00:00,  7.04s/it]\n"
          ]
        },
        {
          "name": "stdout",
          "output_type": "stream",
          "text": [
            "[ Valid | 012/300 ] acc = 0.30152\n"
          ]
        },
        {
          "name": "stderr",
          "output_type": "stream",
          "text": [
            "100%|██████████| 193/193 [01:30<00:00,  2.12it/s]\n",
            "100%|██████████| 1/1 [00:07<00:00,  7.02s/it]\n"
          ]
        },
        {
          "name": "stdout",
          "output_type": "stream",
          "text": [
            "[ Valid | 013/300 ] acc = 0.20152\n"
          ]
        },
        {
          "name": "stderr",
          "output_type": "stream",
          "text": [
            "100%|██████████| 193/193 [01:30<00:00,  2.12it/s]\n",
            "100%|██████████| 1/1 [00:07<00:00,  7.07s/it]\n"
          ]
        },
        {
          "name": "stdout",
          "output_type": "stream",
          "text": [
            "[ Valid | 014/300 ] acc = 0.33030\n",
            "[014/300] saving model with acc 0.330\n"
          ]
        },
        {
          "name": "stderr",
          "output_type": "stream",
          "text": [
            "100%|██████████| 193/193 [01:30<00:00,  2.12it/s]\n",
            "100%|██████████| 1/1 [00:07<00:00,  7.06s/it]\n"
          ]
        },
        {
          "name": "stdout",
          "output_type": "stream",
          "text": [
            "[ Valid | 015/300 ] acc = 0.29091\n"
          ]
        },
        {
          "name": "stderr",
          "output_type": "stream",
          "text": [
            "100%|██████████| 193/193 [01:30<00:00,  2.12it/s]\n",
            "100%|██████████| 1/1 [00:07<00:00,  7.07s/it]\n"
          ]
        },
        {
          "name": "stdout",
          "output_type": "stream",
          "text": [
            "[ Valid | 016/300 ] acc = 0.27576\n"
          ]
        },
        {
          "name": "stderr",
          "output_type": "stream",
          "text": [
            "100%|██████████| 193/193 [01:30<00:00,  2.13it/s]\n",
            "100%|██████████| 1/1 [00:06<00:00,  6.88s/it]\n"
          ]
        },
        {
          "name": "stdout",
          "output_type": "stream",
          "text": [
            "[ Valid | 017/300 ] acc = 0.29091\n"
          ]
        },
        {
          "name": "stderr",
          "output_type": "stream",
          "text": [
            "100%|██████████| 193/193 [01:30<00:00,  2.13it/s]\n",
            "100%|██████████| 1/1 [00:06<00:00,  6.73s/it]\n"
          ]
        },
        {
          "name": "stdout",
          "output_type": "stream",
          "text": [
            "[ Valid | 018/300 ] acc = 0.35455\n",
            "[018/300] saving model with acc 0.355\n"
          ]
        },
        {
          "name": "stderr",
          "output_type": "stream",
          "text": [
            "100%|██████████| 193/193 [01:30<00:00,  2.14it/s]\n",
            "100%|██████████| 1/1 [00:07<00:00,  7.29s/it]\n"
          ]
        },
        {
          "name": "stdout",
          "output_type": "stream",
          "text": [
            "[ Valid | 019/300 ] acc = 0.35606\n",
            "[019/300] saving model with acc 0.356\n"
          ]
        },
        {
          "name": "stderr",
          "output_type": "stream",
          "text": [
            "100%|██████████| 193/193 [01:30<00:00,  2.14it/s]\n",
            "100%|██████████| 1/1 [00:07<00:00,  7.18s/it]\n"
          ]
        },
        {
          "name": "stdout",
          "output_type": "stream",
          "text": [
            "[ Valid | 020/300 ] acc = 0.35152\n"
          ]
        },
        {
          "name": "stderr",
          "output_type": "stream",
          "text": [
            "100%|██████████| 193/193 [01:31<00:00,  2.11it/s]\n",
            "100%|██████████| 1/1 [00:06<00:00,  6.86s/it]\n"
          ]
        },
        {
          "name": "stdout",
          "output_type": "stream",
          "text": [
            "[ Valid | 021/300 ] acc = 0.25606\n"
          ]
        },
        {
          "name": "stderr",
          "output_type": "stream",
          "text": [
            "100%|██████████| 193/193 [01:30<00:00,  2.12it/s]\n",
            "100%|██████████| 1/1 [00:06<00:00,  6.83s/it]\n"
          ]
        },
        {
          "name": "stdout",
          "output_type": "stream",
          "text": [
            "[ Valid | 022/300 ] acc = 0.30303\n"
          ]
        },
        {
          "name": "stderr",
          "output_type": "stream",
          "text": [
            "100%|██████████| 193/193 [01:30<00:00,  2.14it/s]\n",
            "100%|██████████| 1/1 [00:06<00:00,  6.99s/it]\n"
          ]
        },
        {
          "name": "stdout",
          "output_type": "stream",
          "text": [
            "[ Valid | 023/300 ] acc = 0.40000\n",
            "[023/300] saving model with acc 0.400\n"
          ]
        },
        {
          "name": "stderr",
          "output_type": "stream",
          "text": [
            "100%|██████████| 193/193 [01:30<00:00,  2.13it/s]\n",
            "100%|██████████| 1/1 [00:06<00:00,  6.84s/it]\n"
          ]
        },
        {
          "name": "stdout",
          "output_type": "stream",
          "text": [
            "[ Valid | 024/300 ] acc = 0.34545\n"
          ]
        },
        {
          "name": "stderr",
          "output_type": "stream",
          "text": [
            "100%|██████████| 193/193 [01:31<00:00,  2.11it/s]\n",
            "100%|██████████| 1/1 [00:06<00:00,  6.81s/it]\n"
          ]
        },
        {
          "name": "stdout",
          "output_type": "stream",
          "text": [
            "[ Valid | 025/300 ] acc = 0.27727\n"
          ]
        },
        {
          "name": "stderr",
          "output_type": "stream",
          "text": [
            "100%|██████████| 193/193 [01:31<00:00,  2.12it/s]\n",
            "100%|██████████| 1/1 [00:06<00:00,  6.77s/it]\n"
          ]
        },
        {
          "name": "stdout",
          "output_type": "stream",
          "text": [
            "[ Valid | 026/300 ] acc = 0.37273\n"
          ]
        },
        {
          "name": "stderr",
          "output_type": "stream",
          "text": [
            "100%|██████████| 193/193 [01:30<00:00,  2.12it/s]\n",
            "100%|██████████| 1/1 [00:06<00:00,  6.95s/it]\n"
          ]
        },
        {
          "name": "stdout",
          "output_type": "stream",
          "text": [
            "[ Valid | 027/300 ] acc = 0.38333\n"
          ]
        },
        {
          "name": "stderr",
          "output_type": "stream",
          "text": [
            "100%|██████████| 193/193 [01:30<00:00,  2.13it/s]\n",
            "100%|██████████| 1/1 [00:07<00:00,  7.03s/it]\n"
          ]
        },
        {
          "name": "stdout",
          "output_type": "stream",
          "text": [
            "[ Valid | 028/300 ] acc = 0.30152\n"
          ]
        },
        {
          "name": "stderr",
          "output_type": "stream",
          "text": [
            "100%|██████████| 193/193 [01:30<00:00,  2.12it/s]\n",
            "100%|██████████| 1/1 [00:07<00:00,  7.08s/it]\n"
          ]
        },
        {
          "name": "stdout",
          "output_type": "stream",
          "text": [
            "[ Valid | 029/300 ] acc = 0.38788\n"
          ]
        },
        {
          "name": "stderr",
          "output_type": "stream",
          "text": [
            "100%|██████████| 193/193 [01:30<00:00,  2.12it/s]\n",
            "100%|██████████| 1/1 [00:07<00:00,  7.06s/it]\n"
          ]
        },
        {
          "name": "stdout",
          "output_type": "stream",
          "text": [
            "[ Valid | 030/300 ] acc = 0.33333\n"
          ]
        },
        {
          "name": "stderr",
          "output_type": "stream",
          "text": [
            "100%|██████████| 193/193 [01:31<00:00,  2.11it/s]\n",
            "100%|██████████| 1/1 [00:07<00:00,  7.51s/it]\n"
          ]
        },
        {
          "name": "stdout",
          "output_type": "stream",
          "text": [
            "[ Valid | 031/300 ] acc = 0.38030\n"
          ]
        },
        {
          "name": "stderr",
          "output_type": "stream",
          "text": [
            "100%|██████████| 193/193 [01:30<00:00,  2.12it/s]\n",
            "100%|██████████| 1/1 [00:06<00:00,  7.00s/it]\n"
          ]
        },
        {
          "name": "stdout",
          "output_type": "stream",
          "text": [
            "[ Valid | 032/300 ] acc = 0.39697\n"
          ]
        },
        {
          "name": "stderr",
          "output_type": "stream",
          "text": [
            "100%|██████████| 193/193 [01:31<00:00,  2.11it/s]\n",
            "100%|██████████| 1/1 [00:07<00:00,  7.09s/it]\n"
          ]
        },
        {
          "name": "stdout",
          "output_type": "stream",
          "text": [
            "[ Valid | 033/300 ] acc = 0.38485\n"
          ]
        },
        {
          "name": "stderr",
          "output_type": "stream",
          "text": [
            "100%|██████████| 193/193 [01:31<00:00,  2.12it/s]\n",
            "100%|██████████| 1/1 [00:07<00:00,  7.02s/it]\n"
          ]
        },
        {
          "name": "stdout",
          "output_type": "stream",
          "text": [
            "[ Valid | 034/300 ] acc = 0.45606\n",
            "[034/300] saving model with acc 0.456\n"
          ]
        },
        {
          "name": "stderr",
          "output_type": "stream",
          "text": [
            "100%|██████████| 193/193 [01:30<00:00,  2.13it/s]\n",
            "100%|██████████| 1/1 [00:07<00:00,  7.04s/it]\n"
          ]
        },
        {
          "name": "stdout",
          "output_type": "stream",
          "text": [
            "[ Valid | 035/300 ] acc = 0.45758\n",
            "[035/300] saving model with acc 0.458\n"
          ]
        },
        {
          "name": "stderr",
          "output_type": "stream",
          "text": [
            "100%|██████████| 193/193 [01:31<00:00,  2.12it/s]\n",
            "100%|██████████| 1/1 [00:06<00:00,  6.99s/it]\n"
          ]
        },
        {
          "name": "stdout",
          "output_type": "stream",
          "text": [
            "[ Valid | 036/300 ] acc = 0.44697\n"
          ]
        },
        {
          "name": "stderr",
          "output_type": "stream",
          "text": [
            "100%|██████████| 193/193 [01:30<00:00,  2.14it/s]\n",
            "100%|██████████| 1/1 [00:06<00:00,  6.77s/it]\n"
          ]
        },
        {
          "name": "stdout",
          "output_type": "stream",
          "text": [
            "[ Valid | 037/300 ] acc = 0.46818\n",
            "[037/300] saving model with acc 0.468\n"
          ]
        },
        {
          "name": "stderr",
          "output_type": "stream",
          "text": [
            "100%|██████████| 193/193 [01:31<00:00,  2.11it/s]\n",
            "100%|██████████| 1/1 [00:06<00:00,  6.90s/it]\n"
          ]
        },
        {
          "name": "stdout",
          "output_type": "stream",
          "text": [
            "[ Valid | 038/300 ] acc = 0.38182\n"
          ]
        },
        {
          "name": "stderr",
          "output_type": "stream",
          "text": [
            "100%|██████████| 193/193 [01:32<00:00,  2.10it/s]\n",
            "100%|██████████| 1/1 [00:06<00:00,  6.79s/it]\n"
          ]
        },
        {
          "name": "stdout",
          "output_type": "stream",
          "text": [
            "[ Valid | 039/300 ] acc = 0.49394\n",
            "[039/300] saving model with acc 0.494\n"
          ]
        },
        {
          "name": "stderr",
          "output_type": "stream",
          "text": [
            "100%|██████████| 193/193 [01:31<00:00,  2.12it/s]\n",
            "100%|██████████| 1/1 [00:07<00:00,  7.18s/it]\n"
          ]
        },
        {
          "name": "stdout",
          "output_type": "stream",
          "text": [
            "[ Valid | 040/300 ] acc = 0.43788\n"
          ]
        },
        {
          "name": "stderr",
          "output_type": "stream",
          "text": [
            "100%|██████████| 193/193 [01:30<00:00,  2.12it/s]\n",
            "100%|██████████| 1/1 [00:06<00:00,  6.90s/it]\n"
          ]
        },
        {
          "name": "stdout",
          "output_type": "stream",
          "text": [
            "[ Valid | 041/300 ] acc = 0.43333\n"
          ]
        },
        {
          "name": "stderr",
          "output_type": "stream",
          "text": [
            "100%|██████████| 193/193 [01:31<00:00,  2.11it/s]\n",
            "100%|██████████| 1/1 [00:07<00:00,  7.04s/it]\n"
          ]
        },
        {
          "name": "stdout",
          "output_type": "stream",
          "text": [
            "[ Valid | 042/300 ] acc = 0.37273\n"
          ]
        },
        {
          "name": "stderr",
          "output_type": "stream",
          "text": [
            "100%|██████████| 193/193 [01:31<00:00,  2.10it/s]\n",
            "100%|██████████| 1/1 [00:07<00:00,  7.09s/it]\n"
          ]
        },
        {
          "name": "stdout",
          "output_type": "stream",
          "text": [
            "[ Valid | 043/300 ] acc = 0.51667\n",
            "[043/300] saving model with acc 0.517\n"
          ]
        },
        {
          "name": "stderr",
          "output_type": "stream",
          "text": [
            "100%|██████████| 193/193 [01:30<00:00,  2.13it/s]\n",
            "100%|██████████| 1/1 [00:07<00:00,  7.06s/it]\n"
          ]
        },
        {
          "name": "stdout",
          "output_type": "stream",
          "text": [
            "[ Valid | 044/300 ] acc = 0.48030\n"
          ]
        },
        {
          "name": "stderr",
          "output_type": "stream",
          "text": [
            "100%|██████████| 193/193 [01:31<00:00,  2.11it/s]\n",
            "100%|██████████| 1/1 [00:07<00:00,  7.05s/it]\n"
          ]
        },
        {
          "name": "stdout",
          "output_type": "stream",
          "text": [
            "[ Valid | 045/300 ] acc = 0.38636\n"
          ]
        },
        {
          "name": "stderr",
          "output_type": "stream",
          "text": [
            "100%|██████████| 193/193 [01:31<00:00,  2.11it/s]\n",
            "100%|██████████| 1/1 [00:07<00:00,  7.12s/it]\n"
          ]
        },
        {
          "name": "stdout",
          "output_type": "stream",
          "text": [
            "[ Valid | 046/300 ] acc = 0.49091\n"
          ]
        },
        {
          "name": "stderr",
          "output_type": "stream",
          "text": [
            "100%|██████████| 193/193 [01:31<00:00,  2.11it/s]\n",
            "100%|██████████| 1/1 [00:07<00:00,  7.06s/it]\n"
          ]
        },
        {
          "name": "stdout",
          "output_type": "stream",
          "text": [
            "[ Valid | 047/300 ] acc = 0.37879\n"
          ]
        },
        {
          "name": "stderr",
          "output_type": "stream",
          "text": [
            "100%|██████████| 193/193 [01:31<00:00,  2.11it/s]\n",
            "100%|██████████| 1/1 [00:07<00:00,  7.17s/it]\n"
          ]
        },
        {
          "name": "stdout",
          "output_type": "stream",
          "text": [
            "[ Valid | 048/300 ] acc = 0.45303\n"
          ]
        },
        {
          "name": "stderr",
          "output_type": "stream",
          "text": [
            "100%|██████████| 193/193 [01:31<00:00,  2.11it/s]\n",
            "100%|██████████| 1/1 [00:07<00:00,  7.49s/it]\n"
          ]
        },
        {
          "name": "stdout",
          "output_type": "stream",
          "text": [
            "[ Valid | 049/300 ] acc = 0.45909\n"
          ]
        },
        {
          "name": "stderr",
          "output_type": "stream",
          "text": [
            "100%|██████████| 193/193 [01:31<00:00,  2.11it/s]\n",
            "100%|██████████| 1/1 [00:07<00:00,  7.06s/it]\n"
          ]
        },
        {
          "name": "stdout",
          "output_type": "stream",
          "text": [
            "[ Valid | 050/300 ] acc = 0.54242\n",
            "[050/300] saving model with acc 0.542\n"
          ]
        },
        {
          "name": "stderr",
          "output_type": "stream",
          "text": [
            "100%|██████████| 193/193 [01:30<00:00,  2.13it/s]\n",
            "100%|██████████| 1/1 [00:07<00:00,  7.11s/it]\n"
          ]
        },
        {
          "name": "stdout",
          "output_type": "stream",
          "text": [
            "[ Valid | 051/300 ] acc = 0.52424\n"
          ]
        },
        {
          "name": "stderr",
          "output_type": "stream",
          "text": [
            "100%|██████████| 193/193 [01:31<00:00,  2.12it/s]\n",
            "100%|██████████| 1/1 [00:07<00:00,  7.00s/it]\n"
          ]
        },
        {
          "name": "stdout",
          "output_type": "stream",
          "text": [
            "[ Valid | 052/300 ] acc = 0.43485\n"
          ]
        },
        {
          "name": "stderr",
          "output_type": "stream",
          "text": [
            "100%|██████████| 193/193 [01:31<00:00,  2.10it/s]\n",
            "100%|██████████| 1/1 [00:07<00:00,  7.07s/it]\n"
          ]
        },
        {
          "name": "stdout",
          "output_type": "stream",
          "text": [
            "[ Valid | 053/300 ] acc = 0.49848\n"
          ]
        },
        {
          "name": "stderr",
          "output_type": "stream",
          "text": [
            "100%|██████████| 193/193 [01:31<00:00,  2.11it/s]\n",
            "100%|██████████| 1/1 [00:07<00:00,  7.08s/it]\n"
          ]
        },
        {
          "name": "stdout",
          "output_type": "stream",
          "text": [
            "[ Valid | 054/300 ] acc = 0.50758\n"
          ]
        },
        {
          "name": "stderr",
          "output_type": "stream",
          "text": [
            "100%|██████████| 193/193 [01:31<00:00,  2.11it/s]\n",
            "100%|██████████| 1/1 [00:07<00:00,  7.01s/it]\n"
          ]
        },
        {
          "name": "stdout",
          "output_type": "stream",
          "text": [
            "[ Valid | 055/300 ] acc = 0.51515\n"
          ]
        },
        {
          "name": "stderr",
          "output_type": "stream",
          "text": [
            "100%|██████████| 193/193 [01:31<00:00,  2.10it/s]\n",
            "100%|██████████| 1/1 [00:07<00:00,  7.02s/it]\n"
          ]
        },
        {
          "name": "stdout",
          "output_type": "stream",
          "text": [
            "[ Valid | 056/300 ] acc = 0.48788\n"
          ]
        },
        {
          "name": "stderr",
          "output_type": "stream",
          "text": [
            "100%|██████████| 193/193 [01:31<00:00,  2.10it/s]\n",
            "100%|██████████| 1/1 [00:06<00:00,  6.98s/it]\n"
          ]
        },
        {
          "name": "stdout",
          "output_type": "stream",
          "text": [
            "[ Valid | 057/300 ] acc = 0.58030\n",
            "[057/300] saving model with acc 0.580\n"
          ]
        },
        {
          "name": "stderr",
          "output_type": "stream",
          "text": [
            "100%|██████████| 193/193 [01:30<00:00,  2.14it/s]\n",
            "100%|██████████| 1/1 [00:07<00:00,  7.81s/it]\n"
          ]
        },
        {
          "name": "stdout",
          "output_type": "stream",
          "text": [
            "[ Valid | 058/300 ] acc = 0.54848\n"
          ]
        },
        {
          "name": "stderr",
          "output_type": "stream",
          "text": [
            "100%|██████████| 193/193 [01:31<00:00,  2.12it/s]\n",
            "100%|██████████| 1/1 [00:07<00:00,  7.06s/it]\n"
          ]
        },
        {
          "name": "stdout",
          "output_type": "stream",
          "text": [
            "[ Valid | 059/300 ] acc = 0.56818\n"
          ]
        },
        {
          "name": "stderr",
          "output_type": "stream",
          "text": [
            "100%|██████████| 193/193 [01:31<00:00,  2.12it/s]\n",
            "100%|██████████| 1/1 [00:07<00:00,  7.05s/it]\n"
          ]
        },
        {
          "name": "stdout",
          "output_type": "stream",
          "text": [
            "[ Valid | 060/300 ] acc = 0.42879\n"
          ]
        },
        {
          "name": "stderr",
          "output_type": "stream",
          "text": [
            "100%|██████████| 193/193 [01:31<00:00,  2.11it/s]\n",
            "100%|██████████| 1/1 [00:06<00:00,  6.91s/it]\n"
          ]
        },
        {
          "name": "stdout",
          "output_type": "stream",
          "text": [
            "[ Valid | 061/300 ] acc = 0.40455\n"
          ]
        },
        {
          "name": "stderr",
          "output_type": "stream",
          "text": [
            "100%|██████████| 193/193 [01:30<00:00,  2.12it/s]\n",
            "100%|██████████| 1/1 [00:06<00:00,  6.79s/it]\n"
          ]
        },
        {
          "name": "stdout",
          "output_type": "stream",
          "text": [
            "[ Valid | 062/300 ] acc = 0.56970\n"
          ]
        },
        {
          "name": "stderr",
          "output_type": "stream",
          "text": [
            "100%|██████████| 193/193 [01:31<00:00,  2.10it/s]\n",
            "100%|██████████| 1/1 [00:06<00:00,  6.92s/it]\n"
          ]
        },
        {
          "name": "stdout",
          "output_type": "stream",
          "text": [
            "[ Valid | 063/300 ] acc = 0.57879\n"
          ]
        },
        {
          "name": "stderr",
          "output_type": "stream",
          "text": [
            "100%|██████████| 193/193 [01:31<00:00,  2.11it/s]\n",
            "100%|██████████| 1/1 [00:06<00:00,  6.76s/it]\n"
          ]
        },
        {
          "name": "stdout",
          "output_type": "stream",
          "text": [
            "[ Valid | 064/300 ] acc = 0.58788\n",
            "[064/300] saving model with acc 0.588\n"
          ]
        },
        {
          "name": "stderr",
          "output_type": "stream",
          "text": [
            "100%|██████████| 193/193 [01:31<00:00,  2.12it/s]\n",
            "100%|██████████| 1/1 [00:06<00:00,  6.80s/it]\n"
          ]
        },
        {
          "name": "stdout",
          "output_type": "stream",
          "text": [
            "[ Valid | 065/300 ] acc = 0.60909\n",
            "[065/300] saving model with acc 0.609\n"
          ]
        },
        {
          "name": "stderr",
          "output_type": "stream",
          "text": [
            "100%|██████████| 193/193 [01:31<00:00,  2.12it/s]\n",
            "100%|██████████| 1/1 [00:06<00:00,  6.77s/it]\n"
          ]
        },
        {
          "name": "stdout",
          "output_type": "stream",
          "text": [
            "[ Valid | 066/300 ] acc = 0.58939\n"
          ]
        },
        {
          "name": "stderr",
          "output_type": "stream",
          "text": [
            "100%|██████████| 193/193 [01:32<00:00,  2.09it/s]\n",
            "100%|██████████| 1/1 [00:07<00:00,  7.25s/it]\n"
          ]
        },
        {
          "name": "stdout",
          "output_type": "stream",
          "text": [
            "[ Valid | 067/300 ] acc = 0.51212\n"
          ]
        },
        {
          "name": "stderr",
          "output_type": "stream",
          "text": [
            "100%|██████████| 193/193 [01:31<00:00,  2.11it/s]\n",
            "100%|██████████| 1/1 [00:07<00:00,  7.08s/it]\n"
          ]
        },
        {
          "name": "stdout",
          "output_type": "stream",
          "text": [
            "[ Valid | 068/300 ] acc = 0.58030\n"
          ]
        },
        {
          "name": "stderr",
          "output_type": "stream",
          "text": [
            "100%|██████████| 193/193 [01:31<00:00,  2.10it/s]\n",
            "100%|██████████| 1/1 [00:06<00:00,  6.86s/it]\n"
          ]
        },
        {
          "name": "stdout",
          "output_type": "stream",
          "text": [
            "[ Valid | 069/300 ] acc = 0.56515\n"
          ]
        },
        {
          "name": "stderr",
          "output_type": "stream",
          "text": [
            "100%|██████████| 193/193 [01:31<00:00,  2.10it/s]\n",
            "100%|██████████| 1/1 [00:07<00:00,  7.02s/it]\n"
          ]
        },
        {
          "name": "stdout",
          "output_type": "stream",
          "text": [
            "[ Valid | 070/300 ] acc = 0.63333\n",
            "[070/300] saving model with acc 0.633\n"
          ]
        },
        {
          "name": "stderr",
          "output_type": "stream",
          "text": [
            "100%|██████████| 193/193 [01:31<00:00,  2.11it/s]\n",
            "100%|██████████| 1/1 [00:06<00:00,  6.87s/it]\n"
          ]
        },
        {
          "name": "stdout",
          "output_type": "stream",
          "text": [
            "[ Valid | 071/300 ] acc = 0.63636\n",
            "[071/300] saving model with acc 0.636\n"
          ]
        },
        {
          "name": "stderr",
          "output_type": "stream",
          "text": [
            "100%|██████████| 193/193 [01:30<00:00,  2.12it/s]\n",
            "100%|██████████| 1/1 [00:06<00:00,  6.86s/it]\n"
          ]
        },
        {
          "name": "stdout",
          "output_type": "stream",
          "text": [
            "[ Valid | 072/300 ] acc = 0.57879\n"
          ]
        },
        {
          "name": "stderr",
          "output_type": "stream",
          "text": [
            "100%|██████████| 193/193 [01:31<00:00,  2.12it/s]\n",
            "100%|██████████| 1/1 [00:06<00:00,  6.74s/it]\n"
          ]
        },
        {
          "name": "stdout",
          "output_type": "stream",
          "text": [
            "[ Valid | 073/300 ] acc = 0.48788\n"
          ]
        },
        {
          "name": "stderr",
          "output_type": "stream",
          "text": [
            "100%|██████████| 193/193 [01:32<00:00,  2.10it/s]\n",
            "100%|██████████| 1/1 [00:06<00:00,  6.76s/it]\n"
          ]
        },
        {
          "name": "stdout",
          "output_type": "stream",
          "text": [
            "[ Valid | 074/300 ] acc = 0.61970\n"
          ]
        },
        {
          "name": "stderr",
          "output_type": "stream",
          "text": [
            "100%|██████████| 193/193 [01:31<00:00,  2.11it/s]\n",
            "100%|██████████| 1/1 [00:07<00:00,  7.06s/it]\n"
          ]
        },
        {
          "name": "stdout",
          "output_type": "stream",
          "text": [
            "[ Valid | 075/300 ] acc = 0.62121\n"
          ]
        },
        {
          "name": "stderr",
          "output_type": "stream",
          "text": [
            "100%|██████████| 193/193 [01:31<00:00,  2.12it/s]\n",
            "100%|██████████| 1/1 [00:07<00:00,  7.21s/it]\n"
          ]
        },
        {
          "name": "stdout",
          "output_type": "stream",
          "text": [
            "[ Valid | 076/300 ] acc = 0.62424\n"
          ]
        },
        {
          "name": "stderr",
          "output_type": "stream",
          "text": [
            "100%|██████████| 193/193 [01:30<00:00,  2.13it/s]\n",
            "100%|██████████| 1/1 [00:06<00:00,  6.88s/it]\n"
          ]
        },
        {
          "name": "stdout",
          "output_type": "stream",
          "text": [
            "[ Valid | 077/300 ] acc = 0.61970\n"
          ]
        },
        {
          "name": "stderr",
          "output_type": "stream",
          "text": [
            "100%|██████████| 193/193 [01:32<00:00,  2.09it/s]\n",
            "100%|██████████| 1/1 [00:06<00:00,  6.84s/it]\n"
          ]
        },
        {
          "name": "stdout",
          "output_type": "stream",
          "text": [
            "[ Valid | 078/300 ] acc = 0.62273\n"
          ]
        },
        {
          "name": "stderr",
          "output_type": "stream",
          "text": [
            "100%|██████████| 193/193 [01:31<00:00,  2.11it/s]\n",
            "100%|██████████| 1/1 [00:06<00:00,  6.92s/it]\n"
          ]
        },
        {
          "name": "stdout",
          "output_type": "stream",
          "text": [
            "[ Valid | 079/300 ] acc = 0.61818\n"
          ]
        },
        {
          "name": "stderr",
          "output_type": "stream",
          "text": [
            "100%|██████████| 193/193 [01:31<00:00,  2.10it/s]\n",
            "100%|██████████| 1/1 [00:06<00:00,  6.74s/it]\n"
          ]
        },
        {
          "name": "stdout",
          "output_type": "stream",
          "text": [
            "[ Valid | 080/300 ] acc = 0.64394\n",
            "[080/300] saving model with acc 0.644\n"
          ]
        },
        {
          "name": "stderr",
          "output_type": "stream",
          "text": [
            "100%|██████████| 193/193 [01:31<00:00,  2.11it/s]\n",
            "100%|██████████| 1/1 [00:06<00:00,  6.77s/it]\n"
          ]
        },
        {
          "name": "stdout",
          "output_type": "stream",
          "text": [
            "[ Valid | 081/300 ] acc = 0.66061\n",
            "[081/300] saving model with acc 0.661\n"
          ]
        },
        {
          "name": "stderr",
          "output_type": "stream",
          "text": [
            "100%|██████████| 193/193 [01:32<00:00,  2.10it/s]\n",
            "100%|██████████| 1/1 [00:06<00:00,  6.91s/it]\n"
          ]
        },
        {
          "name": "stdout",
          "output_type": "stream",
          "text": [
            "[ Valid | 082/300 ] acc = 0.64242\n"
          ]
        },
        {
          "name": "stderr",
          "output_type": "stream",
          "text": [
            "100%|██████████| 193/193 [01:31<00:00,  2.10it/s]\n",
            "100%|██████████| 1/1 [00:06<00:00,  6.79s/it]\n"
          ]
        },
        {
          "name": "stdout",
          "output_type": "stream",
          "text": [
            "[ Valid | 083/300 ] acc = 0.65606\n"
          ]
        },
        {
          "name": "stderr",
          "output_type": "stream",
          "text": [
            "100%|██████████| 193/193 [01:31<00:00,  2.10it/s]\n",
            "100%|██████████| 1/1 [00:07<00:00,  7.13s/it]\n"
          ]
        },
        {
          "name": "stdout",
          "output_type": "stream",
          "text": [
            "[ Valid | 084/300 ] acc = 0.66667\n",
            "[084/300] saving model with acc 0.667\n"
          ]
        },
        {
          "name": "stderr",
          "output_type": "stream",
          "text": [
            "100%|██████████| 193/193 [01:31<00:00,  2.11it/s]\n",
            "100%|██████████| 1/1 [00:07<00:00,  7.24s/it]\n"
          ]
        },
        {
          "name": "stdout",
          "output_type": "stream",
          "text": [
            "[ Valid | 085/300 ] acc = 0.65606\n"
          ]
        },
        {
          "name": "stderr",
          "output_type": "stream",
          "text": [
            "100%|██████████| 193/193 [01:32<00:00,  2.09it/s]\n",
            "100%|██████████| 1/1 [00:06<00:00,  6.78s/it]\n"
          ]
        },
        {
          "name": "stdout",
          "output_type": "stream",
          "text": [
            "[ Valid | 086/300 ] acc = 0.62576\n"
          ]
        },
        {
          "name": "stderr",
          "output_type": "stream",
          "text": [
            "100%|██████████| 193/193 [01:32<00:00,  2.10it/s]\n",
            "100%|██████████| 1/1 [00:06<00:00,  6.92s/it]\n"
          ]
        },
        {
          "name": "stdout",
          "output_type": "stream",
          "text": [
            "[ Valid | 087/300 ] acc = 0.69091\n",
            "[087/300] saving model with acc 0.691\n"
          ]
        },
        {
          "name": "stderr",
          "output_type": "stream",
          "text": [
            "100%|██████████| 193/193 [01:31<00:00,  2.12it/s]\n",
            "100%|██████████| 1/1 [00:06<00:00,  6.84s/it]\n"
          ]
        },
        {
          "name": "stdout",
          "output_type": "stream",
          "text": [
            "[ Valid | 088/300 ] acc = 0.63788\n"
          ]
        },
        {
          "name": "stderr",
          "output_type": "stream",
          "text": [
            "100%|██████████| 193/193 [01:31<00:00,  2.11it/s]\n",
            "100%|██████████| 1/1 [00:06<00:00,  6.81s/it]\n"
          ]
        },
        {
          "name": "stdout",
          "output_type": "stream",
          "text": [
            "[ Valid | 089/300 ] acc = 0.68182\n"
          ]
        },
        {
          "name": "stderr",
          "output_type": "stream",
          "text": [
            "100%|██████████| 193/193 [01:31<00:00,  2.11it/s]\n",
            "100%|██████████| 1/1 [00:06<00:00,  6.75s/it]\n"
          ]
        },
        {
          "name": "stdout",
          "output_type": "stream",
          "text": [
            "[ Valid | 090/300 ] acc = 0.69697\n",
            "[090/300] saving model with acc 0.697\n"
          ]
        },
        {
          "name": "stderr",
          "output_type": "stream",
          "text": [
            "100%|██████████| 193/193 [01:31<00:00,  2.10it/s]\n",
            "100%|██████████| 1/1 [00:06<00:00,  6.86s/it]\n"
          ]
        },
        {
          "name": "stdout",
          "output_type": "stream",
          "text": [
            "[ Valid | 091/300 ] acc = 0.66667\n"
          ]
        },
        {
          "name": "stderr",
          "output_type": "stream",
          "text": [
            "100%|██████████| 193/193 [01:31<00:00,  2.10it/s]\n",
            "100%|██████████| 1/1 [00:06<00:00,  6.99s/it]\n"
          ]
        },
        {
          "name": "stdout",
          "output_type": "stream",
          "text": [
            "[ Valid | 092/300 ] acc = 0.58788\n"
          ]
        },
        {
          "name": "stderr",
          "output_type": "stream",
          "text": [
            "100%|██████████| 193/193 [01:31<00:00,  2.12it/s]\n",
            "100%|██████████| 1/1 [00:07<00:00,  7.30s/it]\n"
          ]
        },
        {
          "name": "stdout",
          "output_type": "stream",
          "text": [
            "[ Valid | 093/300 ] acc = 0.64545\n"
          ]
        },
        {
          "name": "stderr",
          "output_type": "stream",
          "text": [
            "100%|██████████| 193/193 [01:31<00:00,  2.11it/s]\n",
            "100%|██████████| 1/1 [00:06<00:00,  6.86s/it]\n"
          ]
        },
        {
          "name": "stdout",
          "output_type": "stream",
          "text": [
            "[ Valid | 094/300 ] acc = 0.65000\n"
          ]
        },
        {
          "name": "stderr",
          "output_type": "stream",
          "text": [
            "100%|██████████| 193/193 [01:32<00:00,  2.10it/s]\n",
            "100%|██████████| 1/1 [00:06<00:00,  6.74s/it]\n"
          ]
        },
        {
          "name": "stdout",
          "output_type": "stream",
          "text": [
            "[ Valid | 095/300 ] acc = 0.64394\n"
          ]
        },
        {
          "name": "stderr",
          "output_type": "stream",
          "text": [
            "100%|██████████| 193/193 [01:31<00:00,  2.10it/s]\n",
            "100%|██████████| 1/1 [00:06<00:00,  6.83s/it]\n"
          ]
        },
        {
          "name": "stdout",
          "output_type": "stream",
          "text": [
            "[ Valid | 096/300 ] acc = 0.67121\n"
          ]
        },
        {
          "name": "stderr",
          "output_type": "stream",
          "text": [
            "100%|██████████| 193/193 [01:31<00:00,  2.10it/s]\n",
            "100%|██████████| 1/1 [00:06<00:00,  6.86s/it]\n"
          ]
        },
        {
          "name": "stdout",
          "output_type": "stream",
          "text": [
            "[ Valid | 097/300 ] acc = 0.69697\n"
          ]
        },
        {
          "name": "stderr",
          "output_type": "stream",
          "text": [
            "100%|██████████| 193/193 [01:32<00:00,  2.09it/s]\n",
            "100%|██████████| 1/1 [00:06<00:00,  6.79s/it]\n"
          ]
        },
        {
          "name": "stdout",
          "output_type": "stream",
          "text": [
            "[ Valid | 098/300 ] acc = 0.69848\n",
            "[098/300] saving model with acc 0.698\n"
          ]
        },
        {
          "name": "stderr",
          "output_type": "stream",
          "text": [
            "100%|██████████| 193/193 [01:32<00:00,  2.09it/s]\n",
            "100%|██████████| 1/1 [00:06<00:00,  6.82s/it]\n"
          ]
        },
        {
          "name": "stdout",
          "output_type": "stream",
          "text": [
            "[ Valid | 099/300 ] acc = 0.69848\n"
          ]
        },
        {
          "name": "stderr",
          "output_type": "stream",
          "text": [
            "100%|██████████| 193/193 [01:31<00:00,  2.11it/s]\n",
            "100%|██████████| 1/1 [00:06<00:00,  6.78s/it]\n"
          ]
        },
        {
          "name": "stdout",
          "output_type": "stream",
          "text": [
            "[ Valid | 100/300 ] acc = 0.67879\n"
          ]
        },
        {
          "name": "stderr",
          "output_type": "stream",
          "text": [
            "100%|██████████| 193/193 [01:32<00:00,  2.09it/s]\n",
            "100%|██████████| 1/1 [00:07<00:00,  7.21s/it]\n"
          ]
        },
        {
          "name": "stdout",
          "output_type": "stream",
          "text": [
            "[ Valid | 101/300 ] acc = 0.66970\n"
          ]
        },
        {
          "name": "stderr",
          "output_type": "stream",
          "text": [
            "100%|██████████| 193/193 [01:31<00:00,  2.10it/s]\n",
            "100%|██████████| 1/1 [00:07<00:00,  7.27s/it]\n"
          ]
        },
        {
          "name": "stdout",
          "output_type": "stream",
          "text": [
            "[ Valid | 102/300 ] acc = 0.71061\n",
            "[102/300] saving model with acc 0.711\n"
          ]
        },
        {
          "name": "stderr",
          "output_type": "stream",
          "text": [
            "100%|██████████| 193/193 [01:32<00:00,  2.09it/s]\n",
            "100%|██████████| 1/1 [00:06<00:00,  6.78s/it]\n"
          ]
        },
        {
          "name": "stdout",
          "output_type": "stream",
          "text": [
            "[ Valid | 103/300 ] acc = 0.71061\n"
          ]
        },
        {
          "name": "stderr",
          "output_type": "stream",
          "text": [
            "100%|██████████| 193/193 [01:32<00:00,  2.09it/s]\n",
            "100%|██████████| 1/1 [00:06<00:00,  6.78s/it]\n"
          ]
        },
        {
          "name": "stdout",
          "output_type": "stream",
          "text": [
            "[ Valid | 104/300 ] acc = 0.68636\n"
          ]
        },
        {
          "name": "stderr",
          "output_type": "stream",
          "text": [
            "100%|██████████| 193/193 [01:31<00:00,  2.10it/s]\n",
            "100%|██████████| 1/1 [00:06<00:00,  6.82s/it]\n"
          ]
        },
        {
          "name": "stdout",
          "output_type": "stream",
          "text": [
            "[ Valid | 105/300 ] acc = 0.69697\n"
          ]
        },
        {
          "name": "stderr",
          "output_type": "stream",
          "text": [
            "100%|██████████| 193/193 [01:31<00:00,  2.10it/s]\n",
            "100%|██████████| 1/1 [00:06<00:00,  6.98s/it]\n"
          ]
        },
        {
          "name": "stdout",
          "output_type": "stream",
          "text": [
            "[ Valid | 106/300 ] acc = 0.68333\n"
          ]
        },
        {
          "name": "stderr",
          "output_type": "stream",
          "text": [
            "100%|██████████| 193/193 [01:32<00:00,  2.10it/s]\n",
            "100%|██████████| 1/1 [00:07<00:00,  7.32s/it]\n"
          ]
        },
        {
          "name": "stdout",
          "output_type": "stream",
          "text": [
            "[ Valid | 107/300 ] acc = 0.68788\n"
          ]
        },
        {
          "name": "stderr",
          "output_type": "stream",
          "text": [
            "100%|██████████| 193/193 [01:31<00:00,  2.11it/s]\n",
            "100%|██████████| 1/1 [00:07<00:00,  7.35s/it]\n"
          ]
        },
        {
          "name": "stdout",
          "output_type": "stream",
          "text": [
            "[ Valid | 108/300 ] acc = 0.64091\n"
          ]
        },
        {
          "name": "stderr",
          "output_type": "stream",
          "text": [
            "100%|██████████| 193/193 [01:31<00:00,  2.10it/s]\n",
            "100%|██████████| 1/1 [00:07<00:00,  7.79s/it]\n"
          ]
        },
        {
          "name": "stdout",
          "output_type": "stream",
          "text": [
            "[ Valid | 109/300 ] acc = 0.71212\n",
            "[109/300] saving model with acc 0.712\n"
          ]
        },
        {
          "name": "stderr",
          "output_type": "stream",
          "text": [
            "100%|██████████| 193/193 [01:31<00:00,  2.12it/s]\n",
            "100%|██████████| 1/1 [00:06<00:00,  6.78s/it]\n"
          ]
        },
        {
          "name": "stdout",
          "output_type": "stream",
          "text": [
            "[ Valid | 110/300 ] acc = 0.72576\n",
            "[110/300] saving model with acc 0.726\n"
          ]
        },
        {
          "name": "stderr",
          "output_type": "stream",
          "text": [
            "100%|██████████| 193/193 [01:32<00:00,  2.09it/s]\n",
            "100%|██████████| 1/1 [00:06<00:00,  6.90s/it]\n"
          ]
        },
        {
          "name": "stdout",
          "output_type": "stream",
          "text": [
            "[ Valid | 111/300 ] acc = 0.70303\n"
          ]
        },
        {
          "name": "stderr",
          "output_type": "stream",
          "text": [
            "100%|██████████| 193/193 [01:31<00:00,  2.11it/s]\n",
            "100%|██████████| 1/1 [00:06<00:00,  6.82s/it]\n"
          ]
        },
        {
          "name": "stdout",
          "output_type": "stream",
          "text": [
            "[ Valid | 112/300 ] acc = 0.67273\n"
          ]
        },
        {
          "name": "stderr",
          "output_type": "stream",
          "text": [
            "100%|██████████| 193/193 [01:32<00:00,  2.10it/s]\n",
            "100%|██████████| 1/1 [00:06<00:00,  6.87s/it]\n"
          ]
        },
        {
          "name": "stdout",
          "output_type": "stream",
          "text": [
            "[ Valid | 113/300 ] acc = 0.69242\n"
          ]
        },
        {
          "name": "stderr",
          "output_type": "stream",
          "text": [
            "100%|██████████| 193/193 [01:32<00:00,  2.09it/s]\n",
            "100%|██████████| 1/1 [00:06<00:00,  6.81s/it]\n"
          ]
        },
        {
          "name": "stdout",
          "output_type": "stream",
          "text": [
            "[ Valid | 114/300 ] acc = 0.69242\n"
          ]
        },
        {
          "name": "stderr",
          "output_type": "stream",
          "text": [
            "100%|██████████| 193/193 [01:31<00:00,  2.11it/s]\n",
            "100%|██████████| 1/1 [00:06<00:00,  6.86s/it]\n"
          ]
        },
        {
          "name": "stdout",
          "output_type": "stream",
          "text": [
            "[ Valid | 115/300 ] acc = 0.70455\n"
          ]
        },
        {
          "name": "stderr",
          "output_type": "stream",
          "text": [
            "100%|██████████| 193/193 [01:31<00:00,  2.11it/s]\n",
            "100%|██████████| 1/1 [00:06<00:00,  6.80s/it]\n"
          ]
        },
        {
          "name": "stdout",
          "output_type": "stream",
          "text": [
            "[ Valid | 116/300 ] acc = 0.71818\n"
          ]
        },
        {
          "name": "stderr",
          "output_type": "stream",
          "text": [
            "100%|██████████| 193/193 [01:32<00:00,  2.10it/s]\n",
            "100%|██████████| 1/1 [00:07<00:00,  7.21s/it]\n"
          ]
        },
        {
          "name": "stdout",
          "output_type": "stream",
          "text": [
            "[ Valid | 117/300 ] acc = 0.74091\n",
            "[117/300] saving model with acc 0.741\n"
          ]
        },
        {
          "name": "stderr",
          "output_type": "stream",
          "text": [
            "100%|██████████| 193/193 [01:32<00:00,  2.09it/s]\n",
            "100%|██████████| 1/1 [00:06<00:00,  6.85s/it]\n"
          ]
        },
        {
          "name": "stdout",
          "output_type": "stream",
          "text": [
            "[ Valid | 118/300 ] acc = 0.69394\n"
          ]
        },
        {
          "name": "stderr",
          "output_type": "stream",
          "text": [
            "100%|██████████| 193/193 [01:31<00:00,  2.11it/s]\n",
            "100%|██████████| 1/1 [00:07<00:00,  7.29s/it]\n"
          ]
        },
        {
          "name": "stdout",
          "output_type": "stream",
          "text": [
            "[ Valid | 119/300 ] acc = 0.69697\n"
          ]
        },
        {
          "name": "stderr",
          "output_type": "stream",
          "text": [
            "100%|██████████| 193/193 [01:31<00:00,  2.12it/s]\n",
            "100%|██████████| 1/1 [00:06<00:00,  6.86s/it]\n"
          ]
        },
        {
          "name": "stdout",
          "output_type": "stream",
          "text": [
            "[ Valid | 120/300 ] acc = 0.73636\n"
          ]
        },
        {
          "name": "stderr",
          "output_type": "stream",
          "text": [
            "100%|██████████| 193/193 [01:31<00:00,  2.10it/s]\n",
            "100%|██████████| 1/1 [00:06<00:00,  6.73s/it]\n"
          ]
        },
        {
          "name": "stdout",
          "output_type": "stream",
          "text": [
            "[ Valid | 121/300 ] acc = 0.71515\n"
          ]
        },
        {
          "name": "stderr",
          "output_type": "stream",
          "text": [
            "100%|██████████| 193/193 [01:32<00:00,  2.10it/s]\n",
            "100%|██████████| 1/1 [00:06<00:00,  6.80s/it]\n"
          ]
        },
        {
          "name": "stdout",
          "output_type": "stream",
          "text": [
            "[ Valid | 122/300 ] acc = 0.69697\n"
          ]
        },
        {
          "name": "stderr",
          "output_type": "stream",
          "text": [
            "100%|██████████| 193/193 [01:32<00:00,  2.09it/s]\n",
            "100%|██████████| 1/1 [00:07<00:00,  7.02s/it]\n"
          ]
        },
        {
          "name": "stdout",
          "output_type": "stream",
          "text": [
            "[ Valid | 123/300 ] acc = 0.71970\n"
          ]
        },
        {
          "name": "stderr",
          "output_type": "stream",
          "text": [
            "100%|██████████| 193/193 [01:32<00:00,  2.09it/s]\n",
            "100%|██████████| 1/1 [00:07<00:00,  7.11s/it]\n"
          ]
        },
        {
          "name": "stdout",
          "output_type": "stream",
          "text": [
            "[ Valid | 124/300 ] acc = 0.69091\n"
          ]
        },
        {
          "name": "stderr",
          "output_type": "stream",
          "text": [
            "100%|██████████| 193/193 [01:32<00:00,  2.10it/s]\n",
            "100%|██████████| 1/1 [00:07<00:00,  7.46s/it]\n"
          ]
        },
        {
          "name": "stdout",
          "output_type": "stream",
          "text": [
            "[ Valid | 125/300 ] acc = 0.73636\n"
          ]
        },
        {
          "name": "stderr",
          "output_type": "stream",
          "text": [
            "100%|██████████| 193/193 [01:30<00:00,  2.12it/s]\n",
            "100%|██████████| 1/1 [00:07<00:00,  7.45s/it]\n"
          ]
        },
        {
          "name": "stdout",
          "output_type": "stream",
          "text": [
            "[ Valid | 126/300 ] acc = 0.72576\n"
          ]
        },
        {
          "name": "stderr",
          "output_type": "stream",
          "text": [
            "100%|██████████| 193/193 [01:31<00:00,  2.12it/s]\n",
            "100%|██████████| 1/1 [00:07<00:00,  7.10s/it]\n"
          ]
        },
        {
          "name": "stdout",
          "output_type": "stream",
          "text": [
            "[ Valid | 127/300 ] acc = 0.71970\n"
          ]
        },
        {
          "name": "stderr",
          "output_type": "stream",
          "text": [
            "100%|██████████| 193/193 [01:33<00:00,  2.07it/s]\n",
            "100%|██████████| 1/1 [00:07<00:00,  7.04s/it]\n"
          ]
        },
        {
          "name": "stdout",
          "output_type": "stream",
          "text": [
            "[ Valid | 128/300 ] acc = 0.72727\n"
          ]
        },
        {
          "name": "stderr",
          "output_type": "stream",
          "text": [
            "100%|██████████| 193/193 [01:33<00:00,  2.07it/s]\n",
            "100%|██████████| 1/1 [00:07<00:00,  7.00s/it]\n"
          ]
        },
        {
          "name": "stdout",
          "output_type": "stream",
          "text": [
            "[ Valid | 129/300 ] acc = 0.74848\n",
            "[129/300] saving model with acc 0.748\n"
          ]
        },
        {
          "name": "stderr",
          "output_type": "stream",
          "text": [
            "100%|██████████| 193/193 [01:32<00:00,  2.09it/s]\n",
            "100%|██████████| 1/1 [00:06<00:00,  6.98s/it]\n"
          ]
        },
        {
          "name": "stdout",
          "output_type": "stream",
          "text": [
            "[ Valid | 130/300 ] acc = 0.73182\n"
          ]
        },
        {
          "name": "stderr",
          "output_type": "stream",
          "text": [
            "100%|██████████| 193/193 [01:31<00:00,  2.10it/s]\n",
            "100%|██████████| 1/1 [00:06<00:00,  6.94s/it]\n"
          ]
        },
        {
          "name": "stdout",
          "output_type": "stream",
          "text": [
            "[ Valid | 131/300 ] acc = 0.71667\n"
          ]
        },
        {
          "name": "stderr",
          "output_type": "stream",
          "text": [
            "100%|██████████| 193/193 [01:32<00:00,  2.10it/s]\n",
            "100%|██████████| 1/1 [00:06<00:00,  6.95s/it]\n"
          ]
        },
        {
          "name": "stdout",
          "output_type": "stream",
          "text": [
            "[ Valid | 132/300 ] acc = 0.75000\n",
            "[132/300] saving model with acc 0.750\n"
          ]
        },
        {
          "name": "stderr",
          "output_type": "stream",
          "text": [
            "100%|██████████| 193/193 [01:32<00:00,  2.09it/s]\n",
            "100%|██████████| 1/1 [00:07<00:00,  7.25s/it]\n"
          ]
        },
        {
          "name": "stdout",
          "output_type": "stream",
          "text": [
            "[ Valid | 133/300 ] acc = 0.70303\n"
          ]
        },
        {
          "name": "stderr",
          "output_type": "stream",
          "text": [
            "100%|██████████| 193/193 [01:31<00:00,  2.10it/s]\n",
            "100%|██████████| 1/1 [00:07<00:00,  7.27s/it]\n"
          ]
        },
        {
          "name": "stdout",
          "output_type": "stream",
          "text": [
            "[ Valid | 134/300 ] acc = 0.71818\n"
          ]
        },
        {
          "name": "stderr",
          "output_type": "stream",
          "text": [
            "100%|██████████| 193/193 [01:31<00:00,  2.11it/s]\n",
            "100%|██████████| 1/1 [00:06<00:00,  6.79s/it]\n"
          ]
        },
        {
          "name": "stdout",
          "output_type": "stream",
          "text": [
            "[ Valid | 135/300 ] acc = 0.72879\n"
          ]
        },
        {
          "name": "stderr",
          "output_type": "stream",
          "text": [
            "100%|██████████| 193/193 [01:32<00:00,  2.09it/s]\n",
            "100%|██████████| 1/1 [00:06<00:00,  6.77s/it]\n"
          ]
        },
        {
          "name": "stdout",
          "output_type": "stream",
          "text": [
            "[ Valid | 136/300 ] acc = 0.73182\n"
          ]
        },
        {
          "name": "stderr",
          "output_type": "stream",
          "text": [
            "100%|██████████| 193/193 [01:33<00:00,  2.07it/s]\n",
            "100%|██████████| 1/1 [00:06<00:00,  6.81s/it]\n"
          ]
        },
        {
          "name": "stdout",
          "output_type": "stream",
          "text": [
            "[ Valid | 137/300 ] acc = 0.72576\n"
          ]
        },
        {
          "name": "stderr",
          "output_type": "stream",
          "text": [
            "100%|██████████| 193/193 [01:32<00:00,  2.08it/s]\n",
            "100%|██████████| 1/1 [00:06<00:00,  6.91s/it]\n"
          ]
        },
        {
          "name": "stdout",
          "output_type": "stream",
          "text": [
            "[ Valid | 138/300 ] acc = 0.69545\n"
          ]
        },
        {
          "name": "stderr",
          "output_type": "stream",
          "text": [
            "100%|██████████| 193/193 [01:32<00:00,  2.09it/s]\n",
            "100%|██████████| 1/1 [00:06<00:00,  6.73s/it]\n"
          ]
        },
        {
          "name": "stdout",
          "output_type": "stream",
          "text": [
            "[ Valid | 139/300 ] acc = 0.74091\n"
          ]
        },
        {
          "name": "stderr",
          "output_type": "stream",
          "text": [
            "100%|██████████| 193/193 [01:32<00:00,  2.10it/s]\n",
            "100%|██████████| 1/1 [00:07<00:00,  7.66s/it]\n"
          ]
        },
        {
          "name": "stdout",
          "output_type": "stream",
          "text": [
            "[ Valid | 140/300 ] acc = 0.74697\n"
          ]
        },
        {
          "name": "stderr",
          "output_type": "stream",
          "text": [
            "100%|██████████| 193/193 [01:31<00:00,  2.11it/s]\n",
            "100%|██████████| 1/1 [00:07<00:00,  7.23s/it]\n"
          ]
        },
        {
          "name": "stdout",
          "output_type": "stream",
          "text": [
            "[ Valid | 141/300 ] acc = 0.74394\n"
          ]
        },
        {
          "name": "stderr",
          "output_type": "stream",
          "text": [
            "100%|██████████| 193/193 [01:33<00:00,  2.07it/s]\n",
            "100%|██████████| 1/1 [00:06<00:00,  6.81s/it]\n"
          ]
        },
        {
          "name": "stdout",
          "output_type": "stream",
          "text": [
            "[ Valid | 142/300 ] acc = 0.73788\n"
          ]
        },
        {
          "name": "stderr",
          "output_type": "stream",
          "text": [
            "100%|██████████| 193/193 [01:32<00:00,  2.08it/s]\n",
            "100%|██████████| 1/1 [00:07<00:00,  7.04s/it]\n"
          ]
        },
        {
          "name": "stdout",
          "output_type": "stream",
          "text": [
            "[ Valid | 143/300 ] acc = 0.73030\n"
          ]
        },
        {
          "name": "stderr",
          "output_type": "stream",
          "text": [
            "100%|██████████| 193/193 [01:34<00:00,  2.05it/s]\n",
            "100%|██████████| 1/1 [00:07<00:00,  7.03s/it]\n"
          ]
        },
        {
          "name": "stdout",
          "output_type": "stream",
          "text": [
            "[ Valid | 144/300 ] acc = 0.75606\n",
            "[144/300] saving model with acc 0.756\n"
          ]
        },
        {
          "name": "stderr",
          "output_type": "stream",
          "text": [
            "100%|██████████| 193/193 [01:33<00:00,  2.07it/s]\n",
            "100%|██████████| 1/1 [00:06<00:00,  6.98s/it]\n"
          ]
        },
        {
          "name": "stdout",
          "output_type": "stream",
          "text": [
            "[ Valid | 145/300 ] acc = 0.74545\n"
          ]
        },
        {
          "name": "stderr",
          "output_type": "stream",
          "text": [
            "100%|██████████| 193/193 [01:33<00:00,  2.07it/s]\n",
            "100%|██████████| 1/1 [00:06<00:00,  6.84s/it]\n"
          ]
        },
        {
          "name": "stdout",
          "output_type": "stream",
          "text": [
            "[ Valid | 146/300 ] acc = 0.76364\n",
            "[146/300] saving model with acc 0.764\n"
          ]
        },
        {
          "name": "stderr",
          "output_type": "stream",
          "text": [
            "100%|██████████| 193/193 [01:32<00:00,  2.08it/s]\n",
            "100%|██████████| 1/1 [00:08<00:00,  8.01s/it]\n"
          ]
        },
        {
          "name": "stdout",
          "output_type": "stream",
          "text": [
            "[ Valid | 147/300 ] acc = 0.75606\n"
          ]
        },
        {
          "name": "stderr",
          "output_type": "stream",
          "text": [
            "100%|██████████| 193/193 [01:31<00:00,  2.10it/s]\n",
            "100%|██████████| 1/1 [00:06<00:00,  6.81s/it]\n"
          ]
        },
        {
          "name": "stdout",
          "output_type": "stream",
          "text": [
            "[ Valid | 148/300 ] acc = 0.75758\n"
          ]
        },
        {
          "name": "stderr",
          "output_type": "stream",
          "text": [
            "100%|██████████| 193/193 [01:32<00:00,  2.08it/s]\n",
            "100%|██████████| 1/1 [00:06<00:00,  6.72s/it]\n"
          ]
        },
        {
          "name": "stdout",
          "output_type": "stream",
          "text": [
            "[ Valid | 149/300 ] acc = 0.70606\n"
          ]
        },
        {
          "name": "stderr",
          "output_type": "stream",
          "text": [
            "100%|██████████| 193/193 [01:32<00:00,  2.09it/s]\n",
            "100%|██████████| 1/1 [00:06<00:00,  6.84s/it]\n"
          ]
        },
        {
          "name": "stdout",
          "output_type": "stream",
          "text": [
            "[ Valid | 150/300 ] acc = 0.78182\n",
            "[150/300] saving model with acc 0.782\n"
          ]
        },
        {
          "name": "stderr",
          "output_type": "stream",
          "text": [
            "100%|██████████| 193/193 [01:31<00:00,  2.10it/s]\n",
            "100%|██████████| 1/1 [00:06<00:00,  6.80s/it]\n"
          ]
        },
        {
          "name": "stdout",
          "output_type": "stream",
          "text": [
            "[ Valid | 151/300 ] acc = 0.72576\n"
          ]
        },
        {
          "name": "stderr",
          "output_type": "stream",
          "text": [
            "100%|██████████| 193/193 [01:32<00:00,  2.08it/s]\n",
            "100%|██████████| 1/1 [00:07<00:00,  7.12s/it]\n"
          ]
        },
        {
          "name": "stdout",
          "output_type": "stream",
          "text": [
            "[ Valid | 152/300 ] acc = 0.74242\n"
          ]
        },
        {
          "name": "stderr",
          "output_type": "stream",
          "text": [
            "100%|██████████| 193/193 [01:32<00:00,  2.09it/s]\n",
            "100%|██████████| 1/1 [00:07<00:00,  7.02s/it]\n"
          ]
        },
        {
          "name": "stdout",
          "output_type": "stream",
          "text": [
            "[ Valid | 153/300 ] acc = 0.73333\n"
          ]
        },
        {
          "name": "stderr",
          "output_type": "stream",
          "text": [
            "100%|██████████| 193/193 [01:32<00:00,  2.09it/s]\n",
            "100%|██████████| 1/1 [00:07<00:00,  7.50s/it]\n"
          ]
        },
        {
          "name": "stdout",
          "output_type": "stream",
          "text": [
            "[ Valid | 154/300 ] acc = 0.74697\n"
          ]
        },
        {
          "name": "stderr",
          "output_type": "stream",
          "text": [
            "100%|██████████| 193/193 [01:31<00:00,  2.10it/s]\n",
            "100%|██████████| 1/1 [00:07<00:00,  7.11s/it]\n"
          ]
        },
        {
          "name": "stdout",
          "output_type": "stream",
          "text": [
            "[ Valid | 155/300 ] acc = 0.75909\n"
          ]
        },
        {
          "name": "stderr",
          "output_type": "stream",
          "text": [
            "100%|██████████| 193/193 [01:33<00:00,  2.05it/s]\n",
            "100%|██████████| 1/1 [00:06<00:00,  6.77s/it]\n"
          ]
        },
        {
          "name": "stdout",
          "output_type": "stream",
          "text": [
            "[ Valid | 156/300 ] acc = 0.75303\n"
          ]
        },
        {
          "name": "stderr",
          "output_type": "stream",
          "text": [
            "100%|██████████| 193/193 [01:31<00:00,  2.10it/s]\n",
            "100%|██████████| 1/1 [00:07<00:00,  7.37s/it]\n"
          ]
        },
        {
          "name": "stdout",
          "output_type": "stream",
          "text": [
            "[ Valid | 157/300 ] acc = 0.76515\n"
          ]
        },
        {
          "name": "stderr",
          "output_type": "stream",
          "text": [
            "100%|██████████| 193/193 [01:31<00:00,  2.10it/s]\n",
            "100%|██████████| 1/1 [00:06<00:00,  6.79s/it]\n"
          ]
        },
        {
          "name": "stdout",
          "output_type": "stream",
          "text": [
            "[ Valid | 158/300 ] acc = 0.74848\n"
          ]
        },
        {
          "name": "stderr",
          "output_type": "stream",
          "text": [
            "100%|██████████| 193/193 [01:32<00:00,  2.08it/s]\n",
            "100%|██████████| 1/1 [00:06<00:00,  6.83s/it]\n"
          ]
        },
        {
          "name": "stdout",
          "output_type": "stream",
          "text": [
            "[ Valid | 159/300 ] acc = 0.75000\n"
          ]
        },
        {
          "name": "stderr",
          "output_type": "stream",
          "text": [
            "100%|██████████| 193/193 [01:33<00:00,  2.07it/s]\n",
            "100%|██████████| 1/1 [00:06<00:00,  6.79s/it]\n"
          ]
        },
        {
          "name": "stdout",
          "output_type": "stream",
          "text": [
            "[ Valid | 160/300 ] acc = 0.75909\n"
          ]
        },
        {
          "name": "stderr",
          "output_type": "stream",
          "text": [
            "100%|██████████| 193/193 [01:32<00:00,  2.08it/s]\n",
            "100%|██████████| 1/1 [00:07<00:00,  7.22s/it]\n"
          ]
        },
        {
          "name": "stdout",
          "output_type": "stream",
          "text": [
            "[ Valid | 161/300 ] acc = 0.75606\n"
          ]
        },
        {
          "name": "stderr",
          "output_type": "stream",
          "text": [
            "100%|██████████| 193/193 [01:31<00:00,  2.10it/s]\n",
            "100%|██████████| 1/1 [00:07<00:00,  7.72s/it]\n"
          ]
        },
        {
          "name": "stdout",
          "output_type": "stream",
          "text": [
            "[ Valid | 162/300 ] acc = 0.76970\n"
          ]
        },
        {
          "name": "stderr",
          "output_type": "stream",
          "text": [
            "100%|██████████| 193/193 [01:31<00:00,  2.11it/s]\n",
            "100%|██████████| 1/1 [00:06<00:00,  6.90s/it]\n"
          ]
        },
        {
          "name": "stdout",
          "output_type": "stream",
          "text": [
            "[ Valid | 163/300 ] acc = 0.76364\n"
          ]
        },
        {
          "name": "stderr",
          "output_type": "stream",
          "text": [
            "100%|██████████| 193/193 [01:32<00:00,  2.08it/s]\n",
            "100%|██████████| 1/1 [00:06<00:00,  6.84s/it]\n"
          ]
        },
        {
          "name": "stdout",
          "output_type": "stream",
          "text": [
            "[ Valid | 164/300 ] acc = 0.76818\n"
          ]
        },
        {
          "name": "stderr",
          "output_type": "stream",
          "text": [
            "100%|██████████| 193/193 [01:33<00:00,  2.07it/s]\n",
            "100%|██████████| 1/1 [00:06<00:00,  6.84s/it]\n"
          ]
        },
        {
          "name": "stdout",
          "output_type": "stream",
          "text": [
            "[ Valid | 165/300 ] acc = 0.74848\n"
          ]
        },
        {
          "name": "stderr",
          "output_type": "stream",
          "text": [
            "100%|██████████| 193/193 [01:32<00:00,  2.08it/s]\n",
            "100%|██████████| 1/1 [00:06<00:00,  6.91s/it]\n"
          ]
        },
        {
          "name": "stdout",
          "output_type": "stream",
          "text": [
            "[ Valid | 166/300 ] acc = 0.77727\n"
          ]
        },
        {
          "name": "stderr",
          "output_type": "stream",
          "text": [
            "100%|██████████| 193/193 [01:32<00:00,  2.10it/s]\n",
            "100%|██████████| 1/1 [00:07<00:00,  7.81s/it]\n"
          ]
        },
        {
          "name": "stdout",
          "output_type": "stream",
          "text": [
            "[ Valid | 167/300 ] acc = 0.74242\n"
          ]
        },
        {
          "name": "stderr",
          "output_type": "stream",
          "text": [
            "100%|██████████| 193/193 [01:32<00:00,  2.08it/s]\n",
            "100%|██████████| 1/1 [00:07<00:00,  7.66s/it]\n"
          ]
        },
        {
          "name": "stdout",
          "output_type": "stream",
          "text": [
            "[ Valid | 168/300 ] acc = 0.75152\n"
          ]
        },
        {
          "name": "stderr",
          "output_type": "stream",
          "text": [
            "100%|██████████| 193/193 [01:33<00:00,  2.07it/s]\n",
            "100%|██████████| 1/1 [00:07<00:00,  7.03s/it]\n"
          ]
        },
        {
          "name": "stdout",
          "output_type": "stream",
          "text": [
            "[ Valid | 169/300 ] acc = 0.76364\n"
          ]
        },
        {
          "name": "stderr",
          "output_type": "stream",
          "text": [
            "100%|██████████| 193/193 [01:33<00:00,  2.07it/s]\n",
            "100%|██████████| 1/1 [00:07<00:00,  7.02s/it]\n"
          ]
        },
        {
          "name": "stdout",
          "output_type": "stream",
          "text": [
            "[ Valid | 170/300 ] acc = 0.75152\n"
          ]
        },
        {
          "name": "stderr",
          "output_type": "stream",
          "text": [
            "100%|██████████| 193/193 [01:33<00:00,  2.07it/s]\n",
            "100%|██████████| 1/1 [00:07<00:00,  7.12s/it]\n"
          ]
        },
        {
          "name": "stdout",
          "output_type": "stream",
          "text": [
            "[ Valid | 171/300 ] acc = 0.77879\n"
          ]
        },
        {
          "name": "stderr",
          "output_type": "stream",
          "text": [
            "100%|██████████| 193/193 [01:31<00:00,  2.11it/s]\n",
            "100%|██████████| 1/1 [00:07<00:00,  7.01s/it]\n"
          ]
        },
        {
          "name": "stdout",
          "output_type": "stream",
          "text": [
            "[ Valid | 172/300 ] acc = 0.76818\n"
          ]
        },
        {
          "name": "stderr",
          "output_type": "stream",
          "text": [
            "100%|██████████| 193/193 [01:32<00:00,  2.08it/s]\n",
            "100%|██████████| 1/1 [00:06<00:00,  6.73s/it]\n"
          ]
        },
        {
          "name": "stdout",
          "output_type": "stream",
          "text": [
            "[ Valid | 173/300 ] acc = 0.76667\n"
          ]
        },
        {
          "name": "stderr",
          "output_type": "stream",
          "text": [
            "100%|██████████| 193/193 [01:32<00:00,  2.08it/s]\n",
            "100%|██████████| 1/1 [00:06<00:00,  6.77s/it]\n"
          ]
        },
        {
          "name": "stdout",
          "output_type": "stream",
          "text": [
            "[ Valid | 174/300 ] acc = 0.77879\n"
          ]
        },
        {
          "name": "stderr",
          "output_type": "stream",
          "text": [
            "100%|██████████| 193/193 [01:33<00:00,  2.07it/s]\n",
            "100%|██████████| 1/1 [00:07<00:00,  7.35s/it]\n"
          ]
        },
        {
          "name": "stdout",
          "output_type": "stream",
          "text": [
            "[ Valid | 175/300 ] acc = 0.76212\n"
          ]
        },
        {
          "name": "stderr",
          "output_type": "stream",
          "text": [
            "100%|██████████| 193/193 [01:32<00:00,  2.09it/s]\n",
            "100%|██████████| 1/1 [00:06<00:00,  6.82s/it]\n"
          ]
        },
        {
          "name": "stdout",
          "output_type": "stream",
          "text": [
            "[ Valid | 176/300 ] acc = 0.74545\n"
          ]
        },
        {
          "name": "stderr",
          "output_type": "stream",
          "text": [
            "100%|██████████| 193/193 [01:34<00:00,  2.05it/s]\n",
            "100%|██████████| 1/1 [00:06<00:00,  6.82s/it]\n"
          ]
        },
        {
          "name": "stdout",
          "output_type": "stream",
          "text": [
            "[ Valid | 177/300 ] acc = 0.77576\n"
          ]
        },
        {
          "name": "stderr",
          "output_type": "stream",
          "text": [
            "100%|██████████| 193/193 [01:33<00:00,  2.06it/s]\n",
            "100%|██████████| 1/1 [00:07<00:00,  7.08s/it]\n"
          ]
        },
        {
          "name": "stdout",
          "output_type": "stream",
          "text": [
            "[ Valid | 178/300 ] acc = 0.77576\n"
          ]
        },
        {
          "name": "stderr",
          "output_type": "stream",
          "text": [
            "100%|██████████| 193/193 [01:33<00:00,  2.07it/s]\n",
            "100%|██████████| 1/1 [00:07<00:00,  7.01s/it]\n"
          ]
        },
        {
          "name": "stdout",
          "output_type": "stream",
          "text": [
            "[ Valid | 179/300 ] acc = 0.75909\n"
          ]
        },
        {
          "name": "stderr",
          "output_type": "stream",
          "text": [
            "100%|██████████| 193/193 [01:32<00:00,  2.09it/s]\n",
            "100%|██████████| 1/1 [00:07<00:00,  7.09s/it]\n"
          ]
        },
        {
          "name": "stdout",
          "output_type": "stream",
          "text": [
            "[ Valid | 180/300 ] acc = 0.76364\n"
          ]
        },
        {
          "name": "stderr",
          "output_type": "stream",
          "text": [
            "100%|██████████| 193/193 [01:33<00:00,  2.06it/s]\n",
            "100%|██████████| 1/1 [00:07<00:00,  7.55s/it]\n"
          ]
        },
        {
          "name": "stdout",
          "output_type": "stream",
          "text": [
            "[ Valid | 181/300 ] acc = 0.75303\n"
          ]
        },
        {
          "name": "stderr",
          "output_type": "stream",
          "text": [
            "100%|██████████| 193/193 [01:33<00:00,  2.07it/s]\n",
            "100%|██████████| 1/1 [00:06<00:00,  6.82s/it]\n"
          ]
        },
        {
          "name": "stdout",
          "output_type": "stream",
          "text": [
            "[ Valid | 182/300 ] acc = 0.77576\n"
          ]
        },
        {
          "name": "stderr",
          "output_type": "stream",
          "text": [
            "100%|██████████| 193/193 [01:32<00:00,  2.08it/s]\n",
            "100%|██████████| 1/1 [00:07<00:00,  7.32s/it]\n"
          ]
        },
        {
          "name": "stdout",
          "output_type": "stream",
          "text": [
            "[ Valid | 183/300 ] acc = 0.78182\n"
          ]
        },
        {
          "name": "stderr",
          "output_type": "stream",
          "text": [
            "100%|██████████| 193/193 [01:32<00:00,  2.10it/s]\n",
            "100%|██████████| 1/1 [00:06<00:00,  6.92s/it]\n"
          ]
        },
        {
          "name": "stdout",
          "output_type": "stream",
          "text": [
            "[ Valid | 184/300 ] acc = 0.73939\n"
          ]
        },
        {
          "name": "stderr",
          "output_type": "stream",
          "text": [
            "100%|██████████| 193/193 [01:33<00:00,  2.06it/s]\n",
            "100%|██████████| 1/1 [00:06<00:00,  6.78s/it]\n"
          ]
        },
        {
          "name": "stdout",
          "output_type": "stream",
          "text": [
            "[ Valid | 185/300 ] acc = 0.78030\n"
          ]
        },
        {
          "name": "stderr",
          "output_type": "stream",
          "text": [
            "100%|██████████| 193/193 [01:32<00:00,  2.08it/s]\n",
            "100%|██████████| 1/1 [00:06<00:00,  6.75s/it]\n"
          ]
        },
        {
          "name": "stdout",
          "output_type": "stream",
          "text": [
            "[ Valid | 186/300 ] acc = 0.77424\n"
          ]
        },
        {
          "name": "stderr",
          "output_type": "stream",
          "text": [
            "100%|██████████| 193/193 [01:32<00:00,  2.09it/s]\n",
            "100%|██████████| 1/1 [00:07<00:00,  7.33s/it]\n"
          ]
        },
        {
          "name": "stdout",
          "output_type": "stream",
          "text": [
            "[ Valid | 187/300 ] acc = 0.75303\n"
          ]
        },
        {
          "name": "stderr",
          "output_type": "stream",
          "text": [
            "100%|██████████| 193/193 [01:32<00:00,  2.08it/s]\n",
            "100%|██████████| 1/1 [00:07<00:00,  7.31s/it]\n"
          ]
        },
        {
          "name": "stdout",
          "output_type": "stream",
          "text": [
            "[ Valid | 188/300 ] acc = 0.77879\n"
          ]
        },
        {
          "name": "stderr",
          "output_type": "stream",
          "text": [
            "100%|██████████| 193/193 [01:32<00:00,  2.08it/s]\n",
            "100%|██████████| 1/1 [00:06<00:00,  6.98s/it]\n"
          ]
        },
        {
          "name": "stdout",
          "output_type": "stream",
          "text": [
            "[ Valid | 189/300 ] acc = 0.78182\n"
          ]
        },
        {
          "name": "stderr",
          "output_type": "stream",
          "text": [
            "100%|██████████| 193/193 [01:32<00:00,  2.08it/s]\n",
            "100%|██████████| 1/1 [00:07<00:00,  7.04s/it]\n"
          ]
        },
        {
          "name": "stdout",
          "output_type": "stream",
          "text": [
            "[ Valid | 190/300 ] acc = 0.73636\n"
          ]
        },
        {
          "name": "stderr",
          "output_type": "stream",
          "text": [
            "100%|██████████| 193/193 [01:31<00:00,  2.11it/s]\n",
            "100%|██████████| 1/1 [00:08<00:00,  8.07s/it]\n"
          ]
        },
        {
          "name": "stdout",
          "output_type": "stream",
          "text": [
            "[ Valid | 191/300 ] acc = 0.76667\n"
          ]
        },
        {
          "name": "stderr",
          "output_type": "stream",
          "text": [
            "100%|██████████| 193/193 [01:31<00:00,  2.10it/s]\n",
            "100%|██████████| 1/1 [00:06<00:00,  6.98s/it]\n"
          ]
        },
        {
          "name": "stdout",
          "output_type": "stream",
          "text": [
            "[ Valid | 192/300 ] acc = 0.75455\n"
          ]
        },
        {
          "name": "stderr",
          "output_type": "stream",
          "text": [
            "100%|██████████| 193/193 [01:33<00:00,  2.07it/s]\n",
            "100%|██████████| 1/1 [00:07<00:00,  7.16s/it]\n"
          ]
        },
        {
          "name": "stdout",
          "output_type": "stream",
          "text": [
            "[ Valid | 193/300 ] acc = 0.77576\n"
          ]
        },
        {
          "name": "stderr",
          "output_type": "stream",
          "text": [
            "100%|██████████| 193/193 [01:32<00:00,  2.08it/s]\n",
            "100%|██████████| 1/1 [00:07<00:00,  7.02s/it]\n"
          ]
        },
        {
          "name": "stdout",
          "output_type": "stream",
          "text": [
            "[ Valid | 194/300 ] acc = 0.75303\n"
          ]
        },
        {
          "name": "stderr",
          "output_type": "stream",
          "text": [
            "100%|██████████| 193/193 [01:31<00:00,  2.11it/s]\n",
            "100%|██████████| 1/1 [00:07<00:00,  7.49s/it]\n"
          ]
        },
        {
          "name": "stdout",
          "output_type": "stream",
          "text": [
            "[ Valid | 195/300 ] acc = 0.77576\n"
          ]
        },
        {
          "name": "stderr",
          "output_type": "stream",
          "text": [
            "100%|██████████| 193/193 [01:33<00:00,  2.07it/s]\n",
            "100%|██████████| 1/1 [00:07<00:00,  7.01s/it]\n"
          ]
        },
        {
          "name": "stdout",
          "output_type": "stream",
          "text": [
            "[ Valid | 196/300 ] acc = 0.75000\n"
          ]
        },
        {
          "name": "stderr",
          "output_type": "stream",
          "text": [
            "100%|██████████| 193/193 [01:33<00:00,  2.07it/s]\n",
            "100%|██████████| 1/1 [00:06<00:00,  6.86s/it]\n"
          ]
        },
        {
          "name": "stdout",
          "output_type": "stream",
          "text": [
            "[ Valid | 197/300 ] acc = 0.76667\n"
          ]
        },
        {
          "name": "stderr",
          "output_type": "stream",
          "text": [
            "100%|██████████| 193/193 [01:32<00:00,  2.08it/s]\n",
            "100%|██████████| 1/1 [00:06<00:00,  6.85s/it]\n"
          ]
        },
        {
          "name": "stdout",
          "output_type": "stream",
          "text": [
            "[ Valid | 198/300 ] acc = 0.78333\n",
            "[198/300] saving model with acc 0.783\n"
          ]
        },
        {
          "name": "stderr",
          "output_type": "stream",
          "text": [
            "100%|██████████| 193/193 [01:33<00:00,  2.06it/s]\n",
            "100%|██████████| 1/1 [00:06<00:00,  6.91s/it]\n"
          ]
        },
        {
          "name": "stdout",
          "output_type": "stream",
          "text": [
            "[ Valid | 199/300 ] acc = 0.73030\n"
          ]
        },
        {
          "name": "stderr",
          "output_type": "stream",
          "text": [
            "100%|██████████| 193/193 [01:33<00:00,  2.07it/s]\n",
            "100%|██████████| 1/1 [00:06<00:00,  6.99s/it]\n"
          ]
        },
        {
          "name": "stdout",
          "output_type": "stream",
          "text": [
            "[ Valid | 200/300 ] acc = 0.79394\n",
            "[200/300] saving model with acc 0.794\n"
          ]
        },
        {
          "name": "stderr",
          "output_type": "stream",
          "text": [
            "100%|██████████| 193/193 [01:32<00:00,  2.09it/s]\n",
            "100%|██████████| 1/1 [00:08<00:00,  8.09s/it]\n"
          ]
        },
        {
          "name": "stdout",
          "output_type": "stream",
          "text": [
            "[ Valid | 201/300 ] acc = 0.79394\n"
          ]
        },
        {
          "name": "stderr",
          "output_type": "stream",
          "text": [
            "100%|██████████| 193/193 [01:31<00:00,  2.12it/s]\n",
            "100%|██████████| 1/1 [00:07<00:00,  7.11s/it]\n"
          ]
        },
        {
          "name": "stdout",
          "output_type": "stream",
          "text": [
            "[ Valid | 202/300 ] acc = 0.78333\n"
          ]
        },
        {
          "name": "stderr",
          "output_type": "stream",
          "text": [
            "100%|██████████| 193/193 [01:32<00:00,  2.08it/s]\n",
            "100%|██████████| 1/1 [00:06<00:00,  6.98s/it]\n"
          ]
        },
        {
          "name": "stdout",
          "output_type": "stream",
          "text": [
            "[ Valid | 203/300 ] acc = 0.76667\n"
          ]
        },
        {
          "name": "stderr",
          "output_type": "stream",
          "text": [
            "100%|██████████| 193/193 [01:30<00:00,  2.13it/s]\n",
            "100%|██████████| 1/1 [00:06<00:00,  6.98s/it]\n"
          ]
        },
        {
          "name": "stdout",
          "output_type": "stream",
          "text": [
            "[ Valid | 204/300 ] acc = 0.77727\n"
          ]
        },
        {
          "name": "stderr",
          "output_type": "stream",
          "text": [
            "100%|██████████| 193/193 [01:31<00:00,  2.10it/s]\n",
            "100%|██████████| 1/1 [00:07<00:00,  7.05s/it]\n"
          ]
        },
        {
          "name": "stdout",
          "output_type": "stream",
          "text": [
            "[ Valid | 205/300 ] acc = 0.77576\n"
          ]
        },
        {
          "name": "stderr",
          "output_type": "stream",
          "text": [
            "100%|██████████| 193/193 [01:31<00:00,  2.12it/s]\n",
            "100%|██████████| 1/1 [00:07<00:00,  7.03s/it]\n"
          ]
        },
        {
          "name": "stdout",
          "output_type": "stream",
          "text": [
            "[ Valid | 206/300 ] acc = 0.75303\n"
          ]
        },
        {
          "name": "stderr",
          "output_type": "stream",
          "text": [
            "100%|██████████| 193/193 [01:31<00:00,  2.10it/s]\n",
            "100%|██████████| 1/1 [00:07<00:00,  7.19s/it]\n"
          ]
        },
        {
          "name": "stdout",
          "output_type": "stream",
          "text": [
            "[ Valid | 207/300 ] acc = 0.78485\n"
          ]
        },
        {
          "name": "stderr",
          "output_type": "stream",
          "text": [
            "100%|██████████| 193/193 [01:30<00:00,  2.12it/s]\n",
            "100%|██████████| 1/1 [00:06<00:00,  6.84s/it]\n"
          ]
        },
        {
          "name": "stdout",
          "output_type": "stream",
          "text": [
            "[ Valid | 208/300 ] acc = 0.78788\n"
          ]
        },
        {
          "name": "stderr",
          "output_type": "stream",
          "text": [
            "100%|██████████| 193/193 [01:32<00:00,  2.09it/s]\n",
            "100%|██████████| 1/1 [00:07<00:00,  7.57s/it]\n"
          ]
        },
        {
          "name": "stdout",
          "output_type": "stream",
          "text": [
            "[ Valid | 209/300 ] acc = 0.79848\n",
            "[209/300] saving model with acc 0.798\n"
          ]
        },
        {
          "name": "stderr",
          "output_type": "stream",
          "text": [
            "100%|██████████| 193/193 [01:30<00:00,  2.13it/s]\n",
            "100%|██████████| 1/1 [00:07<00:00,  7.45s/it]\n"
          ]
        },
        {
          "name": "stdout",
          "output_type": "stream",
          "text": [
            "[ Valid | 210/300 ] acc = 0.78485\n"
          ]
        },
        {
          "name": "stderr",
          "output_type": "stream",
          "text": [
            "100%|██████████| 193/193 [01:31<00:00,  2.10it/s]\n",
            "100%|██████████| 1/1 [00:06<00:00,  6.99s/it]\n"
          ]
        },
        {
          "name": "stdout",
          "output_type": "stream",
          "text": [
            "[ Valid | 211/300 ] acc = 0.77424\n"
          ]
        },
        {
          "name": "stderr",
          "output_type": "stream",
          "text": [
            "100%|██████████| 193/193 [01:30<00:00,  2.13it/s]\n",
            "100%|██████████| 1/1 [00:06<00:00,  6.84s/it]\n"
          ]
        },
        {
          "name": "stdout",
          "output_type": "stream",
          "text": [
            "[ Valid | 212/300 ] acc = 0.77273\n"
          ]
        },
        {
          "name": "stderr",
          "output_type": "stream",
          "text": [
            "100%|██████████| 193/193 [01:31<00:00,  2.11it/s]\n",
            "100%|██████████| 1/1 [00:07<00:00,  7.12s/it]\n"
          ]
        },
        {
          "name": "stdout",
          "output_type": "stream",
          "text": [
            "[ Valid | 213/300 ] acc = 0.78788\n"
          ]
        },
        {
          "name": "stderr",
          "output_type": "stream",
          "text": [
            "100%|██████████| 193/193 [01:30<00:00,  2.13it/s]\n",
            "100%|██████████| 1/1 [00:06<00:00,  6.77s/it]\n"
          ]
        },
        {
          "name": "stdout",
          "output_type": "stream",
          "text": [
            "[ Valid | 214/300 ] acc = 0.78485\n"
          ]
        },
        {
          "name": "stderr",
          "output_type": "stream",
          "text": [
            "100%|██████████| 193/193 [01:31<00:00,  2.11it/s]\n",
            "100%|██████████| 1/1 [00:07<00:00,  7.67s/it]\n"
          ]
        },
        {
          "name": "stdout",
          "output_type": "stream",
          "text": [
            "[ Valid | 215/300 ] acc = 0.78333\n"
          ]
        },
        {
          "name": "stderr",
          "output_type": "stream",
          "text": [
            "100%|██████████| 193/193 [01:31<00:00,  2.11it/s]\n",
            "100%|██████████| 1/1 [00:06<00:00,  6.89s/it]\n"
          ]
        },
        {
          "name": "stdout",
          "output_type": "stream",
          "text": [
            "[ Valid | 216/300 ] acc = 0.78485\n"
          ]
        },
        {
          "name": "stderr",
          "output_type": "stream",
          "text": [
            "100%|██████████| 193/193 [01:30<00:00,  2.12it/s]\n",
            "100%|██████████| 1/1 [00:07<00:00,  7.82s/it]\n"
          ]
        },
        {
          "name": "stdout",
          "output_type": "stream",
          "text": [
            "[ Valid | 217/300 ] acc = 0.79848\n"
          ]
        },
        {
          "name": "stderr",
          "output_type": "stream",
          "text": [
            "100%|██████████| 193/193 [01:30<00:00,  2.12it/s]\n",
            "100%|██████████| 1/1 [00:06<00:00,  6.93s/it]\n"
          ]
        },
        {
          "name": "stdout",
          "output_type": "stream",
          "text": [
            "[ Valid | 218/300 ] acc = 0.78333\n"
          ]
        },
        {
          "name": "stderr",
          "output_type": "stream",
          "text": [
            "100%|██████████| 193/193 [01:30<00:00,  2.13it/s]\n",
            "100%|██████████| 1/1 [00:07<00:00,  7.60s/it]\n"
          ]
        },
        {
          "name": "stdout",
          "output_type": "stream",
          "text": [
            "[ Valid | 219/300 ] acc = 0.76667\n"
          ]
        },
        {
          "name": "stderr",
          "output_type": "stream",
          "text": [
            "100%|██████████| 193/193 [01:31<00:00,  2.10it/s]\n",
            "100%|██████████| 1/1 [00:07<00:00,  7.18s/it]\n"
          ]
        },
        {
          "name": "stdout",
          "output_type": "stream",
          "text": [
            "[ Valid | 220/300 ] acc = 0.79091\n"
          ]
        },
        {
          "name": "stderr",
          "output_type": "stream",
          "text": [
            "100%|██████████| 193/193 [01:31<00:00,  2.12it/s]\n",
            "100%|██████████| 1/1 [00:07<00:00,  7.25s/it]\n"
          ]
        },
        {
          "name": "stdout",
          "output_type": "stream",
          "text": [
            "[ Valid | 221/300 ] acc = 0.80303\n",
            "[221/300] saving model with acc 0.803\n"
          ]
        },
        {
          "name": "stderr",
          "output_type": "stream",
          "text": [
            "100%|██████████| 6786/6786 [09:18<00:00, 12.15it/s]\n"
          ]
        },
        {
          "name": "stdout",
          "output_type": "stream",
          "text": [
            "[4124/6786] images have been labeled.\n"
          ]
        },
        {
          "name": "stderr",
          "output_type": "stream",
          "text": [
            "100%|██████████| 322/322 [02:25<00:00,  2.22it/s]\n",
            "100%|██████████| 1/1 [00:07<00:00,  7.30s/it]\n"
          ]
        },
        {
          "name": "stdout",
          "output_type": "stream",
          "text": [
            "[ Valid | 222/300 ] acc = 0.59242\n"
          ]
        },
        {
          "name": "stderr",
          "output_type": "stream",
          "text": [
            "100%|██████████| 322/322 [02:27<00:00,  2.18it/s]\n",
            "100%|██████████| 1/1 [00:07<00:00,  7.01s/it]\n"
          ]
        },
        {
          "name": "stdout",
          "output_type": "stream",
          "text": [
            "[ Valid | 223/300 ] acc = 0.60152\n"
          ]
        },
        {
          "name": "stderr",
          "output_type": "stream",
          "text": [
            "100%|██████████| 322/322 [02:25<00:00,  2.21it/s]\n",
            "100%|██████████| 1/1 [00:07<00:00,  7.19s/it]\n"
          ]
        },
        {
          "name": "stdout",
          "output_type": "stream",
          "text": [
            "[ Valid | 224/300 ] acc = 0.68030\n"
          ]
        },
        {
          "name": "stderr",
          "output_type": "stream",
          "text": [
            "100%|██████████| 322/322 [02:25<00:00,  2.21it/s]\n",
            "100%|██████████| 1/1 [00:07<00:00,  7.21s/it]\n"
          ]
        },
        {
          "name": "stdout",
          "output_type": "stream",
          "text": [
            "[ Valid | 225/300 ] acc = 0.66970\n"
          ]
        },
        {
          "name": "stderr",
          "output_type": "stream",
          "text": [
            "100%|██████████| 322/322 [02:24<00:00,  2.22it/s]\n",
            "100%|██████████| 1/1 [00:07<00:00,  7.20s/it]\n"
          ]
        },
        {
          "name": "stdout",
          "output_type": "stream",
          "text": [
            "[ Valid | 226/300 ] acc = 0.70152\n"
          ]
        },
        {
          "name": "stderr",
          "output_type": "stream",
          "text": [
            "100%|██████████| 322/322 [02:26<00:00,  2.20it/s]\n",
            "100%|██████████| 1/1 [00:07<00:00,  7.34s/it]\n"
          ]
        },
        {
          "name": "stdout",
          "output_type": "stream",
          "text": [
            "[ Valid | 227/300 ] acc = 0.72727\n"
          ]
        },
        {
          "name": "stderr",
          "output_type": "stream",
          "text": [
            "100%|██████████| 322/322 [02:24<00:00,  2.23it/s]\n",
            "100%|██████████| 1/1 [00:06<00:00,  6.81s/it]\n"
          ]
        },
        {
          "name": "stdout",
          "output_type": "stream",
          "text": [
            "[ Valid | 228/300 ] acc = 0.66667\n"
          ]
        },
        {
          "name": "stderr",
          "output_type": "stream",
          "text": [
            "100%|██████████| 322/322 [02:25<00:00,  2.21it/s]\n",
            "100%|██████████| 1/1 [00:07<00:00,  7.02s/it]\n"
          ]
        },
        {
          "name": "stdout",
          "output_type": "stream",
          "text": [
            "[ Valid | 229/300 ] acc = 0.74545\n"
          ]
        },
        {
          "name": "stderr",
          "output_type": "stream",
          "text": [
            "100%|██████████| 322/322 [02:24<00:00,  2.22it/s]\n",
            "100%|██████████| 1/1 [00:07<00:00,  7.04s/it]\n"
          ]
        },
        {
          "name": "stdout",
          "output_type": "stream",
          "text": [
            "[ Valid | 230/300 ] acc = 0.72273\n"
          ]
        },
        {
          "name": "stderr",
          "output_type": "stream",
          "text": [
            "100%|██████████| 322/322 [02:26<00:00,  2.20it/s]\n",
            "100%|██████████| 1/1 [00:06<00:00,  6.99s/it]\n"
          ]
        },
        {
          "name": "stdout",
          "output_type": "stream",
          "text": [
            "[ Valid | 231/300 ] acc = 0.70909\n"
          ]
        },
        {
          "name": "stderr",
          "output_type": "stream",
          "text": [
            "100%|██████████| 322/322 [02:24<00:00,  2.23it/s]\n",
            "100%|██████████| 1/1 [00:07<00:00,  7.48s/it]\n"
          ]
        },
        {
          "name": "stdout",
          "output_type": "stream",
          "text": [
            "[ Valid | 232/300 ] acc = 0.69242\n"
          ]
        },
        {
          "name": "stderr",
          "output_type": "stream",
          "text": [
            "100%|██████████| 322/322 [02:24<00:00,  2.23it/s]\n",
            "100%|██████████| 1/1 [00:06<00:00,  6.82s/it]\n"
          ]
        },
        {
          "name": "stdout",
          "output_type": "stream",
          "text": [
            "[ Valid | 233/300 ] acc = 0.76364\n"
          ]
        },
        {
          "name": "stderr",
          "output_type": "stream",
          "text": [
            "100%|██████████| 322/322 [02:23<00:00,  2.24it/s]\n",
            "100%|██████████| 1/1 [00:06<00:00,  6.81s/it]\n"
          ]
        },
        {
          "name": "stdout",
          "output_type": "stream",
          "text": [
            "[ Valid | 234/300 ] acc = 0.77273\n"
          ]
        },
        {
          "name": "stderr",
          "output_type": "stream",
          "text": [
            "100%|██████████| 322/322 [02:26<00:00,  2.20it/s]\n",
            "100%|██████████| 1/1 [00:06<00:00,  6.98s/it]\n"
          ]
        },
        {
          "name": "stdout",
          "output_type": "stream",
          "text": [
            "[ Valid | 235/300 ] acc = 0.76667\n"
          ]
        },
        {
          "name": "stderr",
          "output_type": "stream",
          "text": [
            "100%|██████████| 322/322 [02:25<00:00,  2.22it/s]\n",
            "100%|██████████| 1/1 [00:06<00:00,  6.77s/it]\n"
          ]
        },
        {
          "name": "stdout",
          "output_type": "stream",
          "text": [
            "[ Valid | 236/300 ] acc = 0.77424\n"
          ]
        },
        {
          "name": "stderr",
          "output_type": "stream",
          "text": [
            "100%|██████████| 322/322 [02:24<00:00,  2.23it/s]\n",
            "100%|██████████| 1/1 [00:07<00:00,  7.52s/it]\n"
          ]
        },
        {
          "name": "stdout",
          "output_type": "stream",
          "text": [
            "[ Valid | 237/300 ] acc = 0.78636\n"
          ]
        },
        {
          "name": "stderr",
          "output_type": "stream",
          "text": [
            "100%|██████████| 322/322 [02:24<00:00,  2.22it/s]\n",
            "100%|██████████| 1/1 [00:07<00:00,  7.06s/it]\n"
          ]
        },
        {
          "name": "stdout",
          "output_type": "stream",
          "text": [
            "[ Valid | 238/300 ] acc = 0.76970\n"
          ]
        },
        {
          "name": "stderr",
          "output_type": "stream",
          "text": [
            "100%|██████████| 322/322 [02:24<00:00,  2.23it/s]\n",
            "100%|██████████| 1/1 [00:08<00:00,  8.05s/it]\n"
          ]
        },
        {
          "name": "stdout",
          "output_type": "stream",
          "text": [
            "[ Valid | 239/300 ] acc = 0.78636\n"
          ]
        },
        {
          "name": "stderr",
          "output_type": "stream",
          "text": [
            "100%|██████████| 322/322 [02:25<00:00,  2.22it/s]\n",
            "100%|██████████| 1/1 [00:06<00:00,  6.88s/it]\n"
          ]
        },
        {
          "name": "stdout",
          "output_type": "stream",
          "text": [
            "[ Valid | 240/300 ] acc = 0.77273\n"
          ]
        },
        {
          "name": "stderr",
          "output_type": "stream",
          "text": [
            "100%|██████████| 322/322 [02:24<00:00,  2.22it/s]\n",
            "100%|██████████| 1/1 [00:06<00:00,  6.83s/it]\n"
          ]
        },
        {
          "name": "stdout",
          "output_type": "stream",
          "text": [
            "[ Valid | 241/300 ] acc = 0.78030\n"
          ]
        },
        {
          "name": "stderr",
          "output_type": "stream",
          "text": [
            "100%|██████████| 322/322 [02:24<00:00,  2.22it/s]\n",
            "100%|██████████| 1/1 [00:07<00:00,  7.24s/it]\n"
          ]
        },
        {
          "name": "stdout",
          "output_type": "stream",
          "text": [
            "[ Valid | 242/300 ] acc = 0.78939\n"
          ]
        },
        {
          "name": "stderr",
          "output_type": "stream",
          "text": [
            "100%|██████████| 322/322 [02:24<00:00,  2.22it/s]\n",
            "100%|██████████| 1/1 [00:08<00:00,  8.65s/it]\n"
          ]
        },
        {
          "name": "stdout",
          "output_type": "stream",
          "text": [
            "[ Valid | 243/300 ] acc = 0.77424\n"
          ]
        },
        {
          "name": "stderr",
          "output_type": "stream",
          "text": [
            "100%|██████████| 322/322 [02:25<00:00,  2.21it/s]\n",
            "100%|██████████| 1/1 [00:07<00:00,  7.07s/it]\n"
          ]
        },
        {
          "name": "stdout",
          "output_type": "stream",
          "text": [
            "[ Valid | 244/300 ] acc = 0.78939\n"
          ]
        },
        {
          "name": "stderr",
          "output_type": "stream",
          "text": [
            "100%|██████████| 322/322 [02:25<00:00,  2.21it/s]\n",
            "100%|██████████| 1/1 [00:07<00:00,  7.20s/it]\n"
          ]
        },
        {
          "name": "stdout",
          "output_type": "stream",
          "text": [
            "[ Valid | 245/300 ] acc = 0.78030\n"
          ]
        },
        {
          "name": "stderr",
          "output_type": "stream",
          "text": [
            "100%|██████████| 322/322 [02:25<00:00,  2.21it/s]\n",
            "100%|██████████| 1/1 [00:07<00:00,  7.10s/it]\n"
          ]
        },
        {
          "name": "stdout",
          "output_type": "stream",
          "text": [
            "[ Valid | 246/300 ] acc = 0.79545\n"
          ]
        },
        {
          "name": "stderr",
          "output_type": "stream",
          "text": [
            "100%|██████████| 322/322 [02:25<00:00,  2.21it/s]\n",
            "100%|██████████| 1/1 [00:07<00:00,  7.50s/it]\n"
          ]
        },
        {
          "name": "stdout",
          "output_type": "stream",
          "text": [
            "[ Valid | 247/300 ] acc = 0.79545\n"
          ]
        },
        {
          "name": "stderr",
          "output_type": "stream",
          "text": [
            "100%|██████████| 322/322 [02:26<00:00,  2.19it/s]\n",
            "100%|██████████| 1/1 [00:07<00:00,  7.32s/it]\n"
          ]
        },
        {
          "name": "stdout",
          "output_type": "stream",
          "text": [
            "[ Valid | 248/300 ] acc = 0.78485\n"
          ]
        },
        {
          "name": "stderr",
          "output_type": "stream",
          "text": [
            "100%|██████████| 322/322 [02:25<00:00,  2.21it/s]\n",
            "100%|██████████| 1/1 [00:06<00:00,  6.94s/it]\n"
          ]
        },
        {
          "name": "stdout",
          "output_type": "stream",
          "text": [
            "[ Valid | 249/300 ] acc = 0.78788\n"
          ]
        },
        {
          "name": "stderr",
          "output_type": "stream",
          "text": [
            "100%|██████████| 322/322 [02:26<00:00,  2.21it/s]\n",
            "100%|██████████| 1/1 [00:06<00:00,  6.93s/it]\n"
          ]
        },
        {
          "name": "stdout",
          "output_type": "stream",
          "text": [
            "[ Valid | 250/300 ] acc = 0.79394\n"
          ]
        },
        {
          "name": "stderr",
          "output_type": "stream",
          "text": [
            "100%|██████████| 322/322 [02:26<00:00,  2.20it/s]\n",
            "100%|██████████| 1/1 [00:07<00:00,  7.06s/it]\n"
          ]
        },
        {
          "name": "stdout",
          "output_type": "stream",
          "text": [
            "[ Valid | 251/300 ] acc = 0.78788\n"
          ]
        },
        {
          "name": "stderr",
          "output_type": "stream",
          "text": [
            "100%|██████████| 322/322 [02:26<00:00,  2.19it/s]\n",
            "100%|██████████| 1/1 [00:06<00:00,  6.84s/it]\n"
          ]
        },
        {
          "name": "stdout",
          "output_type": "stream",
          "text": [
            "[ Valid | 252/300 ] acc = 0.80758\n",
            "[252/300] saving model with acc 0.808\n"
          ]
        },
        {
          "name": "stderr",
          "output_type": "stream",
          "text": [
            "100%|██████████| 2662/2662 [03:05<00:00, 14.32it/s]\n"
          ]
        },
        {
          "name": "stdout",
          "output_type": "stream",
          "text": [
            "[4701/6786] images have been labeled.\n"
          ]
        },
        {
          "name": "stderr",
          "output_type": "stream",
          "text": [
            "100%|██████████| 340/340 [02:35<00:00,  2.19it/s]\n",
            "100%|██████████| 1/1 [00:06<00:00,  6.91s/it]\n"
          ]
        },
        {
          "name": "stdout",
          "output_type": "stream",
          "text": [
            "[ Valid | 253/300 ] acc = 0.79091\n"
          ]
        },
        {
          "name": "stderr",
          "output_type": "stream",
          "text": [
            "100%|██████████| 340/340 [02:33<00:00,  2.21it/s]\n",
            "100%|██████████| 1/1 [00:07<00:00,  7.09s/it]\n"
          ]
        },
        {
          "name": "stdout",
          "output_type": "stream",
          "text": [
            "[ Valid | 254/300 ] acc = 0.78030\n"
          ]
        },
        {
          "name": "stderr",
          "output_type": "stream",
          "text": [
            "100%|██████████| 340/340 [02:33<00:00,  2.21it/s]\n",
            "100%|██████████| 1/1 [00:07<00:00,  7.08s/it]\n"
          ]
        },
        {
          "name": "stdout",
          "output_type": "stream",
          "text": [
            "[ Valid | 255/300 ] acc = 0.78788\n"
          ]
        },
        {
          "name": "stderr",
          "output_type": "stream",
          "text": [
            "100%|██████████| 340/340 [02:35<00:00,  2.19it/s]\n",
            "100%|██████████| 1/1 [00:06<00:00,  6.85s/it]\n"
          ]
        },
        {
          "name": "stdout",
          "output_type": "stream",
          "text": [
            "[ Valid | 256/300 ] acc = 0.79091\n"
          ]
        },
        {
          "name": "stderr",
          "output_type": "stream",
          "text": [
            "100%|██████████| 340/340 [02:34<00:00,  2.21it/s]\n",
            "100%|██████████| 1/1 [00:07<00:00,  7.32s/it]\n"
          ]
        },
        {
          "name": "stdout",
          "output_type": "stream",
          "text": [
            "[ Valid | 257/300 ] acc = 0.78788\n"
          ]
        },
        {
          "name": "stderr",
          "output_type": "stream",
          "text": [
            "100%|██████████| 340/340 [02:33<00:00,  2.21it/s]\n",
            "100%|██████████| 1/1 [00:06<00:00,  6.90s/it]\n"
          ]
        },
        {
          "name": "stdout",
          "output_type": "stream",
          "text": [
            "[ Valid | 258/300 ] acc = 0.79697\n"
          ]
        },
        {
          "name": "stderr",
          "output_type": "stream",
          "text": [
            "100%|██████████| 340/340 [02:35<00:00,  2.19it/s]\n",
            "100%|██████████| 1/1 [00:07<00:00,  7.05s/it]\n"
          ]
        },
        {
          "name": "stdout",
          "output_type": "stream",
          "text": [
            "[ Valid | 259/300 ] acc = 0.80000\n"
          ]
        },
        {
          "name": "stderr",
          "output_type": "stream",
          "text": [
            "100%|██████████| 340/340 [02:33<00:00,  2.21it/s]\n",
            "100%|██████████| 1/1 [00:07<00:00,  7.39s/it]\n"
          ]
        },
        {
          "name": "stdout",
          "output_type": "stream",
          "text": [
            "[ Valid | 260/300 ] acc = 0.77424\n"
          ]
        },
        {
          "name": "stderr",
          "output_type": "stream",
          "text": [
            "100%|██████████| 340/340 [02:34<00:00,  2.20it/s]\n",
            "100%|██████████| 1/1 [00:07<00:00,  7.49s/it]\n"
          ]
        },
        {
          "name": "stdout",
          "output_type": "stream",
          "text": [
            "[ Valid | 261/300 ] acc = 0.78636\n"
          ]
        },
        {
          "name": "stderr",
          "output_type": "stream",
          "text": [
            "100%|██████████| 340/340 [02:34<00:00,  2.20it/s]\n",
            "100%|██████████| 1/1 [00:07<00:00,  7.43s/it]\n"
          ]
        },
        {
          "name": "stdout",
          "output_type": "stream",
          "text": [
            "[ Valid | 262/300 ] acc = 0.77576\n"
          ]
        },
        {
          "name": "stderr",
          "output_type": "stream",
          "text": [
            "100%|██████████| 340/340 [02:34<00:00,  2.20it/s]\n",
            "100%|██████████| 1/1 [00:07<00:00,  7.25s/it]\n"
          ]
        },
        {
          "name": "stdout",
          "output_type": "stream",
          "text": [
            "[ Valid | 263/300 ] acc = 0.78636\n"
          ]
        },
        {
          "name": "stderr",
          "output_type": "stream",
          "text": [
            "100%|██████████| 340/340 [02:34<00:00,  2.20it/s]\n",
            "100%|██████████| 1/1 [00:07<00:00,  7.12s/it]\n"
          ]
        },
        {
          "name": "stdout",
          "output_type": "stream",
          "text": [
            "[ Valid | 264/300 ] acc = 0.80000\n"
          ]
        },
        {
          "name": "stderr",
          "output_type": "stream",
          "text": [
            "100%|██████████| 340/340 [02:34<00:00,  2.20it/s]\n",
            "100%|██████████| 1/1 [00:07<00:00,  7.66s/it]\n"
          ]
        },
        {
          "name": "stdout",
          "output_type": "stream",
          "text": [
            "[ Valid | 265/300 ] acc = 0.77727\n"
          ]
        },
        {
          "name": "stderr",
          "output_type": "stream",
          "text": [
            "100%|██████████| 340/340 [02:34<00:00,  2.21it/s]\n",
            "100%|██████████| 1/1 [00:06<00:00,  6.88s/it]\n"
          ]
        },
        {
          "name": "stdout",
          "output_type": "stream",
          "text": [
            "[ Valid | 266/300 ] acc = 0.79242\n"
          ]
        },
        {
          "name": "stderr",
          "output_type": "stream",
          "text": [
            "100%|██████████| 340/340 [02:35<00:00,  2.19it/s]\n",
            "100%|██████████| 1/1 [00:07<00:00,  7.08s/it]\n"
          ]
        },
        {
          "name": "stdout",
          "output_type": "stream",
          "text": [
            "[ Valid | 267/300 ] acc = 0.79091\n"
          ]
        },
        {
          "name": "stderr",
          "output_type": "stream",
          "text": [
            "100%|██████████| 340/340 [02:34<00:00,  2.20it/s]\n",
            "100%|██████████| 1/1 [00:08<00:00,  8.16s/it]\n"
          ]
        },
        {
          "name": "stdout",
          "output_type": "stream",
          "text": [
            "[ Valid | 268/300 ] acc = 0.79545\n"
          ]
        },
        {
          "name": "stderr",
          "output_type": "stream",
          "text": [
            "100%|██████████| 340/340 [02:34<00:00,  2.20it/s]\n",
            "100%|██████████| 1/1 [00:06<00:00,  6.86s/it]\n"
          ]
        },
        {
          "name": "stdout",
          "output_type": "stream",
          "text": [
            "[ Valid | 269/300 ] acc = 0.80758\n"
          ]
        },
        {
          "name": "stderr",
          "output_type": "stream",
          "text": [
            "100%|██████████| 340/340 [02:33<00:00,  2.21it/s]\n",
            "100%|██████████| 1/1 [00:07<00:00,  7.52s/it]\n"
          ]
        },
        {
          "name": "stdout",
          "output_type": "stream",
          "text": [
            "[ Valid | 270/300 ] acc = 0.78939\n"
          ]
        },
        {
          "name": "stderr",
          "output_type": "stream",
          "text": [
            "100%|██████████| 340/340 [02:35<00:00,  2.19it/s]\n",
            "100%|██████████| 1/1 [00:08<00:00,  8.75s/it]\n"
          ]
        },
        {
          "name": "stdout",
          "output_type": "stream",
          "text": [
            "[ Valid | 271/300 ] acc = 0.79242\n"
          ]
        },
        {
          "name": "stderr",
          "output_type": "stream",
          "text": [
            "100%|██████████| 340/340 [02:35<00:00,  2.19it/s]\n",
            "100%|██████████| 1/1 [00:07<00:00,  7.03s/it]\n"
          ]
        },
        {
          "name": "stdout",
          "output_type": "stream",
          "text": [
            "[ Valid | 272/300 ] acc = 0.79848\n"
          ]
        },
        {
          "name": "stderr",
          "output_type": "stream",
          "text": [
            "100%|██████████| 340/340 [02:35<00:00,  2.19it/s]\n",
            "100%|██████████| 1/1 [00:06<00:00,  6.80s/it]\n"
          ]
        },
        {
          "name": "stdout",
          "output_type": "stream",
          "text": [
            "[ Valid | 273/300 ] acc = 0.79697\n"
          ]
        },
        {
          "name": "stderr",
          "output_type": "stream",
          "text": [
            "100%|██████████| 340/340 [02:35<00:00,  2.19it/s]\n",
            "100%|██████████| 1/1 [00:08<00:00,  8.81s/it]\n"
          ]
        },
        {
          "name": "stdout",
          "output_type": "stream",
          "text": [
            "[ Valid | 274/300 ] acc = 0.80758\n"
          ]
        },
        {
          "name": "stderr",
          "output_type": "stream",
          "text": [
            "100%|██████████| 340/340 [02:33<00:00,  2.21it/s]\n",
            "100%|██████████| 1/1 [00:07<00:00,  7.16s/it]\n"
          ]
        },
        {
          "name": "stdout",
          "output_type": "stream",
          "text": [
            "[ Valid | 275/300 ] acc = 0.80606\n"
          ]
        },
        {
          "name": "stderr",
          "output_type": "stream",
          "text": [
            "100%|██████████| 340/340 [02:34<00:00,  2.20it/s]\n",
            "100%|██████████| 1/1 [00:07<00:00,  7.14s/it]\n"
          ]
        },
        {
          "name": "stdout",
          "output_type": "stream",
          "text": [
            "[ Valid | 276/300 ] acc = 0.80152\n"
          ]
        },
        {
          "name": "stderr",
          "output_type": "stream",
          "text": [
            "100%|██████████| 340/340 [02:33<00:00,  2.21it/s]\n",
            "100%|██████████| 1/1 [00:06<00:00,  6.83s/it]\n"
          ]
        },
        {
          "name": "stdout",
          "output_type": "stream",
          "text": [
            "[ Valid | 277/300 ] acc = 0.81364\n",
            "[277/300] saving model with acc 0.814\n"
          ]
        },
        {
          "name": "stderr",
          "output_type": "stream",
          "text": [
            "100%|██████████| 2085/2085 [02:24<00:00, 14.39it/s]\n"
          ]
        },
        {
          "name": "stdout",
          "output_type": "stream",
          "text": [
            "[4996/6786] images have been labeled.\n"
          ]
        },
        {
          "name": "stderr",
          "output_type": "stream",
          "text": [
            "100%|██████████| 349/349 [02:38<00:00,  2.21it/s]\n",
            "100%|██████████| 1/1 [00:06<00:00,  6.88s/it]\n"
          ]
        },
        {
          "name": "stdout",
          "output_type": "stream",
          "text": [
            "[ Valid | 278/300 ] acc = 0.80758\n"
          ]
        },
        {
          "name": "stderr",
          "output_type": "stream",
          "text": [
            "100%|██████████| 349/349 [02:39<00:00,  2.19it/s]\n",
            "100%|██████████| 1/1 [00:07<00:00,  7.07s/it]\n"
          ]
        },
        {
          "name": "stdout",
          "output_type": "stream",
          "text": [
            "[ Valid | 279/300 ] acc = 0.81212\n"
          ]
        },
        {
          "name": "stderr",
          "output_type": "stream",
          "text": [
            "100%|██████████| 349/349 [02:39<00:00,  2.19it/s]\n",
            "100%|██████████| 1/1 [00:07<00:00,  7.10s/it]\n"
          ]
        },
        {
          "name": "stdout",
          "output_type": "stream",
          "text": [
            "[ Valid | 280/300 ] acc = 0.80909\n"
          ]
        },
        {
          "name": "stderr",
          "output_type": "stream",
          "text": [
            "100%|██████████| 349/349 [02:38<00:00,  2.20it/s]\n",
            "100%|██████████| 1/1 [00:07<00:00,  7.06s/it]\n"
          ]
        },
        {
          "name": "stdout",
          "output_type": "stream",
          "text": [
            "[ Valid | 281/300 ] acc = 0.81212\n"
          ]
        },
        {
          "name": "stderr",
          "output_type": "stream",
          "text": [
            "100%|██████████| 349/349 [02:38<00:00,  2.21it/s]\n",
            "100%|██████████| 1/1 [00:07<00:00,  7.01s/it]\n"
          ]
        },
        {
          "name": "stdout",
          "output_type": "stream",
          "text": [
            "[ Valid | 282/300 ] acc = 0.81364\n"
          ]
        },
        {
          "name": "stderr",
          "output_type": "stream",
          "text": [
            "100%|██████████| 349/349 [02:40<00:00,  2.17it/s]\n",
            "100%|██████████| 1/1 [00:07<00:00,  7.00s/it]\n"
          ]
        },
        {
          "name": "stdout",
          "output_type": "stream",
          "text": [
            "[ Valid | 283/300 ] acc = 0.80758\n"
          ]
        },
        {
          "name": "stderr",
          "output_type": "stream",
          "text": [
            "100%|██████████| 349/349 [02:38<00:00,  2.20it/s]\n",
            "100%|██████████| 1/1 [00:07<00:00,  7.10s/it]\n"
          ]
        },
        {
          "name": "stdout",
          "output_type": "stream",
          "text": [
            "[ Valid | 284/300 ] acc = 0.80455\n"
          ]
        },
        {
          "name": "stderr",
          "output_type": "stream",
          "text": [
            "100%|██████████| 349/349 [02:37<00:00,  2.21it/s]\n",
            "100%|██████████| 1/1 [00:06<00:00,  6.89s/it]\n"
          ]
        },
        {
          "name": "stdout",
          "output_type": "stream",
          "text": [
            "[ Valid | 285/300 ] acc = 0.80303\n"
          ]
        },
        {
          "name": "stderr",
          "output_type": "stream",
          "text": [
            "100%|██████████| 349/349 [02:40<00:00,  2.18it/s]\n",
            "100%|██████████| 1/1 [00:06<00:00,  6.81s/it]\n"
          ]
        },
        {
          "name": "stdout",
          "output_type": "stream",
          "text": [
            "[ Valid | 286/300 ] acc = 0.80758\n"
          ]
        },
        {
          "name": "stderr",
          "output_type": "stream",
          "text": [
            "100%|██████████| 349/349 [02:39<00:00,  2.19it/s]\n",
            "100%|██████████| 1/1 [00:06<00:00,  6.84s/it]\n"
          ]
        },
        {
          "name": "stdout",
          "output_type": "stream",
          "text": [
            "[ Valid | 287/300 ] acc = 0.81061\n"
          ]
        },
        {
          "name": "stderr",
          "output_type": "stream",
          "text": [
            "100%|██████████| 349/349 [02:39<00:00,  2.19it/s]\n",
            "100%|██████████| 1/1 [00:07<00:00,  7.54s/it]\n"
          ]
        },
        {
          "name": "stdout",
          "output_type": "stream",
          "text": [
            "[ Valid | 288/300 ] acc = 0.80606\n"
          ]
        },
        {
          "name": "stderr",
          "output_type": "stream",
          "text": [
            "100%|██████████| 349/349 [02:39<00:00,  2.18it/s]\n",
            "100%|██████████| 1/1 [00:07<00:00,  7.09s/it]\n"
          ]
        },
        {
          "name": "stdout",
          "output_type": "stream",
          "text": [
            "[ Valid | 289/300 ] acc = 0.80303\n"
          ]
        },
        {
          "name": "stderr",
          "output_type": "stream",
          "text": [
            "100%|██████████| 349/349 [02:38<00:00,  2.20it/s]\n",
            "100%|██████████| 1/1 [00:07<00:00,  7.22s/it]\n"
          ]
        },
        {
          "name": "stdout",
          "output_type": "stream",
          "text": [
            "[ Valid | 290/300 ] acc = 0.81212\n"
          ]
        },
        {
          "name": "stderr",
          "output_type": "stream",
          "text": [
            "100%|██████████| 349/349 [02:38<00:00,  2.20it/s]\n",
            "100%|██████████| 1/1 [00:06<00:00,  7.00s/it]\n"
          ]
        },
        {
          "name": "stdout",
          "output_type": "stream",
          "text": [
            "[ Valid | 291/300 ] acc = 0.80303\n"
          ]
        },
        {
          "name": "stderr",
          "output_type": "stream",
          "text": [
            "100%|██████████| 349/349 [02:40<00:00,  2.17it/s]\n",
            "100%|██████████| 1/1 [00:07<00:00,  7.31s/it]\n"
          ]
        },
        {
          "name": "stdout",
          "output_type": "stream",
          "text": [
            "[ Valid | 292/300 ] acc = 0.80455\n"
          ]
        },
        {
          "name": "stderr",
          "output_type": "stream",
          "text": [
            "100%|██████████| 349/349 [02:38<00:00,  2.20it/s]\n",
            "100%|██████████| 1/1 [00:06<00:00,  6.83s/it]\n"
          ]
        },
        {
          "name": "stdout",
          "output_type": "stream",
          "text": [
            "[ Valid | 293/300 ] acc = 0.81212\n"
          ]
        },
        {
          "name": "stderr",
          "output_type": "stream",
          "text": [
            "100%|██████████| 349/349 [02:38<00:00,  2.20it/s]\n",
            "100%|██████████| 1/1 [00:06<00:00,  6.83s/it]\n"
          ]
        },
        {
          "name": "stdout",
          "output_type": "stream",
          "text": [
            "[ Valid | 294/300 ] acc = 0.81061\n"
          ]
        },
        {
          "name": "stderr",
          "output_type": "stream",
          "text": [
            "100%|██████████| 349/349 [02:40<00:00,  2.18it/s]\n",
            "100%|██████████| 1/1 [00:06<00:00,  6.98s/it]\n"
          ]
        },
        {
          "name": "stdout",
          "output_type": "stream",
          "text": [
            "[ Valid | 295/300 ] acc = 0.81061\n"
          ]
        },
        {
          "name": "stderr",
          "output_type": "stream",
          "text": [
            "100%|██████████| 349/349 [02:38<00:00,  2.20it/s]\n",
            "100%|██████████| 1/1 [00:07<00:00,  7.33s/it]\n"
          ]
        },
        {
          "name": "stdout",
          "output_type": "stream",
          "text": [
            "[ Valid | 296/300 ] acc = 0.80909\n"
          ]
        },
        {
          "name": "stderr",
          "output_type": "stream",
          "text": [
            "100%|██████████| 349/349 [02:37<00:00,  2.21it/s]\n",
            "100%|██████████| 1/1 [00:06<00:00,  6.90s/it]\n"
          ]
        },
        {
          "name": "stdout",
          "output_type": "stream",
          "text": [
            "[ Valid | 297/300 ] acc = 0.80606\n"
          ]
        },
        {
          "name": "stderr",
          "output_type": "stream",
          "text": [
            "100%|██████████| 349/349 [02:40<00:00,  2.18it/s]\n",
            "100%|██████████| 1/1 [00:07<00:00,  7.03s/it]\n"
          ]
        },
        {
          "name": "stdout",
          "output_type": "stream",
          "text": [
            "[ Valid | 298/300 ] acc = 0.80606\n"
          ]
        },
        {
          "name": "stderr",
          "output_type": "stream",
          "text": [
            "100%|██████████| 349/349 [02:38<00:00,  2.21it/s]\n",
            "100%|██████████| 1/1 [00:07<00:00,  7.02s/it]\n"
          ]
        },
        {
          "name": "stdout",
          "output_type": "stream",
          "text": [
            "[ Valid | 299/300 ] acc = 0.80455\n"
          ]
        },
        {
          "name": "stderr",
          "output_type": "stream",
          "text": [
            "100%|██████████| 349/349 [02:38<00:00,  2.20it/s]\n",
            "100%|██████████| 1/1 [00:07<00:00,  7.48s/it]"
          ]
        },
        {
          "name": "stdout",
          "output_type": "stream",
          "text": [
            "[ Valid | 300/300 ] acc = 0.80909\n"
          ]
        },
        {
          "name": "stderr",
          "output_type": "stream",
          "text": [
            "\n"
          ]
        }
      ],
      "source": [
        "# Initialize a model, and put it on the device specified.\n",
        "#models = [Net().cuda() for i in range(model_number)]\n",
        "model_number = 5\n",
        "models = []\n",
        "\n",
        "for i in range(model_number):\n",
        "    model = torchvision.models.resnet34(pretrained = False)\n",
        "    model.fc = nn.Linear(512, 11)\n",
        "    models.append(model.cuda())\n",
        "\n",
        "# For the classification task, we use cross-entropy as the measurement of performance.\n",
        "criterion = nn.CrossEntropyLoss()\n",
        "\n",
        "# The number of training epochs.\n",
        "n_epochs = 300\n",
        "\n",
        "# Warm up\n",
        "warm_up_ratio = 0.15\n",
        "step = len(train_loader) + (6786*0.1//batch_size)\n",
        "total_step = n_epochs * step\n",
        "\n",
        "# Initialize optimizer, you may fine-tune some hyperparameters such as learning rate on your own.\n",
        "optimizer = torch.optim.RAdam([{\"params\":model.parameters()} for model in models], lr=1e-3, weight_decay=1e-4)\n",
        "scheduler = get_linear_schedule_with_warmup(optimizer, num_warmup_steps = warm_up_ratio * total_step, num_training_steps = total_step)\n",
        "\n",
        "best_acc = 0\n",
        "valid_acc_last = 0\n",
        "valid_acc_threshold = 0.8\n",
        "\n",
        "for epoch in range(n_epochs):\n",
        "    \n",
        "    # ---------- TODO ----------\n",
        "    # In each epoch, relabel the unlabeled dataset for semi-supervised learning.\n",
        "    # Then you can combine the labeled dataset and pseudo-labeled dataset for the training.\n",
        "    if valid_acc_last > valid_acc_threshold:\n",
        "        \n",
        "        valid_acc_threshold = valid_acc_last\n",
        "        \n",
        "        # Obtain pseudo-labels for unlabeled data using trained model.\n",
        "        if len(train_set) != 3080*2+6786: #3080*2+6786\n",
        "            get_pseudo_labels()\n",
        "\n",
        "        # Construct a new dataset and a data loader for training.\n",
        "        # This is used in semi-supervised learning only.\n",
        "        train_loader = DataLoader(train_set, batch_size=batch_size, shuffle=True, pin_memory=True, num_workers=2)\n",
        "\n",
        "    # ---------- Training ----------\n",
        "\n",
        "    # Iterate the training set by batches.\n",
        "    for imgs, labels in tqdm(train_loader):\n",
        "        imgs, labels = imgs.float().cuda(), labels.cuda()\n",
        "        optimizer.zero_grad()\n",
        "        for model in models:\n",
        "            model.train()\n",
        "            logits = model(imgs)\n",
        "            loss = criterion(logits, labels)\n",
        "            loss.backward()\n",
        "            \n",
        "        # Update the parameters with computed gradients.\n",
        "        optimizer.step()\n",
        "        scheduler.step()\n",
        "\n",
        "    # ---------- Validation ----------\n",
        "\n",
        "    # These are used to record information in validation.\n",
        "    pre = []\n",
        "    vote_correct = 0\n",
        "    models_correct = [0 for i in range(len(models))]\n",
        "\n",
        "    # Iterate the validation set by batches.\n",
        "    for imgs, labels in tqdm(valid_loader):\n",
        "        imgs, labels = imgs.float().cuda(), labels.cuda()\n",
        "        for i, model in enumerate(models):\n",
        "            model.eval()\n",
        "            with torch.no_grad():\n",
        "                logits = model(imgs)\n",
        "            prediction = torch.argmax(logits, 1)\n",
        "            pre_num = prediction.cpu().numpy()\n",
        "            models_correct[i] += (pre_num == labels.cpu().numpy()).sum()\n",
        "            pre.append(pre_num)\n",
        "        arr = np.array(pre)\n",
        "        pre.clear()\n",
        "        result = [Counter(arr[:,i]).most_common(1)[0][0] for i in range(arr.shape[1])]\n",
        "        vote_correct += (result == labels.cpu().numpy()).sum()\n",
        "\n",
        "    # The average loss and accuracy for entire validation set is the average of the recorded values.\n",
        "    valid_acc = vote_correct/len(valid_set)\n",
        "    valid_acc_last = valid_acc\n",
        "\n",
        "    # Print the information.\n",
        "    print(f\"[ Valid | {epoch + 1:03d}/{n_epochs:03d} ] acc = {valid_acc:.5f}\")\n",
        "    \n",
        "    if valid_acc > best_acc:\n",
        "        best_acc = valid_acc\n",
        "        for i, model in enumerate(models):\n",
        "            torch.save(model.state_dict(), './model' + str(i) + '.ckpt')\n",
        "        print('[{:03d}/{:03d}] saving model with acc {:.3f}'.format(epoch + 1, n_epochs, best_acc))"
      ]
    },
    {
      "cell_type": "code",
      "execution_count": null,
      "id": "971b4853",
      "metadata": {
        "execution": {
          "iopub.execute_input": "2022-11-20T12:08:40.318515Z",
          "iopub.status.busy": "2022-11-20T12:08:40.317409Z",
          "iopub.status.idle": "2022-11-20T12:09:38.533425Z",
          "shell.execute_reply": "2022-11-20T12:09:38.532435Z"
        },
        "id": "971b4853",
        "papermill": {
          "duration": 62.522092,
          "end_time": "2022-11-20T12:09:38.535945",
          "exception": false,
          "start_time": "2022-11-20T12:08:36.013853",
          "status": "completed"
        },
        "tags": [],
        "outputId": "5de44718-ceb6-4240-8468-ee7099d23af0"
      },
      "outputs": [
        {
          "name": "stderr",
          "output_type": "stream",
          "text": [
            "100%|██████████| 4/4 [00:57<00:00, 14.44s/it]\n"
          ]
        }
      ],
      "source": [
        "for i, model in enumerate(models):\n",
        "    model.load_state_dict(torch.load('./model' + str(i) + '.ckpt'))\n",
        "\n",
        "predictions = []\n",
        "\n",
        "# Iterate the testing set by batches.\n",
        "for imgs, labels in tqdm(test_loader):\n",
        "    imgs = imgs.float().cuda()\n",
        "    for i, model in enumerate(models):\n",
        "        model.eval()\n",
        "        with torch.no_grad():\n",
        "            logits = model(imgs)\n",
        "        prediction = torch.argmax(logits, 1)\n",
        "        pre.append(prediction.cpu().numpy())\n",
        "    arr = np.array(pre)\n",
        "    pre.clear()\n",
        "    result = [Counter(arr[:,i]).most_common(1)[0][0] for i in range(arr.shape[1])]\n",
        "    predictions.extend(result)"
      ]
    },
    {
      "cell_type": "code",
      "execution_count": null,
      "id": "15bcea26",
      "metadata": {
        "execution": {
          "iopub.execute_input": "2022-11-20T12:09:47.039251Z",
          "iopub.status.busy": "2022-11-20T12:09:47.038859Z",
          "iopub.status.idle": "2022-11-20T12:09:47.047058Z",
          "shell.execute_reply": "2022-11-20T12:09:47.046118Z"
        },
        "id": "15bcea26",
        "papermill": {
          "duration": 4.33318,
          "end_time": "2022-11-20T12:09:47.049148",
          "exception": false,
          "start_time": "2022-11-20T12:09:42.715968",
          "status": "completed"
        },
        "tags": []
      },
      "outputs": [],
      "source": [
        "# Save predictions into the file.\n",
        "with open(\"submission.csv\", \"w\") as f:\n",
        "\n",
        "    # The first row must be \"Id, Category\"\n",
        "    f.write(\"Id,Category\\n\")\n",
        "\n",
        "    # For the rest of the rows, each image id corresponds to a predicted class.\n",
        "    for i, pred in  enumerate(predictions):\n",
        "         f.write(f\"{i},{pred}\\n\")"
      ]
    }
  ],
  "metadata": {
    "kernelspec": {
      "display_name": "Python 3",
      "language": "python",
      "name": "python3"
    },
    "language_info": {
      "codemirror_mode": {
        "name": "ipython",
        "version": 3
      },
      "file_extension": ".py",
      "mimetype": "text/x-python",
      "name": "python",
      "nbconvert_exporter": "python",
      "pygments_lexer": "ipython3",
      "version": "3.7.12"
    },
    "papermill": {
      "default_parameters": {},
      "duration": 35536.032803,
      "end_time": "2022-11-20T12:09:54.330729",
      "environment_variables": {},
      "exception": null,
      "input_path": "__notebook__.ipynb",
      "output_path": "__notebook__.ipynb",
      "parameters": {},
      "start_time": "2022-11-20T02:17:38.297926",
      "version": "2.3.4"
    },
    "colab": {
      "provenance": []
    }
  },
  "nbformat": 4,
  "nbformat_minor": 5
}