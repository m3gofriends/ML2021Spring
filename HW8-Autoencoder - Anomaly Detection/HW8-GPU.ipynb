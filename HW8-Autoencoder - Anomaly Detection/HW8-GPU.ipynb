{
  "cells": [
    {
      "cell_type": "markdown",
      "source": [
        "### ---Public : 0.95400, Private : 0.95170---\n",
        "### Boss baseline : 0.86593\n",
        "### Strong baseline : 0.80725\n",
        "### Medium baseline : 0.75509\n",
        "### Simple baseline : 0.62744\n",
        "<br>\n",
        "解題思路:<br>\n",
        "這個作業是用Conv版本的AutoEncoder實作的<br>\n",
        "AutoEncoder是把圖片經過Encoder壓縮到低維度<br>\n",
        "再用Decoder還原到高維度<br>\n",
        "然後我使用nn.AdaptiveAvgPool2d將圖片從8*8的大小瞬間壓縮到只剩1*1的大小<br>\n",
        "這個過程會丟失掉超多圖片資訊<br>\n",
        "如果說訓練集圖片還原後的結果很慘<br>\n",
        "那麼那些沒看過的圖片還原回去後肯定更慘<br>\n",
        "藉此來達成使用AutoEncoder做異常檢測的任務<br>\n",
        "<br>\n",
        "然後我發現通過增加filter的數量能讓整體成績更好<br>\n",
        "其原因可能是訓練集圖片取得比較好的還原成果<br>\n",
        "而那些沒看過的圖片還是不知道如何還原<br>\n",
        "來拉大兩者間的差異<br>\n",
        "最後只訓練25個epoch是因為再多點就超過Kaggle的12小時運行限制了<br>"
      ],
      "metadata": {
        "id": "pAdGe-GQ531s"
      },
      "id": "pAdGe-GQ531s"
    },
    {
      "cell_type": "code",
      "execution_count": null,
      "id": "8af7c619",
      "metadata": {
        "execution": {
          "iopub.execute_input": "2022-11-01T18:35:00.290060Z",
          "iopub.status.busy": "2022-11-01T18:35:00.289307Z",
          "iopub.status.idle": "2022-11-01T18:35:16.753530Z",
          "shell.execute_reply": "2022-11-01T18:35:16.752180Z"
        },
        "papermill": {
          "duration": 16.474972,
          "end_time": "2022-11-01T18:35:16.756207",
          "exception": false,
          "start_time": "2022-11-01T18:35:00.281235",
          "status": "completed"
        },
        "tags": [],
        "id": "8af7c619"
      },
      "outputs": [],
      "source": [
        "!pip install transformers==4.5.0"
      ]
    },
    {
      "cell_type": "code",
      "execution_count": null,
      "id": "ec07cb6a",
      "metadata": {
        "execution": {
          "iopub.execute_input": "2022-11-01T18:35:16.767381Z",
          "iopub.status.busy": "2022-11-01T18:35:16.767072Z",
          "iopub.status.idle": "2022-11-01T18:35:49.093475Z",
          "shell.execute_reply": "2022-11-01T18:35:49.091852Z"
        },
        "papermill": {
          "duration": 32.336913,
          "end_time": "2022-11-01T18:35:49.098277",
          "exception": false,
          "start_time": "2022-11-01T18:35:16.761364",
          "status": "completed"
        },
        "tags": [],
        "id": "ec07cb6a"
      },
      "outputs": [],
      "source": [
        "!pip install gdown\n",
        "!gdown --id '1Uc1Y8YYAwj7D0_wd0MeSX3szUiIB1rLU' --output data-bin.tar.gz"
      ]
    },
    {
      "cell_type": "code",
      "execution_count": null,
      "id": "8a51dfc7",
      "metadata": {
        "execution": {
          "iopub.execute_input": "2022-11-01T18:35:49.171012Z",
          "iopub.status.busy": "2022-11-01T18:35:49.170462Z",
          "iopub.status.idle": "2022-11-01T18:36:14.610091Z",
          "shell.execute_reply": "2022-11-01T18:36:14.608339Z"
        },
        "papermill": {
          "duration": 25.496619,
          "end_time": "2022-11-01T18:36:14.619202",
          "exception": false,
          "start_time": "2022-11-01T18:35:49.122583",
          "status": "completed"
        },
        "tags": [],
        "id": "8a51dfc7",
        "outputId": "fd369193-02a7-4a9f-9a20-8103031506b7"
      },
      "outputs": [
        {
          "name": "stdout",
          "output_type": "stream",
          "text": [
            "data-bin/\r\n",
            "data-bin/testingset.npy\r\n",
            "data-bin/trainingset.npy\r\n",
            "testingset.npy\ttrainingset.npy\r\n",
            "testingset.npy\ttrainingset.npy\r\n"
          ]
        }
      ],
      "source": [
        "!tar zxvf data-bin.tar.gz\n",
        "!ls data-bin\n",
        "!ls data-bin\n",
        "!rm data-bin.tar.gz"
      ]
    },
    {
      "cell_type": "code",
      "execution_count": null,
      "id": "2e4e3ecc",
      "metadata": {
        "_cell_guid": "b1076dfc-b9ad-4769-8c92-a6c4dae69d19",
        "_uuid": "8f2839f25d086af736a60e9eeb907d3b93b6e0e5",
        "execution": {
          "iopub.execute_input": "2022-11-01T18:36:14.685186Z",
          "iopub.status.busy": "2022-11-01T18:36:14.684540Z",
          "iopub.status.idle": "2022-11-01T18:36:27.259481Z",
          "shell.execute_reply": "2022-11-01T18:36:27.258280Z"
        },
        "papermill": {
          "duration": 12.616274,
          "end_time": "2022-11-01T18:36:27.262037",
          "exception": false,
          "start_time": "2022-11-01T18:36:14.645763",
          "status": "completed"
        },
        "tags": [],
        "id": "2e4e3ecc",
        "outputId": "fb8515ba-83e8-4add-95a1-a0dee6501f74"
      },
      "outputs": [
        {
          "name": "stdout",
          "output_type": "stream",
          "text": [
            "\u001b[33mWARNING: Running pip as the 'root' user can result in broken permissions and conflicting behaviour with the system package manager. It is recommended to use a virtual environment instead: https://pip.pypa.io/warnings/venv\u001b[0m\u001b[33m\r\n",
            "\u001b[0m"
          ]
        }
      ],
      "source": [
        "# Training progress bar\n",
        "!pip install -q qqdm"
      ]
    },
    {
      "cell_type": "code",
      "execution_count": null,
      "id": "9627923e",
      "metadata": {
        "execution": {
          "iopub.execute_input": "2022-11-01T18:36:27.281983Z",
          "iopub.status.busy": "2022-11-01T18:36:27.281614Z",
          "iopub.status.idle": "2022-11-01T18:36:34.918953Z",
          "shell.execute_reply": "2022-11-01T18:36:34.917953Z"
        },
        "papermill": {
          "duration": 7.650278,
          "end_time": "2022-11-01T18:36:34.921434",
          "exception": false,
          "start_time": "2022-11-01T18:36:27.271156",
          "status": "completed"
        },
        "tags": [],
        "id": "9627923e"
      },
      "outputs": [],
      "source": [
        "import numpy as np\n",
        "import random\n",
        "import torch\n",
        "\n",
        "from torch.utils.data import DataLoader\n",
        "from torch.utils.data import (DataLoader, RandomSampler, SequentialSampler,\n",
        "                              TensorDataset)\n",
        "import torchvision.transforms as transforms\n",
        "\n",
        "from torch import nn\n",
        "import torch.nn.functional as F\n",
        "from torch.autograd import Variable\n",
        "import torchvision.models as models\n",
        "\n",
        "from torch.optim import Adam, AdamW\n",
        "\n",
        "from sklearn.cluster import MiniBatchKMeans\n",
        "from scipy.cluster.vq import vq, kmeans\n",
        "\n",
        "from qqdm import qqdm, format_str\n",
        "import pandas as pd\n",
        "\n",
        "import pdb  # use pdb.set_trace() to set breakpoints for debugging\n",
        "\n",
        "from transformers import get_linear_schedule_with_warmup"
      ]
    },
    {
      "cell_type": "code",
      "execution_count": null,
      "id": "e3b016ff",
      "metadata": {
        "execution": {
          "iopub.execute_input": "2022-11-01T18:36:34.941121Z",
          "iopub.status.busy": "2022-11-01T18:36:34.940451Z",
          "iopub.status.idle": "2022-11-01T18:36:35.544506Z",
          "shell.execute_reply": "2022-11-01T18:36:35.542844Z"
        },
        "papermill": {
          "duration": 0.616622,
          "end_time": "2022-11-01T18:36:35.547391",
          "exception": false,
          "start_time": "2022-11-01T18:36:34.930769",
          "status": "completed"
        },
        "tags": [],
        "id": "e3b016ff",
        "outputId": "797e0154-fed8-491a-b015-8c876dad6ac4"
      },
      "outputs": [
        {
          "name": "stdout",
          "output_type": "stream",
          "text": [
            "(140001, 64, 64, 3)\n",
            "(19999, 64, 64, 3)\n"
          ]
        }
      ],
      "source": [
        "train = np.load('data-bin/trainingset.npy', allow_pickle=True)\n",
        "test = np.load('data-bin/testingset.npy', allow_pickle=True)\n",
        "\n",
        "print(train.shape)\n",
        "print(test.shape)"
      ]
    },
    {
      "cell_type": "code",
      "execution_count": null,
      "id": "155c38a0",
      "metadata": {
        "execution": {
          "iopub.execute_input": "2022-11-01T18:36:35.566646Z",
          "iopub.status.busy": "2022-11-01T18:36:35.566360Z",
          "iopub.status.idle": "2022-11-01T18:36:35.636003Z",
          "shell.execute_reply": "2022-11-01T18:36:35.635110Z"
        },
        "papermill": {
          "duration": 0.081437,
          "end_time": "2022-11-01T18:36:35.638196",
          "exception": false,
          "start_time": "2022-11-01T18:36:35.556759",
          "status": "completed"
        },
        "tags": [],
        "id": "155c38a0"
      },
      "outputs": [],
      "source": [
        "def same_seeds(seed):\n",
        "    # Python built-in random module\n",
        "    random.seed(seed)\n",
        "    # Numpy\n",
        "    np.random.seed(seed)\n",
        "    # Torch\n",
        "    torch.manual_seed(seed)\n",
        "    if torch.cuda.is_available():\n",
        "        torch.cuda.manual_seed(seed)\n",
        "        torch.cuda.manual_seed_all(seed)\n",
        "    torch.backends.cudnn.benchmark = False\n",
        "    torch.backends.cudnn.deterministic = True\n",
        "\n",
        "same_seeds(19530615)"
      ]
    },
    {
      "cell_type": "code",
      "execution_count": null,
      "id": "8b25bff0",
      "metadata": {
        "execution": {
          "iopub.execute_input": "2022-11-01T18:36:35.658818Z",
          "iopub.status.busy": "2022-11-01T18:36:35.658175Z",
          "iopub.status.idle": "2022-11-01T18:36:35.692498Z",
          "shell.execute_reply": "2022-11-01T18:36:35.691663Z"
        },
        "papermill": {
          "duration": 0.046567,
          "end_time": "2022-11-01T18:36:35.694531",
          "exception": false,
          "start_time": "2022-11-01T18:36:35.647964",
          "status": "completed"
        },
        "tags": [],
        "id": "8b25bff0"
      },
      "outputs": [],
      "source": [
        "# maybe it can be smaller\n",
        "class conv_autoencoder(nn.Module):\n",
        "    def __init__(self):\n",
        "        super(conv_autoencoder, self).__init__()\n",
        "        self.encoder = nn.Sequential(\n",
        "            nn.Conv2d(3, 32*16, 4, stride=2, padding=1),  \n",
        "            nn.BatchNorm2d(32*16),\n",
        "            nn.ReLU(),\n",
        "            nn.Conv2d(32*16, 64*16, 4, stride=2, padding=1), \n",
        "            nn.BatchNorm2d(64*16),\n",
        "            nn.ReLU(),\n",
        "            nn.Conv2d(64*16, 128*16, 4, stride=2, padding=1),\n",
        "            nn.BatchNorm2d(128*16),\n",
        "            nn.ReLU(),\n",
        "            nn.AdaptiveAvgPool2d((1,1)),\n",
        "            nn.Flatten(),   \n",
        "        )\n",
        "        self.decoder = nn.Sequential(\n",
        "            nn.Linear(128*16, 128*16*8*8),\n",
        "            nn.Unflatten(1, (128*16, 8, 8)),\n",
        "            nn.ConvTranspose2d(128*16, 64*16, 4, stride=2, padding=1),\n",
        "            nn.BatchNorm2d(64*16),\n",
        "            nn.ReLU(),\n",
        "            nn.ConvTranspose2d(64*16, 32*16, 4, stride=2, padding=1),\n",
        "            nn.BatchNorm2d(32*16),\n",
        "            nn.ReLU(),\n",
        "            nn.ConvTranspose2d(32*16, 3, 4, stride=2, padding=1),\n",
        "            nn.Tanh(),\n",
        "        )\n",
        "\n",
        "    def forward(self, x):\n",
        "        x = self.encoder(x)\n",
        "        x = self.decoder(x)\n",
        "        return x\n",
        "\n",
        "class VAE(nn.Module):\n",
        "    def __init__(self):\n",
        "        super(VAE, self).__init__()\n",
        "        self.encoder = nn.Sequential(\n",
        "            nn.Conv2d(3, 12, 4, stride=2, padding=1),            \n",
        "            nn.ReLU(),\n",
        "            nn.Conv2d(12, 24, 4, stride=2, padding=1),    \n",
        "            nn.ReLU(),\n",
        "        )\n",
        "        self.enc_out_1 = nn.Sequential(\n",
        "            nn.Conv2d(24, 48, 4, stride=2, padding=1),  \n",
        "            nn.ReLU(),\n",
        "        )\n",
        "        self.enc_out_2 = nn.Sequential(\n",
        "            nn.Conv2d(24, 48, 4, stride=2, padding=1),\n",
        "            nn.ReLU(),\n",
        "        )\n",
        "        self.decoder = nn.Sequential(\n",
        "            nn.ConvTranspose2d(48, 24, 4, stride=2, padding=1), \n",
        "            nn.ReLU(),\n",
        "            nn.ConvTranspose2d(24, 12, 4, stride=2, padding=1), \n",
        "            nn.ReLU(),\n",
        "            nn.ConvTranspose2d(12, 3, 4, stride=2, padding=1), \n",
        "            nn.Tanh(),\n",
        "        )\n",
        "\n",
        "    def encode(self, x):\n",
        "        h1 = self.encoder(x)\n",
        "        return self.enc_out_1(h1), self.enc_out_2(h1)\n",
        "\n",
        "    def reparametrize(self, mu, logvar):\n",
        "        std = logvar.mul(0.5).exp_()\n",
        "        if torch.cuda.is_available():\n",
        "            eps = torch.cuda.FloatTensor(std.size()).normal_()\n",
        "        else:\n",
        "            eps = torch.FloatTensor(std.size()).normal_()\n",
        "        eps = Variable(eps)\n",
        "        return eps.mul(std).add_(mu)\n",
        "\n",
        "    def decode(self, z):\n",
        "        return self.decoder(z)\n",
        "\n",
        "    def forward(self, x):\n",
        "        mu, logvar = self.encode(x)\n",
        "        z = self.reparametrize(mu, logvar)\n",
        "        return self.decode(z), mu, logvar\n",
        "\n",
        "\n",
        "def loss_vae(recon_x, x, mu, logvar, criterion):\n",
        "    \"\"\"\n",
        "    recon_x: generating images\n",
        "    x: origin images\n",
        "    mu: latent mean\n",
        "    logvar: latent log variance\n",
        "    \"\"\"\n",
        "    mse = criterion(recon_x, x)  # mse loss\n",
        "    KLD_element = mu.pow(2).add_(logvar.exp()).mul_(-1).add_(1).add_(logvar)\n",
        "    KLD = torch.sum(KLD_element).mul_(-0.5)\n",
        "    return mse + KLD\n",
        "\n",
        "\n",
        "class Resnet(nn.Module):\n",
        "    def __init__(self, fc_hidden1=1024, fc_hidden2=768, drop_p=0.3, CNN_embed_dim=256):\n",
        "        super(Resnet, self).__init__()\n",
        "\n",
        "        self.fc_hidden1, self.fc_hidden2, self.CNN_embed_dim = fc_hidden1, fc_hidden2, CNN_embed_dim\n",
        "\n",
        "        # CNN architechtures\n",
        "        self.ch1, self.ch2, self.ch3, self.ch4 = 16, 32, 64, 128\n",
        "        self.k1, self.k2, self.k3, self.k4 = (5, 5), (3, 3), (3, 3), (3, 3)      # 2d kernal size\n",
        "        self.s1, self.s2, self.s3, self.s4 = (2, 2), (2, 2), (2, 2), (2, 2)      # 2d strides\n",
        "        self.pd1, self.pd2, self.pd3, self.pd4 = (0, 0), (0, 0), (0, 0), (0, 0)  # 2d padding\n",
        "\n",
        "        # encoding components\n",
        "        resnet = models.resnet18(pretrained=False)\n",
        "        modules = list(resnet.children())[:-1]      # delete the last fc layer.\n",
        "        self.resnet = nn.Sequential(*modules)\n",
        "        self.fc1 = nn.Linear(resnet.fc.in_features, self.fc_hidden1)\n",
        "        self.bn1 = nn.BatchNorm1d(self.fc_hidden1, momentum=0.01)\n",
        "        self.fc2 = nn.Linear(self.fc_hidden1, self.fc_hidden2)\n",
        "        self.bn2 = nn.BatchNorm1d(self.fc_hidden2, momentum=0.01)\n",
        "\n",
        "        self.fc3_mu = nn.Linear(self.fc_hidden2, self.CNN_embed_dim)      # output = CNN embedding latent variables\n",
        "\n",
        "        # Sampling vector\n",
        "        self.fc4 = nn.Linear(self.CNN_embed_dim, self.fc_hidden2)\n",
        "        self.fc_bn4 = nn.BatchNorm1d(self.fc_hidden2)\n",
        "        self.fc5 = nn.Linear(self.fc_hidden2, 64 * 4 * 4)\n",
        "        self.fc_bn5 = nn.BatchNorm1d(64 * 4 * 4)\n",
        "        self.relu = nn.ReLU(inplace=True)\n",
        "\n",
        "        # Decoder\n",
        "        self.convTrans6 = nn.Sequential(\n",
        "            nn.ConvTranspose2d(in_channels=64, out_channels=32, kernel_size=self.k4, stride=self.s4,\n",
        "                               padding=self.pd4),\n",
        "            nn.BatchNorm2d(32, momentum=0.01),\n",
        "            nn.ReLU(inplace=True),\n",
        "        )\n",
        "        self.convTrans7 = nn.Sequential(\n",
        "            nn.ConvTranspose2d(in_channels=32, out_channels=8, kernel_size=self.k3, stride=self.s3,\n",
        "                               padding=self.pd3),\n",
        "            nn.BatchNorm2d(8, momentum=0.01),\n",
        "            nn.ReLU(inplace=True),\n",
        "        )\n",
        "\n",
        "        self.convTrans8 = nn.Sequential(\n",
        "            nn.ConvTranspose2d(in_channels=8, out_channels=3, kernel_size=self.k2, stride=self.s2,\n",
        "                               padding=self.pd2),\n",
        "            nn.BatchNorm2d(3, momentum=0.01),\n",
        "            nn.Sigmoid()    # y = (y1, y2, y3) \\in [0 ,1]^3\n",
        "        )\n",
        "\n",
        "\n",
        "    def encode(self, x):\n",
        "        x = self.resnet(x)  # ResNet\n",
        "        x = x.view(x.size(0), -1)  # flatten output of conv\n",
        "\n",
        "        # FC layers\n",
        "        if x.shape[0] > 1:\n",
        "            x = self.bn1(self.fc1(x))\n",
        "        else:\n",
        "            x = self.fc1(x)\n",
        "        x = self.relu(x)\n",
        "        if x.shape[0] > 1:\n",
        "            x = self.bn2(self.fc2(x))\n",
        "        else:\n",
        "            x = self.fc2(x)\n",
        "        x = self.relu(x)\n",
        "        x = self.fc3_mu(x)\n",
        "        return x\n",
        "\n",
        "    def decode(self, z):\n",
        "        if z.shape[0] > 1:\n",
        "            x = self.relu(self.fc_bn4(self.fc4(z)))\n",
        "            x = self.relu(self.fc_bn5(self.fc5(x))).view(-1, 64, 4, 4)\n",
        "        else:\n",
        "            x = self.relu(self.fc4(z))\n",
        "            x = self.relu(self.fc5(x)).view(-1, 64, 4, 4)\n",
        "        x = self.convTrans6(x)\n",
        "        x = self.convTrans7(x)\n",
        "        x = self.convTrans8(x)\n",
        "        x = F.interpolate(x, size=(64, 64), mode='bilinear', align_corners=True)\n",
        "        return x\n",
        "\n",
        "    def forward(self, x):\n",
        "        z = self.encode(x)\n",
        "        x_reconst = self.decode(z)\n",
        "\n",
        "        return x_reconst"
      ]
    },
    {
      "cell_type": "code",
      "execution_count": null,
      "id": "ed43ec44",
      "metadata": {
        "execution": {
          "iopub.execute_input": "2022-11-01T18:36:35.713026Z",
          "iopub.status.busy": "2022-11-01T18:36:35.712748Z",
          "iopub.status.idle": "2022-11-01T18:36:35.719438Z",
          "shell.execute_reply": "2022-11-01T18:36:35.718421Z"
        },
        "papermill": {
          "duration": 0.018287,
          "end_time": "2022-11-01T18:36:35.721408",
          "exception": false,
          "start_time": "2022-11-01T18:36:35.703121",
          "status": "completed"
        },
        "tags": [],
        "id": "ed43ec44"
      },
      "outputs": [],
      "source": [
        "class CustomTensorDataset(TensorDataset):\n",
        "    \"\"\"TensorDataset with support of transforms.\n",
        "    \"\"\"\n",
        "    def __init__(self, tensors):\n",
        "        self.tensors = tensors\n",
        "        if tensors.shape[-1] == 3:\n",
        "            self.tensors = tensors.permute(0, 3, 1, 2)\n",
        "        \n",
        "        self.transform = transforms.Compose([\n",
        "                            transforms.Lambda(lambda x: x.to(torch.float32)),\n",
        "                            transforms.Lambda(lambda x: 2. * x/255. - 1.),\n",
        "                            # transforms.Normalize([0.5, 0.5, 0.5], [0.5, 0.5, 0.5]),\n",
        "                            ])\n",
        "        \n",
        "    def __getitem__(self, index):\n",
        "        x = self.tensors[index]\n",
        "        \n",
        "        if self.transform:\n",
        "            # mapping images to [-1.0, 1.0]\n",
        "            x = self.transform(x)\n",
        "\n",
        "        return x\n",
        "\n",
        "    def __len__(self):\n",
        "        return len(self.tensors)"
      ]
    },
    {
      "cell_type": "code",
      "execution_count": null,
      "id": "6798ed27",
      "metadata": {
        "execution": {
          "iopub.execute_input": "2022-11-01T18:36:35.740955Z",
          "iopub.status.busy": "2022-11-01T18:36:35.739526Z",
          "iopub.status.idle": "2022-11-01T18:36:44.960050Z",
          "shell.execute_reply": "2022-11-01T18:36:44.958907Z"
        },
        "papermill": {
          "duration": 9.232775,
          "end_time": "2022-11-01T18:36:44.962875",
          "exception": false,
          "start_time": "2022-11-01T18:36:35.730100",
          "status": "completed"
        },
        "tags": [],
        "id": "6798ed27"
      },
      "outputs": [],
      "source": [
        "# Training hyperparameters\n",
        "num_epochs = 25\n",
        "batch_size = 32 # medium: smaller batchsize\n",
        "learning_rate = 1e-3\n",
        "\n",
        "# Build training dataloader\n",
        "x = torch.from_numpy(train)\n",
        "train_dataset = CustomTensorDataset(x)\n",
        "\n",
        "train_sampler = RandomSampler(train_dataset)\n",
        "train_dataloader = DataLoader(train_dataset, sampler=train_sampler, batch_size=batch_size, pin_memory=True, num_workers=2)\n",
        "\n",
        "# Model\n",
        "model_type = 'cnn'   # selecting a model type from {'cnn', 'fcn', 'vae', 'resnet'}\n",
        "model_classes = {'resnet': Resnet(), 'cnn':conv_autoencoder(), 'vae':VAE(), }\n",
        "model = model_classes[model_type].cuda()\n",
        "\n",
        "# Warm up\n",
        "warm_up_ratio = 0.1\n",
        "step = (train.shape[0] // batch_size) + 1\n",
        "total_step = num_epochs * step\n",
        "\n",
        "# Loss and optimizer\n",
        "criterion = nn.MSELoss()\n",
        "optimizer = torch.optim.RAdam(model.parameters(), lr=learning_rate, weight_decay=0)\n",
        "scheduler = get_linear_schedule_with_warmup(optimizer, num_warmup_steps = warm_up_ratio * total_step, num_training_steps = total_step)"
      ]
    },
    {
      "cell_type": "code",
      "execution_count": null,
      "id": "00264ae3",
      "metadata": {
        "execution": {
          "iopub.execute_input": "2022-11-01T18:36:44.982688Z",
          "iopub.status.busy": "2022-11-01T18:36:44.982365Z",
          "iopub.status.idle": "2022-11-02T05:30:50.384851Z",
          "shell.execute_reply": "2022-11-02T05:30:50.383416Z"
        },
        "papermill": {
          "duration": 39245.424731,
          "end_time": "2022-11-02T05:30:50.397274",
          "exception": false,
          "start_time": "2022-11-01T18:36:44.972543",
          "status": "completed"
        },
        "tags": [],
        "id": "00264ae3",
        "outputId": "077fb141-8b2d-45c3-99c3-e4ddec9fff24"
      },
      "outputs": [
        {
          "name": "stdout",
          "output_type": "stream",
          "text": [
            "Epoch 1/25 | loss = 0.1312\n",
            "Epoch 2/25 | loss = 0.0696\n",
            "Epoch 3/25 | loss = 0.0515\n",
            "Epoch 4/25 | loss = 0.0352\n",
            "Epoch 5/25 | loss = 0.0278\n",
            "Epoch 6/25 | loss = 0.0201\n",
            "Epoch 7/25 | loss = 0.0164\n",
            "Epoch 8/25 | loss = 0.0141\n",
            "Epoch 9/25 | loss = 0.0152\n",
            "Epoch 10/25 | loss = 0.0117\n",
            "Epoch 11/25 | loss = 0.0107\n",
            "Epoch 12/25 | loss = 0.0098\n",
            "Epoch 13/25 | loss = 0.0091\n",
            "Epoch 14/25 | loss = 0.0085\n",
            "Epoch 15/25 | loss = 0.0080\n",
            "Epoch 16/25 | loss = 0.0075\n",
            "Epoch 17/25 | loss = 0.0071\n",
            "Epoch 18/25 | loss = 0.0068\n",
            "Epoch 19/25 | loss = 0.0065\n",
            "Epoch 20/25 | loss = 0.0062\n",
            "Epoch 21/25 | loss = 0.0060\n",
            "Epoch 22/25 | loss = 0.0058\n",
            "Epoch 23/25 | loss = 0.0057\n",
            "Epoch 24/25 | loss = 0.0055\n",
            "Epoch 25/25 | loss = 0.0054\n"
          ]
        }
      ],
      "source": [
        "best_loss = np.inf\n",
        "model.train()\n",
        "\n",
        "#qqdm_train = qqdm(range(num_epochs), desc=format_str('bold', 'Description'))\n",
        "for epoch in range(num_epochs):\n",
        "    tot_loss = list()\n",
        "    for data in train_dataloader:\n",
        "\n",
        "        # ===================loading=====================\n",
        "        if model_type in ['cnn', 'vae', 'resnet']:\n",
        "            img = data.float().cuda()\n",
        "        elif model_type in ['fcn']:\n",
        "            img = data.float().cuda()\n",
        "            img = img.view(img.shape[0], -1)\n",
        "\n",
        "        # ===================forward=====================\n",
        "        output = model(img)\n",
        "        if model_type in ['vae']:\n",
        "            loss = loss_vae(output[0], img, output[1], output[2], criterion)\n",
        "        else:\n",
        "            loss = criterion(output, img)\n",
        "\n",
        "        tot_loss.append(loss.item())\n",
        "        # ===================backward====================\n",
        "        optimizer.zero_grad()\n",
        "        loss.backward()\n",
        "        optimizer.step()\n",
        "        scheduler.step()\n",
        "    # ===================save_best====================\n",
        "    mean_loss = np.mean(tot_loss)\n",
        "    if mean_loss < best_loss:\n",
        "        best_loss = mean_loss\n",
        "        torch.save(model, 'best_model_{}.pt'.format(model_type))\n",
        "    # ===================log========================\n",
        "    print(f\"Epoch {epoch + 1:.0f}/{num_epochs:.0f} | loss = {mean_loss:.4f}\")\n",
        "    \"\"\"\n",
        "    qqdm_train.set_infos({\n",
        "      'epoch': f'{epoch + 1:.0f}/{num_epochs:.0f}',\n",
        "      'loss': f'{mean_loss:.4f}',\n",
        "    })\n",
        "    \"\"\"\n",
        "    # ===================save_last========================\n",
        "    #torch.save(model, 'last_model_{}.pt'.format(model_type))"
      ]
    },
    {
      "cell_type": "code",
      "execution_count": null,
      "id": "a1321e43",
      "metadata": {
        "execution": {
          "iopub.execute_input": "2022-11-02T05:30:50.419829Z",
          "iopub.status.busy": "2022-11-02T05:30:50.419484Z",
          "iopub.status.idle": "2022-11-02T05:30:52.461835Z",
          "shell.execute_reply": "2022-11-02T05:30:52.460840Z"
        },
        "papermill": {
          "duration": 2.056796,
          "end_time": "2022-11-02T05:30:52.464337",
          "exception": false,
          "start_time": "2022-11-02T05:30:50.407541",
          "status": "completed"
        },
        "tags": [],
        "id": "a1321e43"
      },
      "outputs": [],
      "source": [
        "eval_batch_size = 200\n",
        "\n",
        "# build testing dataloader\n",
        "data = torch.tensor(test, dtype=torch.float32)\n",
        "test_dataset = CustomTensorDataset(data)\n",
        "test_sampler = SequentialSampler(test_dataset)\n",
        "test_dataloader = DataLoader(test_dataset, sampler=test_sampler, batch_size=eval_batch_size, num_workers=2)\n",
        "eval_loss = nn.MSELoss(reduction='none')\n",
        "\n",
        "# load trained model\n",
        "checkpoint_path = 'best_model_cnn.pt'\n",
        "model = torch.load(checkpoint_path)\n",
        "model.eval()\n",
        "\n",
        "# prediction file \n",
        "out_file = 'submission.csv'"
      ]
    },
    {
      "cell_type": "code",
      "execution_count": null,
      "id": "7cda95a7",
      "metadata": {
        "execution": {
          "iopub.execute_input": "2022-11-02T05:30:54.854614Z",
          "iopub.status.busy": "2022-11-02T05:30:54.852062Z",
          "iopub.status.idle": "2022-11-02T05:31:49.346038Z",
          "shell.execute_reply": "2022-11-02T05:31:49.344809Z"
        },
        "papermill": {
          "duration": 56.873551,
          "end_time": "2022-11-02T05:31:49.349029",
          "exception": false,
          "start_time": "2022-11-02T05:30:52.475478",
          "status": "completed"
        },
        "tags": [],
        "id": "7cda95a7"
      },
      "outputs": [],
      "source": [
        "anomality = list()\n",
        "with torch.no_grad():\n",
        "  for i, data in enumerate(test_dataloader): \n",
        "        if model_type in ['cnn', 'vae', 'resnet']:\n",
        "            img = data.float().cuda()\n",
        "        elif model_type in ['fcn']:\n",
        "            img = data.float().cuda()\n",
        "            img = img.view(img.shape[0], -1)\n",
        "        else:\n",
        "            img = data[0].cuda()\n",
        "        output = model(img)\n",
        "        if model_type in ['cnn', 'resnet', 'fcn']:\n",
        "            output = output\n",
        "        elif model_type in ['res_vae']:\n",
        "            output = output[0]\n",
        "        elif model_type in ['vae']: # , 'vqvae'\n",
        "            output = output[0]\n",
        "        if model_type in ['fcn']:\n",
        "            loss = eval_loss(output, img).sum(-1)\n",
        "        else:\n",
        "            loss = eval_loss(output, img).sum([1, 2, 3])\n",
        "        anomality.append(loss)\n",
        "anomality = torch.cat(anomality, axis=0)\n",
        "anomality = torch.sqrt(anomality).reshape(len(test), 1).cpu().numpy()\n",
        "\n",
        "df = pd.DataFrame(anomality, columns=['Predicted'])\n",
        "df.to_csv(out_file, index_label = 'Id')"
      ]
    }
  ],
  "metadata": {
    "kernelspec": {
      "display_name": "Python 3",
      "language": "python",
      "name": "python3"
    },
    "language_info": {
      "codemirror_mode": {
        "name": "ipython",
        "version": 3
      },
      "file_extension": ".py",
      "mimetype": "text/x-python",
      "name": "python",
      "nbconvert_exporter": "python",
      "pygments_lexer": "ipython3",
      "version": "3.7.12"
    },
    "papermill": {
      "default_parameters": {},
      "duration": 39420.446098,
      "end_time": "2022-11-02T05:31:52.839593",
      "environment_variables": {},
      "exception": null,
      "input_path": "__notebook__.ipynb",
      "output_path": "__notebook__.ipynb",
      "parameters": {},
      "start_time": "2022-11-01T18:34:52.393495",
      "version": "2.3.4"
    },
    "colab": {
      "provenance": [],
      "collapsed_sections": []
    }
  },
  "nbformat": 4,
  "nbformat_minor": 5
}